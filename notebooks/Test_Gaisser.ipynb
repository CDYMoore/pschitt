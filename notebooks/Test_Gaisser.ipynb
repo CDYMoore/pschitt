{
 "cells": [
  {
   "cell_type": "code",
   "execution_count": 2,
   "metadata": {},
   "outputs": [],
   "source": [
    "import pschitt.sky_objects as sky\n",
    "import numpy as np\n",
    "import matplotlib.pyplot as plt\n",
    "import math\n",
    "import pschitt.geometry as geo\n",
    "import pschitt.vizualisation as viz\n",
    "from scipy.stats import kde\n",
    "import seaborn as sns\n",
    "import pandas as pd\n",
    "from scipy import stats\n",
    "%matplotlib inline "
   ]
  },
  {
   "cell_type": "code",
   "execution_count": 4,
   "metadata": {},
   "outputs": [],
   "source": [
    "from importlib import reload"
   ]
  },
  {
   "cell_type": "code",
   "execution_count": 5,
   "metadata": {},
   "outputs": [],
   "source": [
    "'''\n",
    "Shower parameters\n",
    "'''\n",
    "impact_point = np.array([0, 10, 0])\n",
    "\n",
    "# shower direction\n",
    "salt = math.radians(74)\n",
    "saz = math.radians(0)\n",
    "\n",
    "# pointing direction\n",
    "talt = math.radians(74)\n",
    "taz = math.radians(0)\n",
    "\n",
    "# shower parameters\n",
    "s_top = [0, 0, 15000]\n",
    "s_bot = [0, 0, 1000]\n",
    "s_center = [0, 0, 8000]\n",
    "stop = 15000\n",
    "slength = 12000\n",
    "swidth = 200\n",
    "\n",
    "\n",
    "npoints = 50000\n",
    "\n",
    "tel_normal = geo.altaz_to_normal(talt, taz)\n",
    "tel1 = geo.Telescope([500, 100, -100], tel_normal)\n",
    "alltel = [tel1]"
   ]
  },
  {
   "cell_type": "markdown",
   "metadata": {},
   "source": [
    "Some plotting functions"
   ]
  },
  {
   "cell_type": "code",
   "execution_count": 6,
   "metadata": {},
   "outputs": [],
   "source": [
    "def shower_hists(shower, nbins=20, range = None):     \n",
    "    x = shower[:,0]\n",
    "    y = shower[:,1]\n",
    "    z = shower[:,2]\n",
    "    \n",
    "    if range:\n",
    "        xmin = range[0]\n",
    "        xmax = range[1]\n",
    "        ymin = range[2]\n",
    "        ymax = range[3]\n",
    "    else:\n",
    "        xmin = x.min()\n",
    "        xmax = x.max()\n",
    "        ymin = y.min()\n",
    "        ymax = y.max()\n",
    "\n",
    "    f, axarr = plt.subplots(3, 3)\n",
    "    axarr[1, 1].hist2d(x, y, bins=20)\n",
    "    axarr[0, 0].set_title('X,Y')\n",
    "    axarr[0, 1].hist(x)\n",
    "    axarr[0, 1].set_title('X')\n",
    "    axarr[1, 0].hist(y)\n",
    "    axarr[1, 0].set_title('Y')\n",
    "    axarr[1, 1].hist(z)\n",
    "    axarr[1, 1].set_title('Z')\n",
    "    # Fine-tune figure; hide x ticks for top plots and y ticks for right plots\n",
    "    plt.setp([a.get_xticklabels() for a in axarr[0, :]], visible=False)\n",
    "    plt.setp([a.get_yticklabels() for a in axarr[:, 1]], visible=False)\n",
    "\n",
    "def gaussian(X,Y,nbins=20, range = None):\n",
    "    if range:\n",
    "        xmin = range[0]\n",
    "        xmax = range[1]\n",
    "        ymin = range[2]\n",
    "        ymax = range[3]\n",
    "    else:\n",
    "        xmin = X.min()\n",
    "        xmax = X.max()\n",
    "        ymin = Y.min()\n",
    "        ymax = Y.max()\n",
    "    \n",
    "    \n",
    "    k = kde.gaussian_kde(np.array([X,Y]))\n",
    "    xi, yi = np.mgrid[xmin:xmax:nbins*1j, ymin:ymax:nbins*1j]\n",
    "    zi = k(np.vstack([xi.flatten(), yi.flatten()]))\n",
    "    plt.pcolormesh(xi, yi, zi.reshape(xi.shape))\n",
    "    plt.colorbar()\n",
    "    plt.show()"
   ]
  },
  {
   "cell_type": "code",
   "execution_count": 108,
   "metadata": {},
   "outputs": [
    {
     "data": {
      "text/plain": [
       "<module 'pschitt.sky_objects' from '/Users/thomasvuillaume/Work/Dev/pschitt/pschitt/sky_objects.py'>"
      ]
     },
     "execution_count": 108,
     "metadata": {},
     "output_type": "execute_result"
    }
   ],
   "source": [
    "reload(sky)"
   ]
  },
  {
   "cell_type": "code",
   "execution_count": null,
   "metadata": {},
   "outputs": [],
   "source": []
  },
  {
   "cell_type": "code",
   "execution_count": 109,
   "metadata": {},
   "outputs": [],
   "source": [
    "# Gaisser = sky.Get_pos_Gaisser_Hillas(npoints, salt, saz, impact_point)\n",
    "# Gaisser_rot = sky.shower_rot(Gaisser,salt,saz)\n",
    "#shower = obj.random_ellipsoide(stop, slength, swidth, salt, saz, impact_point, npoints)\n",
    "shower_center = [0, 0, stop - slength/2.]\n",
    "ellipsoide = sky.shower()\n",
    "ellipsoide.number_of_particles = int(1e4)\n",
    "ellipsoide.random_ellipsoide_alongz(shower_center, slength, swidth)\n",
    "ellipsoide_rot = sky.rotated_shower(ellipsoide, 1.22, 0)\n",
    "\n",
    "df_ellipsoide = pd.DataFrame(ellipsoide.array, columns=[\"x\", \"y\", \"z\"])"
   ]
  },
  {
   "cell_type": "code",
   "execution_count": null,
   "metadata": {},
   "outputs": [],
   "source": []
  },
  {
   "cell_type": "markdown",
   "metadata": {},
   "source": [
    "Ellipsoid:"
   ]
  },
  {
   "cell_type": "code",
   "execution_count": 110,
   "metadata": {},
   "outputs": [
    {
     "data": {
      "text/plain": [
       "<seaborn.axisgrid.JointGrid at 0x126d16fd0>"
      ]
     },
     "execution_count": 110,
     "metadata": {},
     "output_type": "execute_result"
    },
    {
     "data": {
      "image/png": "[encoded data removed]",
      "text/plain": [
       "<matplotlib.figure.Figure at 0x1268da3c8>"
      ]
     },
     "metadata": {},
     "output_type": "display_data"
    },
    {
     "data": {
      "image/png": "[encoded data removed]",
      "text/plain": [
       "<matplotlib.figure.Figure at 0x125c94828>"
      ]
     },
     "metadata": {},
     "output_type": "display_data"
    },
    {
     "data": {
      "image/png": "[encoded data removed]",
      "text/plain": [
       "<matplotlib.figure.Figure at 0x12694e6a0>"
      ]
     },
     "metadata": {},
     "output_type": "display_data"
    }
   ],
   "source": [
    "sns.distplot(ellipsoide.array[:,0], kde=False)\n",
    "sns.jointplot(ellipsoide.array[:,0],ellipsoide.array[:,1],kind=\"hex\")\n",
    "sns.jointplot(x=ellipsoide.array[:,0],y=ellipsoide.array[:,2],kind=\"hex\")"
   ]
  },
  {
   "cell_type": "markdown",
   "metadata": {},
   "source": [
    "Rotated Ellipsoide:"
   ]
  },
  {
   "cell_type": "code",
   "execution_count": 111,
   "metadata": {},
   "outputs": [
    {
     "data": {
      "image/png": "[encoded data removed]",
      "text/plain": [
       "<matplotlib.figure.Figure at 0x127070d68>"
      ]
     },
     "metadata": {},
     "output_type": "display_data"
    }
   ],
   "source": [
    "with sns.axes_style(\"white\"):\n",
    "    sns.jointplot(x=ellipsoide_rot.array[:,0], y=ellipsoide_rot.array[:,2], kind=\"hex\", color=\"k\")"
   ]
  },
  {
   "cell_type": "markdown",
   "metadata": {},
   "source": [
    "Gaisser:"
   ]
  },
  {
   "cell_type": "code",
   "execution_count": null,
   "metadata": {},
   "outputs": [],
   "source": [
    "p = sns.distplot(Gaisser[:,0], kde=False)\n",
    "p.set_xlim((-100,100))\n",
    "p = sns.jointplot(x=Gaisser[:,0],y=Gaisser[:,2],kind=\"kde\",xlim=(-100,100))\n",
    "#sns.jointplot(x=Gaisser[:,0], y=Gaisser[:,2],kind=\"kde\")"
   ]
  },
  {
   "cell_type": "code",
   "execution_count": null,
   "metadata": {},
   "outputs": [],
   "source": [
    "p = sns.distplot(Gaisser[:,1], kde=False)\n",
    "p.set_xlim(-100,100)"
   ]
  },
  {
   "cell_type": "markdown",
   "metadata": {},
   "source": [
    "Rotated Gaisser:"
   ]
  },
  {
   "cell_type": "code",
   "execution_count": null,
   "metadata": {},
   "outputs": [],
   "source": [
    "p = sns.distplot(Gaisser_rot[:,0], kde=False)"
   ]
  },
  {
   "cell_type": "code",
   "execution_count": 103,
   "metadata": {},
   "outputs": [
    {
     "data": {
      "text/plain": [
       "<matplotlib.axes._subplots.AxesSubplot at 0x12d39f518>"
      ]
     },
     "execution_count": 103,
     "metadata": {},
     "output_type": "execute_result"
    },
    {
     "data": {
      "image/png": "[encoded data removed]",
      "text/plain": [
       "<matplotlib.figure.Figure at 0x12dd116a0>"
      ]
     },
     "metadata": {},
     "output_type": "display_data"
    }
   ],
   "source": [
    "sns.distplot(Gaisser[:,2], kde=False)\n",
    "sns.distplot(Gaisser_rot[:,2], kde=False)\n",
    "# with sns.axes_style(\"white\"):\n",
    "#     sns.jointplot(x=Gaisser_rot[:,0], y=Gaisser_rot[:,1], kind=\"hex\", color=\"k\")\n",
    "# sns.jointplot(x=Gaisser_rot[:,0],y=Gaisser_rot[:,1],kind=\"kde\")\n",
    "# sns.jointplot(x=Gaisser_rot[:,0], y=Gaisser_rot[:,2],kind=\"kde\")"
   ]
  },
  {
   "cell_type": "code",
   "execution_count": null,
   "metadata": {},
   "outputs": [],
   "source": []
  },
  {
   "cell_type": "code",
   "execution_count": 149,
   "metadata": {},
   "outputs": [
    {
     "name": "stdout",
     "output_type": "stream",
     "text": [
      "Warning: Cannot change to a different GUI toolkit: qt5. Using notebook instead.\n"
     ]
    },
    {
     "data": {
      "application/javascript": [
       "/* Put everything inside the global mpl namespace */\n",
       "window.mpl = {};\n",
       "\n",
       "mpl.get_websocket_type = function() {\n",
       "    if (typeof(WebSocket) !== 'undefined') {\n",
       "        return WebSocket;\n",
       "    } else if (typeof(MozWebSocket) !== 'undefined') {\n",
       "        return MozWebSocket;\n",
       "    } else {\n",
       "        alert('Your browser does not have WebSocket support.' +\n",
       "              'Please try Chrome, Safari or Firefox ≥ 6. ' +\n",
       "              'Firefox 4 and 5 are also supported but you ' +\n",
       "              'have to enable WebSockets in about:config.');\n",
       "    };\n",
       "}\n",
       "\n",
       "mpl.figure = function(figure_id, websocket, ondownload, parent_element) {\n",
       "    this.id = figure_id;\n",
       "\n",
       "    this.ws = websocket;\n",
       "\n",
       "    this.supports_binary = (this.ws.binaryType != undefined);\n",
       "\n",
       "    if (!this.supports_binary) {\n",
       "        var warnings = document.getElementById(\"mpl-warnings\");\n",
       "        if (warnings) {\n",
       "            warnings.style.display = 'block';\n",
       "            warnings.textContent = (\n",
       "                \"This browser does not support binary websocket messages. \" +\n",
       "                    \"Performance may be slow.\");\n",
       "        }\n",
       "    }\n",
       "\n",
       "    this.imageObj = new Image();\n",
       "\n",
       "    this.context = undefined;\n",
       "    this.message = undefined;\n",
       "    this.canvas = undefined;\n",
       "    this.rubberband_canvas = undefined;\n",
       "    this.rubberband_context = undefined;\n",
       "    this.format_dropdown = undefined;\n",
       "\n",
       "    this.image_mode = 'full';\n",
       "\n",
       "    this.root = $('<div/>');\n",
       "    this._root_extra_style(this.root)\n",
       "    this.root.attr('style', 'display: inline-block');\n",
       "\n",
       "    $(parent_element).append(this.root);\n",
       "\n",
       "    this._init_header(this);\n",
       "    this._init_canvas(this);\n",
       "    this._init_toolbar(this);\n",
       "\n",
       "    var fig = this;\n",
       "\n",
       "    this.waiting = false;\n",
       "\n",
       "    this.ws.onopen =  function () {\n",
       "            fig.send_message(\"supports_binary\", {value: fig.supports_binary});\n",
       "            fig.send_message(\"send_image_mode\", {});\n",
       "            fig.send_message(\"refresh\", {});\n",
       "        }\n",
       "\n",
       "    this.imageObj.onload = function() {\n",
       "            if (fig.image_mode == 'full') {\n",
       "                // Full images could contain transparency (where diff images\n",
       "                // almost always do), so we need to clear the canvas so that\n",
       "                // there is no ghosting.\n",
       "                fig.context.clearRect(0, 0, fig.canvas.width, fig.canvas.height);\n",
       "            }\n",
       "            fig.context.drawImage(fig.imageObj, 0, 0);\n",
       "        };\n",
       "\n",
       "    this.imageObj.onunload = function() {\n",
       "        this.ws.close();\n",
       "    }\n",
       "\n",
       "    this.ws.onmessage = this._make_on_message_function(this);\n",
       "\n",
       "    this.ondownload = ondownload;\n",
       "}\n",
       "\n",
       "mpl.figure.prototype._init_header = function() {\n",
       "    var titlebar = $(\n",
       "        '<div class=\"ui-dialog-titlebar ui-widget-header ui-corner-all ' +\n",
       "        'ui-helper-clearfix\"/>');\n",
       "    var titletext = $(\n",
       "        '<div class=\"ui-dialog-title\" style=\"width: 100%; ' +\n",
       "        'text-align: center; padding: 3px;\"/>');\n",
       "    titlebar.append(titletext)\n",
       "    this.root.append(titlebar);\n",
       "    this.header = titletext[0];\n",
       "}\n",
       "\n",
       "\n",
       "\n",
       "mpl.figure.prototype._canvas_extra_style = function(canvas_div) {\n",
       "\n",
       "}\n",
       "\n",
       "\n",
       "mpl.figure.prototype._root_extra_style = function(canvas_div) {\n",
       "\n",
       "}\n",
       "\n",
       "mpl.figure.prototype._init_canvas = function() {\n",
       "    var fig = this;\n",
       "\n",
       "    var canvas_div = $('<div/>');\n",
       "\n",
       "    canvas_div.attr('style', 'position: relative; clear: both; outline: 0');\n",
       "\n",
       "    function canvas_keyboard_event(event) {\n",
       "        return fig.key_event(event, event['data']);\n",
       "    }\n",
       "\n",
       "    canvas_div.keydown('key_press', canvas_keyboard_event);\n",
       "    canvas_div.keyup('key_release', canvas_keyboard_event);\n",
       "    this.canvas_div = canvas_div\n",
       "    this._canvas_extra_style(canvas_div)\n",
       "    this.root.append(canvas_div);\n",
       "\n",
       "    var canvas = $('<canvas/>');\n",
       "    canvas.addClass('mpl-canvas');\n",
       "    canvas.attr('style', \"left: 0; top: 0; z-index: 0; outline: 0\")\n",
       "\n",
       "    this.canvas = canvas[0];\n",
       "    this.context = canvas[0].getContext(\"2d\");\n",
       "\n",
       "    var rubberband = $('<canvas/>');\n",
       "    rubberband.attr('style', \"position: absolute; left: 0; top: 0; z-index: 1;\")\n",
       "\n",
       "    var pass_mouse_events = true;\n",
       "\n",
       "    canvas_div.resizable({\n",
       "        start: function(event, ui) {\n",
       "            pass_mouse_events = false;\n",
       "        },\n",
       "        resize: function(event, ui) {\n",
       "            fig.request_resize(ui.size.width, ui.size.height);\n",
       "        },\n",
       "        stop: function(event, ui) {\n",
       "            pass_mouse_events = true;\n",
       "            fig.request_resize(ui.size.width, ui.size.height);\n",
       "        },\n",
       "    });\n",
       "\n",
       "    function mouse_event_fn(event) {\n",
       "        if (pass_mouse_events)\n",
       "            return fig.mouse_event(event, event['data']);\n",
       "    }\n",
       "\n",
       "    rubberband.mousedown('button_press', mouse_event_fn);\n",
       "    rubberband.mouseup('button_release', mouse_event_fn);\n",
       "    // Throttle sequential mouse events to 1 every 20ms.\n",
       "    rubberband.mousemove('motion_notify', mouse_event_fn);\n",
       "\n",
       "    rubberband.mouseenter('figure_enter', mouse_event_fn);\n",
       "    rubberband.mouseleave('figure_leave', mouse_event_fn);\n",
       "\n",
       "    canvas_div.on(\"wheel\", function (event) {\n",
       "        event = event.originalEvent;\n",
       "        event['data'] = 'scroll'\n",
       "        if (event.deltaY < 0) {\n",
       "            event.step = 1;\n",
       "        } else {\n",
       "            event.step = -1;\n",
       "        }\n",
       "        mouse_event_fn(event);\n",
       "    });\n",
       "\n",
       "    canvas_div.append(canvas);\n",
       "    canvas_div.append(rubberband);\n",
       "\n",
       "    this.rubberband = rubberband;\n",
       "    this.rubberband_canvas = rubberband[0];\n",
       "    this.rubberband_context = rubberband[0].getContext(\"2d\");\n",
       "    this.rubberband_context.strokeStyle = \"#000000\";\n",
       "\n",
       "    this._resize_canvas = function(width, height) {\n",
       "        // Keep the size of the canvas, canvas container, and rubber band\n",
       "        // canvas in synch.\n",
       "        canvas_div.css('width', width)\n",
       "        canvas_div.css('height', height)\n",
       "\n",
       "        canvas.attr('width', width);\n",
       "        canvas.attr('height', height);\n",
       "\n",
       "        rubberband.attr('width', width);\n",
       "        rubberband.attr('height', height);\n",
       "    }\n",
       "\n",
       "    // Set the figure to an initial 600x600px, this will subsequently be updated\n",
       "    // upon first draw.\n",
       "    this._resize_canvas(600, 600);\n",
       "\n",
       "    // Disable right mouse context menu.\n",
       "    $(this.rubberband_canvas).bind(\"contextmenu\",function(e){\n",
       "        return false;\n",
       "    });\n",
       "\n",
       "    function set_focus () {\n",
       "        canvas.focus();\n",
       "        canvas_div.focus();\n",
       "    }\n",
       "\n",
       "    window.setTimeout(set_focus, 100);\n",
       "}\n",
       "\n",
       "mpl.figure.prototype._init_toolbar = function() {\n",
       "    var fig = this;\n",
       "\n",
       "    var nav_element = $('<div/>')\n",
       "    nav_element.attr('style', 'width: 100%');\n",
       "    this.root.append(nav_element);\n",
       "\n",
       "    // Define a callback function for later on.\n",
       "    function toolbar_event(event) {\n",
       "        return fig.toolbar_button_onclick(event['data']);\n",
       "    }\n",
       "    function toolbar_mouse_event(event) {\n",
       "        return fig.toolbar_button_onmouseover(event['data']);\n",
       "    }\n",
       "\n",
       "    for(var toolbar_ind in mpl.toolbar_items) {\n",
       "        var name = mpl.toolbar_items[toolbar_ind][0];\n",
       "        var tooltip = mpl.toolbar_items[toolbar_ind][1];\n",
       "        var image = mpl.toolbar_items[toolbar_ind][2];\n",
       "        var method_name = mpl.toolbar_items[toolbar_ind][3];\n",
       "\n",
       "        if (!name) {\n",
       "            // put a spacer in here.\n",
       "            continue;\n",
       "        }\n",
       "        var button = $('<button/>');\n",
       "        button.addClass('ui-button ui-widget ui-state-default ui-corner-all ' +\n",
       "                        'ui-button-icon-only');\n",
       "        button.attr('role', 'button');\n",
       "        button.attr('aria-disabled', 'false');\n",
       "        button.click(method_name, toolbar_event);\n",
       "        button.mouseover(tooltip, toolbar_mouse_event);\n",
       "\n",
       "        var icon_img = $('<span/>');\n",
       "        icon_img.addClass('ui-button-icon-primary ui-icon');\n",
       "        icon_img.addClass(image);\n",
       "        icon_img.addClass('ui-corner-all');\n",
       "\n",
       "        var tooltip_span = $('<span/>');\n",
       "        tooltip_span.addClass('ui-button-text');\n",
       "        tooltip_span.html(tooltip);\n",
       "\n",
       "        button.append(icon_img);\n",
       "        button.append(tooltip_span);\n",
       "\n",
       "        nav_element.append(button);\n",
       "    }\n",
       "\n",
       "    var fmt_picker_span = $('<span/>');\n",
       "\n",
       "    var fmt_picker = $('<select/>');\n",
       "    fmt_picker.addClass('mpl-toolbar-option ui-widget ui-widget-content');\n",
       "    fmt_picker_span.append(fmt_picker);\n",
       "    nav_element.append(fmt_picker_span);\n",
       "    this.format_dropdown = fmt_picker[0];\n",
       "\n",
       "    for (var ind in mpl.extensions) {\n",
       "        var fmt = mpl.extensions[ind];\n",
       "        var option = $(\n",
       "            '<option/>', {selected: fmt === mpl.default_extension}).html(fmt);\n",
       "        fmt_picker.append(option)\n",
       "    }\n",
       "\n",
       "    // Add hover states to the ui-buttons\n",
       "    $( \".ui-button\" ).hover(\n",
       "        function() { $(this).addClass(\"ui-state-hover\");},\n",
       "        function() { $(this).removeClass(\"ui-state-hover\");}\n",
       "    );\n",
       "\n",
       "    var status_bar = $('<span class=\"mpl-message\"/>');\n",
       "    nav_element.append(status_bar);\n",
       "    this.message = status_bar[0];\n",
       "}\n",
       "\n",
       "mpl.figure.prototype.request_resize = function(x_pixels, y_pixels) {\n",
       "    // Request matplotlib to resize the figure. Matplotlib will then trigger a resize in the client,\n",
       "    // which will in turn request a refresh of the image.\n",
       "    this.send_message('resize', {'width': x_pixels, 'height': y_pixels});\n",
       "}\n",
       "\n",
       "mpl.figure.prototype.send_message = function(type, properties) {\n",
       "    properties['type'] = type;\n",
       "    properties['figure_id'] = this.id;\n",
       "    this.ws.send(JSON.stringify(properties));\n",
       "}\n",
       "\n",
       "mpl.figure.prototype.send_draw_message = function() {\n",
       "    if (!this.waiting) {\n",
       "        this.waiting = true;\n",
       "        this.ws.send(JSON.stringify({type: \"draw\", figure_id: this.id}));\n",
       "    }\n",
       "}\n",
       "\n",
       "\n",
       "mpl.figure.prototype.handle_save = function(fig, msg) {\n",
       "    var format_dropdown = fig.format_dropdown;\n",
       "    var format = format_dropdown.options[format_dropdown.selectedIndex].value;\n",
       "    fig.ondownload(fig, format);\n",
       "}\n",
       "\n",
       "\n",
       "mpl.figure.prototype.handle_resize = function(fig, msg) {\n",
       "    var size = msg['size'];\n",
       "    if (size[0] != fig.canvas.width || size[1] != fig.canvas.height) {\n",
       "        fig._resize_canvas(size[0], size[1]);\n",
       "        fig.send_message(\"refresh\", {});\n",
       "    };\n",
       "}\n",
       "\n",
       "mpl.figure.prototype.handle_rubberband = function(fig, msg) {\n",
       "    var x0 = msg['x0'];\n",
       "    var y0 = fig.canvas.height - msg['y0'];\n",
       "    var x1 = msg['x1'];\n",
       "    var y1 = fig.canvas.height - msg['y1'];\n",
       "    x0 = Math.floor(x0) + 0.5;\n",
       "    y0 = Math.floor(y0) + 0.5;\n",
       "    x1 = Math.floor(x1) + 0.5;\n",
       "    y1 = Math.floor(y1) + 0.5;\n",
       "    var min_x = Math.min(x0, x1);\n",
       "    var min_y = Math.min(y0, y1);\n",
       "    var width = Math.abs(x1 - x0);\n",
       "    var height = Math.abs(y1 - y0);\n",
       "\n",
       "    fig.rubberband_context.clearRect(\n",
       "        0, 0, fig.canvas.width, fig.canvas.height);\n",
       "\n",
       "    fig.rubberband_context.strokeRect(min_x, min_y, width, height);\n",
       "}\n",
       "\n",
       "mpl.figure.prototype.handle_figure_label = function(fig, msg) {\n",
       "    // Updates the figure title.\n",
       "    fig.header.textContent = msg['label'];\n",
       "}\n",
       "\n",
       "mpl.figure.prototype.handle_cursor = function(fig, msg) {\n",
       "    var cursor = msg['cursor'];\n",
       "    switch(cursor)\n",
       "    {\n",
       "    case 0:\n",
       "        cursor = 'pointer';\n",
       "        break;\n",
       "    case 1:\n",
       "        cursor = 'default';\n",
       "        break;\n",
       "    case 2:\n",
       "        cursor = 'crosshair';\n",
       "        break;\n",
       "    case 3:\n",
       "        cursor = 'move';\n",
       "        break;\n",
       "    }\n",
       "    fig.rubberband_canvas.style.cursor = cursor;\n",
       "}\n",
       "\n",
       "mpl.figure.prototype.handle_message = function(fig, msg) {\n",
       "    fig.message.textContent = msg['message'];\n",
       "}\n",
       "\n",
       "mpl.figure.prototype.handle_draw = function(fig, msg) {\n",
       "    // Request the server to send over a new figure.\n",
       "    fig.send_draw_message();\n",
       "}\n",
       "\n",
       "mpl.figure.prototype.handle_image_mode = function(fig, msg) {\n",
       "    fig.image_mode = msg['mode'];\n",
       "}\n",
       "\n",
       "mpl.figure.prototype.updated_canvas_event = function() {\n",
       "    // Called whenever the canvas gets updated.\n",
       "    this.send_message(\"ack\", {});\n",
       "}\n",
       "\n",
       "// A function to construct a web socket function for onmessage handling.\n",
       "// Called in the figure constructor.\n",
       "mpl.figure.prototype._make_on_message_function = function(fig) {\n",
       "    return function socket_on_message(evt) {\n",
       "        if (evt.data instanceof Blob) {\n",
       "            /* FIXME: We get \"Resource interpreted as Image but\n",
       "             * transferred with MIME type text/plain:\" errors on\n",
       "             * Chrome.  But how to set the MIME type?  It doesn't seem\n",
       "             * to be part of the websocket stream */\n",
       "            evt.data.type = \"image/png\";\n",
       "\n",
       "            /* Free the memory for the previous frames */\n",
       "            if (fig.imageObj.src) {\n",
       "                (window.URL || window.webkitURL).revokeObjectURL(\n",
       "                    fig.imageObj.src);\n",
       "            }\n",
       "\n",
       "            fig.imageObj.src = (window.URL || window.webkitURL).createObjectURL(\n",
       "                evt.data);\n",
       "            fig.updated_canvas_event();\n",
       "            fig.waiting = false;\n",
       "            return;\n",
       "        }\n",
       "        else if (typeof evt.data === 'string' && evt.data.slice(0, 21) == \"data:image/png;base64\") {\n",
       "            fig.imageObj.src = evt.data;\n",
       "            fig.updated_canvas_event();\n",
       "            fig.waiting = false;\n",
       "            return;\n",
       "        }\n",
       "\n",
       "        var msg = JSON.parse(evt.data);\n",
       "        var msg_type = msg['type'];\n",
       "\n",
       "        // Call the  \"handle_{type}\" callback, which takes\n",
       "        // the figure and JSON message as its only arguments.\n",
       "        try {\n",
       "            var callback = fig[\"handle_\" + msg_type];\n",
       "        } catch (e) {\n",
       "            console.log(\"No handler for the '\" + msg_type + \"' message type: \", msg);\n",
       "            return;\n",
       "        }\n",
       "\n",
       "        if (callback) {\n",
       "            try {\n",
       "                // console.log(\"Handling '\" + msg_type + \"' message: \", msg);\n",
       "                callback(fig, msg);\n",
       "            } catch (e) {\n",
       "                console.log(\"Exception inside the 'handler_\" + msg_type + \"' callback:\", e, e.stack, msg);\n",
       "            }\n",
       "        }\n",
       "    };\n",
       "}\n",
       "\n",
       "// from http://stackoverflow.com/questions/1114465/getting-mouse-location-in-canvas\n",
       "mpl.findpos = function(e) {\n",
       "    //this section is from http://www.quirksmode.org/js/events_properties.html\n",
       "    var targ;\n",
       "    if (!e)\n",
       "        e = window.event;\n",
       "    if (e.target)\n",
       "        targ = e.target;\n",
       "    else if (e.srcElement)\n",
       "        targ = e.srcElement;\n",
       "    if (targ.nodeType == 3) // defeat Safari bug\n",
       "        targ = targ.parentNode;\n",
       "\n",
       "    // jQuery normalizes the pageX and pageY\n",
       "    // pageX,Y are the mouse positions relative to the document\n",
       "    // offset() returns the position of the element relative to the document\n",
       "    var x = e.pageX - $(targ).offset().left;\n",
       "    var y = e.pageY - $(targ).offset().top;\n",
       "\n",
       "    return {\"x\": x, \"y\": y};\n",
       "};\n",
       "\n",
       "/*\n",
       " * return a copy of an object with only non-object keys\n",
       " * we need this to avoid circular references\n",
       " * http://stackoverflow.com/a/24161582/3208463\n",
       " */\n",
       "function simpleKeys (original) {\n",
       "  return Object.keys(original).reduce(function (obj, key) {\n",
       "    if (typeof original[key] !== 'object')\n",
       "        obj[key] = original[key]\n",
       "    return obj;\n",
       "  }, {});\n",
       "}\n",
       "\n",
       "mpl.figure.prototype.mouse_event = function(event, name) {\n",
       "    var canvas_pos = mpl.findpos(event)\n",
       "\n",
       "    if (name === 'button_press')\n",
       "    {\n",
       "        this.canvas.focus();\n",
       "        this.canvas_div.focus();\n",
       "    }\n",
       "\n",
       "    var x = canvas_pos.x;\n",
       "    var y = canvas_pos.y;\n",
       "\n",
       "    this.send_message(name, {x: x, y: y, button: event.button,\n",
       "                             step: event.step,\n",
       "                             guiEvent: simpleKeys(event)});\n",
       "\n",
       "    /* This prevents the web browser from automatically changing to\n",
       "     * the text insertion cursor when the button is pressed.  We want\n",
       "     * to control all of the cursor setting manually through the\n",
       "     * 'cursor' event from matplotlib */\n",
       "    event.preventDefault();\n",
       "    return false;\n",
       "}\n",
       "\n",
       "mpl.figure.prototype._key_event_extra = function(event, name) {\n",
       "    // Handle any extra behaviour associated with a key event\n",
       "}\n",
       "\n",
       "mpl.figure.prototype.key_event = function(event, name) {\n",
       "\n",
       "    // Prevent repeat events\n",
       "    if (name == 'key_press')\n",
       "    {\n",
       "        if (event.which === this._key)\n",
       "            return;\n",
       "        else\n",
       "            this._key = event.which;\n",
       "    }\n",
       "    if (name == 'key_release')\n",
       "        this._key = null;\n",
       "\n",
       "    var value = '';\n",
       "    if (event.ctrlKey && event.which != 17)\n",
       "        value += \"ctrl+\";\n",
       "    if (event.altKey && event.which != 18)\n",
       "        value += \"alt+\";\n",
       "    if (event.shiftKey && event.which != 16)\n",
       "        value += \"shift+\";\n",
       "\n",
       "    value += 'k';\n",
       "    value += event.which.toString();\n",
       "\n",
       "    this._key_event_extra(event, name);\n",
       "\n",
       "    this.send_message(name, {key: value,\n",
       "                             guiEvent: simpleKeys(event)});\n",
       "    return false;\n",
       "}\n",
       "\n",
       "mpl.figure.prototype.toolbar_button_onclick = function(name) {\n",
       "    if (name == 'download') {\n",
       "        this.handle_save(this, null);\n",
       "    } else {\n",
       "        this.send_message(\"toolbar_button\", {name: name});\n",
       "    }\n",
       "};\n",
       "\n",
       "mpl.figure.prototype.toolbar_button_onmouseover = function(tooltip) {\n",
       "    this.message.textContent = tooltip;\n",
       "};\n",
       "mpl.toolbar_items = [[\"Home\", \"Reset original view\", \"fa fa-home icon-home\", \"home\"], [\"Back\", \"Back to  previous view\", \"fa fa-arrow-left icon-arrow-left\", \"back\"], [\"Forward\", \"Forward to next view\", \"fa fa-arrow-right icon-arrow-right\", \"forward\"], [\"\", \"\", \"\", \"\"], [\"Pan\", \"Pan axes with left mouse, zoom with right\", \"fa fa-arrows icon-move\", \"pan\"], [\"Zoom\", \"Zoom to rectangle\", \"fa fa-square-o icon-check-empty\", \"zoom\"], [\"\", \"\", \"\", \"\"], [\"Download\", \"Download plot\", \"fa fa-floppy-o icon-save\", \"download\"]];\n",
       "\n",
       "mpl.extensions = [\"eps\", \"jpeg\", \"pdf\", \"png\", \"ps\", \"raw\", \"svg\", \"tif\"];\n",
       "\n",
       "mpl.default_extension = \"png\";var comm_websocket_adapter = function(comm) {\n",
       "    // Create a \"websocket\"-like object which calls the given IPython comm\n",
       "    // object with the appropriate methods. Currently this is a non binary\n",
       "    // socket, so there is still some room for performance tuning.\n",
       "    var ws = {};\n",
       "\n",
       "    ws.close = function() {\n",
       "        comm.close()\n",
       "    };\n",
       "    ws.send = function(m) {\n",
       "        //console.log('sending', m);\n",
       "        comm.send(m);\n",
       "    };\n",
       "    // Register the callback with on_msg.\n",
       "    comm.on_msg(function(msg) {\n",
       "        //console.log('receiving', msg['content']['data'], msg);\n",
       "        // Pass the mpl event to the overriden (by mpl) onmessage function.\n",
       "        ws.onmessage(msg['content']['data'])\n",
       "    });\n",
       "    return ws;\n",
       "}\n",
       "\n",
       "mpl.mpl_figure_comm = function(comm, msg) {\n",
       "    // This is the function which gets called when the mpl process\n",
       "    // starts-up an IPython Comm through the \"matplotlib\" channel.\n",
       "\n",
       "    var id = msg.content.data.id;\n",
       "    // Get hold of the div created by the display call when the Comm\n",
       "    // socket was opened in Python.\n",
       "    var element = $(\"#\" + id);\n",
       "    var ws_proxy = comm_websocket_adapter(comm)\n",
       "\n",
       "    function ondownload(figure, format) {\n",
       "        window.open(figure.imageObj.src);\n",
       "    }\n",
       "\n",
       "    var fig = new mpl.figure(id, ws_proxy,\n",
       "                           ondownload,\n",
       "                           element.get(0));\n",
       "\n",
       "    // Call onopen now - mpl needs it, as it is assuming we've passed it a real\n",
       "    // web socket which is closed, not our websocket->open comm proxy.\n",
       "    ws_proxy.onopen();\n",
       "\n",
       "    fig.parent_element = element.get(0);\n",
       "    fig.cell_info = mpl.find_output_cell(\"<div id='\" + id + \"'></div>\");\n",
       "    if (!fig.cell_info) {\n",
       "        console.error(\"Failed to find cell for figure\", id, fig);\n",
       "        return;\n",
       "    }\n",
       "\n",
       "    var output_index = fig.cell_info[2]\n",
       "    var cell = fig.cell_info[0];\n",
       "\n",
       "};\n",
       "\n",
       "mpl.figure.prototype.handle_close = function(fig, msg) {\n",
       "    fig.root.unbind('remove')\n",
       "\n",
       "    // Update the output cell to use the data from the current canvas.\n",
       "    fig.push_to_output();\n",
       "    var dataURL = fig.canvas.toDataURL();\n",
       "    // Re-enable the keyboard manager in IPython - without this line, in FF,\n",
       "    // the notebook keyboard shortcuts fail.\n",
       "    IPython.keyboard_manager.enable()\n",
       "    $(fig.parent_element).html('<img src=\"' + dataURL + '\">');\n",
       "    fig.close_ws(fig, msg);\n",
       "}\n",
       "\n",
       "mpl.figure.prototype.close_ws = function(fig, msg){\n",
       "    fig.send_message('closing', msg);\n",
       "    // fig.ws.close()\n",
       "}\n",
       "\n",
       "mpl.figure.prototype.push_to_output = function(remove_interactive) {\n",
       "    // Turn the data on the canvas into data in the output cell.\n",
       "    var dataURL = this.canvas.toDataURL();\n",
       "    this.cell_info[1]['text/html'] = '<img src=\"' + dataURL + '\">';\n",
       "}\n",
       "\n",
       "mpl.figure.prototype.updated_canvas_event = function() {\n",
       "    // Tell IPython that the notebook contents must change.\n",
       "    IPython.notebook.set_dirty(true);\n",
       "    this.send_message(\"ack\", {});\n",
       "    var fig = this;\n",
       "    // Wait a second, then push the new image to the DOM so\n",
       "    // that it is saved nicely (might be nice to debounce this).\n",
       "    setTimeout(function () { fig.push_to_output() }, 1000);\n",
       "}\n",
       "\n",
       "mpl.figure.prototype._init_toolbar = function() {\n",
       "    var fig = this;\n",
       "\n",
       "    var nav_element = $('<div/>')\n",
       "    nav_element.attr('style', 'width: 100%');\n",
       "    this.root.append(nav_element);\n",
       "\n",
       "    // Define a callback function for later on.\n",
       "    function toolbar_event(event) {\n",
       "        return fig.toolbar_button_onclick(event['data']);\n",
       "    }\n",
       "    function toolbar_mouse_event(event) {\n",
       "        return fig.toolbar_button_onmouseover(event['data']);\n",
       "    }\n",
       "\n",
       "    for(var toolbar_ind in mpl.toolbar_items){\n",
       "        var name = mpl.toolbar_items[toolbar_ind][0];\n",
       "        var tooltip = mpl.toolbar_items[toolbar_ind][1];\n",
       "        var image = mpl.toolbar_items[toolbar_ind][2];\n",
       "        var method_name = mpl.toolbar_items[toolbar_ind][3];\n",
       "\n",
       "        if (!name) { continue; };\n",
       "\n",
       "        var button = $('<button class=\"btn btn-default\" href=\"#\" title=\"' + name + '\"><i class=\"fa ' + image + ' fa-lg\"></i></button>');\n",
       "        button.click(method_name, toolbar_event);\n",
       "        button.mouseover(tooltip, toolbar_mouse_event);\n",
       "        nav_element.append(button);\n",
       "    }\n",
       "\n",
       "    // Add the status bar.\n",
       "    var status_bar = $('<span class=\"mpl-message\" style=\"text-align:right; float: right;\"/>');\n",
       "    nav_element.append(status_bar);\n",
       "    this.message = status_bar[0];\n",
       "\n",
       "    // Add the close button to the window.\n",
       "    var buttongrp = $('<div class=\"btn-group inline pull-right\"></div>');\n",
       "    var button = $('<button class=\"btn btn-mini btn-primary\" href=\"#\" title=\"Stop Interaction\"><i class=\"fa fa-power-off icon-remove icon-large\"></i></button>');\n",
       "    button.click(function (evt) { fig.handle_close(fig, {}); } );\n",
       "    button.mouseover('Stop Interaction', toolbar_mouse_event);\n",
       "    buttongrp.append(button);\n",
       "    var titlebar = this.root.find($('.ui-dialog-titlebar'));\n",
       "    titlebar.prepend(buttongrp);\n",
       "}\n",
       "\n",
       "mpl.figure.prototype._root_extra_style = function(el){\n",
       "    var fig = this\n",
       "    el.on(\"remove\", function(){\n",
       "\tfig.close_ws(fig, {});\n",
       "    });\n",
       "}\n",
       "\n",
       "mpl.figure.prototype._canvas_extra_style = function(el){\n",
       "    // this is important to make the div 'focusable\n",
       "    el.attr('tabindex', 0)\n",
       "    // reach out to IPython and tell the keyboard manager to turn it's self\n",
       "    // off when our div gets focus\n",
       "\n",
       "    // location in version 3\n",
       "    if (IPython.notebook.keyboard_manager) {\n",
       "        IPython.notebook.keyboard_manager.register_events(el);\n",
       "    }\n",
       "    else {\n",
       "        // location in version 2\n",
       "        IPython.keyboard_manager.register_events(el);\n",
       "    }\n",
       "\n",
       "}\n",
       "\n",
       "mpl.figure.prototype._key_event_extra = function(event, name) {\n",
       "    var manager = IPython.notebook.keyboard_manager;\n",
       "    if (!manager)\n",
       "        manager = IPython.keyboard_manager;\n",
       "\n",
       "    // Check for shift+enter\n",
       "    if (event.shiftKey && event.which == 13) {\n",
       "        this.canvas_div.blur();\n",
       "        event.shiftKey = false;\n",
       "        // Send a \"J\" for go to next cell\n",
       "        event.which = 74;\n",
       "        event.keyCode = 74;\n",
       "        manager.command_mode();\n",
       "        manager.handle_keydown(event);\n",
       "    }\n",
       "}\n",
       "\n",
       "mpl.figure.prototype.handle_save = function(fig, msg) {\n",
       "    fig.ondownload(fig, null);\n",
       "}\n",
       "\n",
       "\n",
       "mpl.find_output_cell = function(html_output) {\n",
       "    // Return the cell and output element which can be found *uniquely* in the notebook.\n",
       "    // Note - this is a bit hacky, but it is done because the \"notebook_saving.Notebook\"\n",
       "    // IPython event is triggered only after the cells have been serialised, which for\n",
       "    // our purposes (turning an active figure into a static one), is too late.\n",
       "    var cells = IPython.notebook.get_cells();\n",
       "    var ncells = cells.length;\n",
       "    for (var i=0; i<ncells; i++) {\n",
       "        var cell = cells[i];\n",
       "        if (cell.cell_type === 'code'){\n",
       "            for (var j=0; j<cell.output_area.outputs.length; j++) {\n",
       "                var data = cell.output_area.outputs[j];\n",
       "                if (data.data) {\n",
       "                    // IPython >= 3 moved mimebundle to data attribute of output\n",
       "                    data = data.data;\n",
       "                }\n",
       "                if (data['text/html'] == html_output) {\n",
       "                    return [cell, data, j];\n",
       "                }\n",
       "            }\n",
       "        }\n",
       "    }\n",
       "}\n",
       "\n",
       "// Register the function which deals with the matplotlib target/channel.\n",
       "// The kernel may be null if the page has been refreshed.\n",
       "if (IPython.notebook.kernel != null) {\n",
       "    IPython.notebook.kernel.comm_manager.register_target('matplotlib', mpl.mpl_figure_comm);\n",
       "}\n"
      ],
      "text/plain": [
       "<IPython.core.display.Javascript object>"
      ]
     },
     "metadata": {},
     "output_type": "display_data"
    },
    {
     "data": {
      "text/html": [
       "<img src=\"data:image/png;base64,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\">"
      ],
      "text/plain": [
       "<IPython.core.display.HTML object>"
      ]
     },
     "metadata": {},
     "output_type": "display_data"
    }
   ],
   "source": [
    "%matplotlib qt5\n",
    "viz.plot_shower3d(ellipsoide, alltel)"
   ]
  },
  {
   "cell_type": "code",
   "execution_count": 150,
   "metadata": {},
   "outputs": [
    {
     "data": {
      "application/javascript": [
       "/* Put everything inside the global mpl namespace */\n",
       "window.mpl = {};\n",
       "\n",
       "mpl.get_websocket_type = function() {\n",
       "    if (typeof(WebSocket) !== 'undefined') {\n",
       "        return WebSocket;\n",
       "    } else if (typeof(MozWebSocket) !== 'undefined') {\n",
       "        return MozWebSocket;\n",
       "    } else {\n",
       "        alert('Your browser does not have WebSocket support.' +\n",
       "              'Please try Chrome, Safari or Firefox ≥ 6. ' +\n",
       "              'Firefox 4 and 5 are also supported but you ' +\n",
       "              'have to enable WebSockets in about:config.');\n",
       "    };\n",
       "}\n",
       "\n",
       "mpl.figure = function(figure_id, websocket, ondownload, parent_element) {\n",
       "    this.id = figure_id;\n",
       "\n",
       "    this.ws = websocket;\n",
       "\n",
       "    this.supports_binary = (this.ws.binaryType != undefined);\n",
       "\n",
       "    if (!this.supports_binary) {\n",
       "        var warnings = document.getElementById(\"mpl-warnings\");\n",
       "        if (warnings) {\n",
       "            warnings.style.display = 'block';\n",
       "            warnings.textContent = (\n",
       "                \"This browser does not support binary websocket messages. \" +\n",
       "                    \"Performance may be slow.\");\n",
       "        }\n",
       "    }\n",
       "\n",
       "    this.imageObj = new Image();\n",
       "\n",
       "    this.context = undefined;\n",
       "    this.message = undefined;\n",
       "    this.canvas = undefined;\n",
       "    this.rubberband_canvas = undefined;\n",
       "    this.rubberband_context = undefined;\n",
       "    this.format_dropdown = undefined;\n",
       "\n",
       "    this.image_mode = 'full';\n",
       "\n",
       "    this.root = $('<div/>');\n",
       "    this._root_extra_style(this.root)\n",
       "    this.root.attr('style', 'display: inline-block');\n",
       "\n",
       "    $(parent_element).append(this.root);\n",
       "\n",
       "    this._init_header(this);\n",
       "    this._init_canvas(this);\n",
       "    this._init_toolbar(this);\n",
       "\n",
       "    var fig = this;\n",
       "\n",
       "    this.waiting = false;\n",
       "\n",
       "    this.ws.onopen =  function () {\n",
       "            fig.send_message(\"supports_binary\", {value: fig.supports_binary});\n",
       "            fig.send_message(\"send_image_mode\", {});\n",
       "            fig.send_message(\"refresh\", {});\n",
       "        }\n",
       "\n",
       "    this.imageObj.onload = function() {\n",
       "            if (fig.image_mode == 'full') {\n",
       "                // Full images could contain transparency (where diff images\n",
       "                // almost always do), so we need to clear the canvas so that\n",
       "                // there is no ghosting.\n",
       "                fig.context.clearRect(0, 0, fig.canvas.width, fig.canvas.height);\n",
       "            }\n",
       "            fig.context.drawImage(fig.imageObj, 0, 0);\n",
       "        };\n",
       "\n",
       "    this.imageObj.onunload = function() {\n",
       "        this.ws.close();\n",
       "    }\n",
       "\n",
       "    this.ws.onmessage = this._make_on_message_function(this);\n",
       "\n",
       "    this.ondownload = ondownload;\n",
       "}\n",
       "\n",
       "mpl.figure.prototype._init_header = function() {\n",
       "    var titlebar = $(\n",
       "        '<div class=\"ui-dialog-titlebar ui-widget-header ui-corner-all ' +\n",
       "        'ui-helper-clearfix\"/>');\n",
       "    var titletext = $(\n",
       "        '<div class=\"ui-dialog-title\" style=\"width: 100%; ' +\n",
       "        'text-align: center; padding: 3px;\"/>');\n",
       "    titlebar.append(titletext)\n",
       "    this.root.append(titlebar);\n",
       "    this.header = titletext[0];\n",
       "}\n",
       "\n",
       "\n",
       "\n",
       "mpl.figure.prototype._canvas_extra_style = function(canvas_div) {\n",
       "\n",
       "}\n",
       "\n",
       "\n",
       "mpl.figure.prototype._root_extra_style = function(canvas_div) {\n",
       "\n",
       "}\n",
       "\n",
       "mpl.figure.prototype._init_canvas = function() {\n",
       "    var fig = this;\n",
       "\n",
       "    var canvas_div = $('<div/>');\n",
       "\n",
       "    canvas_div.attr('style', 'position: relative; clear: both; outline: 0');\n",
       "\n",
       "    function canvas_keyboard_event(event) {\n",
       "        return fig.key_event(event, event['data']);\n",
       "    }\n",
       "\n",
       "    canvas_div.keydown('key_press', canvas_keyboard_event);\n",
       "    canvas_div.keyup('key_release', canvas_keyboard_event);\n",
       "    this.canvas_div = canvas_div\n",
       "    this._canvas_extra_style(canvas_div)\n",
       "    this.root.append(canvas_div);\n",
       "\n",
       "    var canvas = $('<canvas/>');\n",
       "    canvas.addClass('mpl-canvas');\n",
       "    canvas.attr('style', \"left: 0; top: 0; z-index: 0; outline: 0\")\n",
       "\n",
       "    this.canvas = canvas[0];\n",
       "    this.context = canvas[0].getContext(\"2d\");\n",
       "\n",
       "    var rubberband = $('<canvas/>');\n",
       "    rubberband.attr('style', \"position: absolute; left: 0; top: 0; z-index: 1;\")\n",
       "\n",
       "    var pass_mouse_events = true;\n",
       "\n",
       "    canvas_div.resizable({\n",
       "        start: function(event, ui) {\n",
       "            pass_mouse_events = false;\n",
       "        },\n",
       "        resize: function(event, ui) {\n",
       "            fig.request_resize(ui.size.width, ui.size.height);\n",
       "        },\n",
       "        stop: function(event, ui) {\n",
       "            pass_mouse_events = true;\n",
       "            fig.request_resize(ui.size.width, ui.size.height);\n",
       "        },\n",
       "    });\n",
       "\n",
       "    function mouse_event_fn(event) {\n",
       "        if (pass_mouse_events)\n",
       "            return fig.mouse_event(event, event['data']);\n",
       "    }\n",
       "\n",
       "    rubberband.mousedown('button_press', mouse_event_fn);\n",
       "    rubberband.mouseup('button_release', mouse_event_fn);\n",
       "    // Throttle sequential mouse events to 1 every 20ms.\n",
       "    rubberband.mousemove('motion_notify', mouse_event_fn);\n",
       "\n",
       "    rubberband.mouseenter('figure_enter', mouse_event_fn);\n",
       "    rubberband.mouseleave('figure_leave', mouse_event_fn);\n",
       "\n",
       "    canvas_div.on(\"wheel\", function (event) {\n",
       "        event = event.originalEvent;\n",
       "        event['data'] = 'scroll'\n",
       "        if (event.deltaY < 0) {\n",
       "            event.step = 1;\n",
       "        } else {\n",
       "            event.step = -1;\n",
       "        }\n",
       "        mouse_event_fn(event);\n",
       "    });\n",
       "\n",
       "    canvas_div.append(canvas);\n",
       "    canvas_div.append(rubberband);\n",
       "\n",
       "    this.rubberband = rubberband;\n",
       "    this.rubberband_canvas = rubberband[0];\n",
       "    this.rubberband_context = rubberband[0].getContext(\"2d\");\n",
       "    this.rubberband_context.strokeStyle = \"#000000\";\n",
       "\n",
       "    this._resize_canvas = function(width, height) {\n",
       "        // Keep the size of the canvas, canvas container, and rubber band\n",
       "        // canvas in synch.\n",
       "        canvas_div.css('width', width)\n",
       "        canvas_div.css('height', height)\n",
       "\n",
       "        canvas.attr('width', width);\n",
       "        canvas.attr('height', height);\n",
       "\n",
       "        rubberband.attr('width', width);\n",
       "        rubberband.attr('height', height);\n",
       "    }\n",
       "\n",
       "    // Set the figure to an initial 600x600px, this will subsequently be updated\n",
       "    // upon first draw.\n",
       "    this._resize_canvas(600, 600);\n",
       "\n",
       "    // Disable right mouse context menu.\n",
       "    $(this.rubberband_canvas).bind(\"contextmenu\",function(e){\n",
       "        return false;\n",
       "    });\n",
       "\n",
       "    function set_focus () {\n",
       "        canvas.focus();\n",
       "        canvas_div.focus();\n",
       "    }\n",
       "\n",
       "    window.setTimeout(set_focus, 100);\n",
       "}\n",
       "\n",
       "mpl.figure.prototype._init_toolbar = function() {\n",
       "    var fig = this;\n",
       "\n",
       "    var nav_element = $('<div/>')\n",
       "    nav_element.attr('style', 'width: 100%');\n",
       "    this.root.append(nav_element);\n",
       "\n",
       "    // Define a callback function for later on.\n",
       "    function toolbar_event(event) {\n",
       "        return fig.toolbar_button_onclick(event['data']);\n",
       "    }\n",
       "    function toolbar_mouse_event(event) {\n",
       "        return fig.toolbar_button_onmouseover(event['data']);\n",
       "    }\n",
       "\n",
       "    for(var toolbar_ind in mpl.toolbar_items) {\n",
       "        var name = mpl.toolbar_items[toolbar_ind][0];\n",
       "        var tooltip = mpl.toolbar_items[toolbar_ind][1];\n",
       "        var image = mpl.toolbar_items[toolbar_ind][2];\n",
       "        var method_name = mpl.toolbar_items[toolbar_ind][3];\n",
       "\n",
       "        if (!name) {\n",
       "            // put a spacer in here.\n",
       "            continue;\n",
       "        }\n",
       "        var button = $('<button/>');\n",
       "        button.addClass('ui-button ui-widget ui-state-default ui-corner-all ' +\n",
       "                        'ui-button-icon-only');\n",
       "        button.attr('role', 'button');\n",
       "        button.attr('aria-disabled', 'false');\n",
       "        button.click(method_name, toolbar_event);\n",
       "        button.mouseover(tooltip, toolbar_mouse_event);\n",
       "\n",
       "        var icon_img = $('<span/>');\n",
       "        icon_img.addClass('ui-button-icon-primary ui-icon');\n",
       "        icon_img.addClass(image);\n",
       "        icon_img.addClass('ui-corner-all');\n",
       "\n",
       "        var tooltip_span = $('<span/>');\n",
       "        tooltip_span.addClass('ui-button-text');\n",
       "        tooltip_span.html(tooltip);\n",
       "\n",
       "        button.append(icon_img);\n",
       "        button.append(tooltip_span);\n",
       "\n",
       "        nav_element.append(button);\n",
       "    }\n",
       "\n",
       "    var fmt_picker_span = $('<span/>');\n",
       "\n",
       "    var fmt_picker = $('<select/>');\n",
       "    fmt_picker.addClass('mpl-toolbar-option ui-widget ui-widget-content');\n",
       "    fmt_picker_span.append(fmt_picker);\n",
       "    nav_element.append(fmt_picker_span);\n",
       "    this.format_dropdown = fmt_picker[0];\n",
       "\n",
       "    for (var ind in mpl.extensions) {\n",
       "        var fmt = mpl.extensions[ind];\n",
       "        var option = $(\n",
       "            '<option/>', {selected: fmt === mpl.default_extension}).html(fmt);\n",
       "        fmt_picker.append(option)\n",
       "    }\n",
       "\n",
       "    // Add hover states to the ui-buttons\n",
       "    $( \".ui-button\" ).hover(\n",
       "        function() { $(this).addClass(\"ui-state-hover\");},\n",
       "        function() { $(this).removeClass(\"ui-state-hover\");}\n",
       "    );\n",
       "\n",
       "    var status_bar = $('<span class=\"mpl-message\"/>');\n",
       "    nav_element.append(status_bar);\n",
       "    this.message = status_bar[0];\n",
       "}\n",
       "\n",
       "mpl.figure.prototype.request_resize = function(x_pixels, y_pixels) {\n",
       "    // Request matplotlib to resize the figure. Matplotlib will then trigger a resize in the client,\n",
       "    // which will in turn request a refresh of the image.\n",
       "    this.send_message('resize', {'width': x_pixels, 'height': y_pixels});\n",
       "}\n",
       "\n",
       "mpl.figure.prototype.send_message = function(type, properties) {\n",
       "    properties['type'] = type;\n",
       "    properties['figure_id'] = this.id;\n",
       "    this.ws.send(JSON.stringify(properties));\n",
       "}\n",
       "\n",
       "mpl.figure.prototype.send_draw_message = function() {\n",
       "    if (!this.waiting) {\n",
       "        this.waiting = true;\n",
       "        this.ws.send(JSON.stringify({type: \"draw\", figure_id: this.id}));\n",
       "    }\n",
       "}\n",
       "\n",
       "\n",
       "mpl.figure.prototype.handle_save = function(fig, msg) {\n",
       "    var format_dropdown = fig.format_dropdown;\n",
       "    var format = format_dropdown.options[format_dropdown.selectedIndex].value;\n",
       "    fig.ondownload(fig, format);\n",
       "}\n",
       "\n",
       "\n",
       "mpl.figure.prototype.handle_resize = function(fig, msg) {\n",
       "    var size = msg['size'];\n",
       "    if (size[0] != fig.canvas.width || size[1] != fig.canvas.height) {\n",
       "        fig._resize_canvas(size[0], size[1]);\n",
       "        fig.send_message(\"refresh\", {});\n",
       "    };\n",
       "}\n",
       "\n",
       "mpl.figure.prototype.handle_rubberband = function(fig, msg) {\n",
       "    var x0 = msg['x0'];\n",
       "    var y0 = fig.canvas.height - msg['y0'];\n",
       "    var x1 = msg['x1'];\n",
       "    var y1 = fig.canvas.height - msg['y1'];\n",
       "    x0 = Math.floor(x0) + 0.5;\n",
       "    y0 = Math.floor(y0) + 0.5;\n",
       "    x1 = Math.floor(x1) + 0.5;\n",
       "    y1 = Math.floor(y1) + 0.5;\n",
       "    var min_x = Math.min(x0, x1);\n",
       "    var min_y = Math.min(y0, y1);\n",
       "    var width = Math.abs(x1 - x0);\n",
       "    var height = Math.abs(y1 - y0);\n",
       "\n",
       "    fig.rubberband_context.clearRect(\n",
       "        0, 0, fig.canvas.width, fig.canvas.height);\n",
       "\n",
       "    fig.rubberband_context.strokeRect(min_x, min_y, width, height);\n",
       "}\n",
       "\n",
       "mpl.figure.prototype.handle_figure_label = function(fig, msg) {\n",
       "    // Updates the figure title.\n",
       "    fig.header.textContent = msg['label'];\n",
       "}\n",
       "\n",
       "mpl.figure.prototype.handle_cursor = function(fig, msg) {\n",
       "    var cursor = msg['cursor'];\n",
       "    switch(cursor)\n",
       "    {\n",
       "    case 0:\n",
       "        cursor = 'pointer';\n",
       "        break;\n",
       "    case 1:\n",
       "        cursor = 'default';\n",
       "        break;\n",
       "    case 2:\n",
       "        cursor = 'crosshair';\n",
       "        break;\n",
       "    case 3:\n",
       "        cursor = 'move';\n",
       "        break;\n",
       "    }\n",
       "    fig.rubberband_canvas.style.cursor = cursor;\n",
       "}\n",
       "\n",
       "mpl.figure.prototype.handle_message = function(fig, msg) {\n",
       "    fig.message.textContent = msg['message'];\n",
       "}\n",
       "\n",
       "mpl.figure.prototype.handle_draw = function(fig, msg) {\n",
       "    // Request the server to send over a new figure.\n",
       "    fig.send_draw_message();\n",
       "}\n",
       "\n",
       "mpl.figure.prototype.handle_image_mode = function(fig, msg) {\n",
       "    fig.image_mode = msg['mode'];\n",
       "}\n",
       "\n",
       "mpl.figure.prototype.updated_canvas_event = function() {\n",
       "    // Called whenever the canvas gets updated.\n",
       "    this.send_message(\"ack\", {});\n",
       "}\n",
       "\n",
       "// A function to construct a web socket function for onmessage handling.\n",
       "// Called in the figure constructor.\n",
       "mpl.figure.prototype._make_on_message_function = function(fig) {\n",
       "    return function socket_on_message(evt) {\n",
       "        if (evt.data instanceof Blob) {\n",
       "            /* FIXME: We get \"Resource interpreted as Image but\n",
       "             * transferred with MIME type text/plain:\" errors on\n",
       "             * Chrome.  But how to set the MIME type?  It doesn't seem\n",
       "             * to be part of the websocket stream */\n",
       "            evt.data.type = \"image/png\";\n",
       "\n",
       "            /* Free the memory for the previous frames */\n",
       "            if (fig.imageObj.src) {\n",
       "                (window.URL || window.webkitURL).revokeObjectURL(\n",
       "                    fig.imageObj.src);\n",
       "            }\n",
       "\n",
       "            fig.imageObj.src = (window.URL || window.webkitURL).createObjectURL(\n",
       "                evt.data);\n",
       "            fig.updated_canvas_event();\n",
       "            fig.waiting = false;\n",
       "            return;\n",
       "        }\n",
       "        else if (typeof evt.data === 'string' && evt.data.slice(0, 21) == \"data:image/png;base64\") {\n",
       "            fig.imageObj.src = evt.data;\n",
       "            fig.updated_canvas_event();\n",
       "            fig.waiting = false;\n",
       "            return;\n",
       "        }\n",
       "\n",
       "        var msg = JSON.parse(evt.data);\n",
       "        var msg_type = msg['type'];\n",
       "\n",
       "        // Call the  \"handle_{type}\" callback, which takes\n",
       "        // the figure and JSON message as its only arguments.\n",
       "        try {\n",
       "            var callback = fig[\"handle_\" + msg_type];\n",
       "        } catch (e) {\n",
       "            console.log(\"No handler for the '\" + msg_type + \"' message type: \", msg);\n",
       "            return;\n",
       "        }\n",
       "\n",
       "        if (callback) {\n",
       "            try {\n",
       "                // console.log(\"Handling '\" + msg_type + \"' message: \", msg);\n",
       "                callback(fig, msg);\n",
       "            } catch (e) {\n",
       "                console.log(\"Exception inside the 'handler_\" + msg_type + \"' callback:\", e, e.stack, msg);\n",
       "            }\n",
       "        }\n",
       "    };\n",
       "}\n",
       "\n",
       "// from http://stackoverflow.com/questions/1114465/getting-mouse-location-in-canvas\n",
       "mpl.findpos = function(e) {\n",
       "    //this section is from http://www.quirksmode.org/js/events_properties.html\n",
       "    var targ;\n",
       "    if (!e)\n",
       "        e = window.event;\n",
       "    if (e.target)\n",
       "        targ = e.target;\n",
       "    else if (e.srcElement)\n",
       "        targ = e.srcElement;\n",
       "    if (targ.nodeType == 3) // defeat Safari bug\n",
       "        targ = targ.parentNode;\n",
       "\n",
       "    // jQuery normalizes the pageX and pageY\n",
       "    // pageX,Y are the mouse positions relative to the document\n",
       "    // offset() returns the position of the element relative to the document\n",
       "    var x = e.pageX - $(targ).offset().left;\n",
       "    var y = e.pageY - $(targ).offset().top;\n",
       "\n",
       "    return {\"x\": x, \"y\": y};\n",
       "};\n",
       "\n",
       "/*\n",
       " * return a copy of an object with only non-object keys\n",
       " * we need this to avoid circular references\n",
       " * http://stackoverflow.com/a/24161582/3208463\n",
       " */\n",
       "function simpleKeys (original) {\n",
       "  return Object.keys(original).reduce(function (obj, key) {\n",
       "    if (typeof original[key] !== 'object')\n",
       "        obj[key] = original[key]\n",
       "    return obj;\n",
       "  }, {});\n",
       "}\n",
       "\n",
       "mpl.figure.prototype.mouse_event = function(event, name) {\n",
       "    var canvas_pos = mpl.findpos(event)\n",
       "\n",
       "    if (name === 'button_press')\n",
       "    {\n",
       "        this.canvas.focus();\n",
       "        this.canvas_div.focus();\n",
       "    }\n",
       "\n",
       "    var x = canvas_pos.x;\n",
       "    var y = canvas_pos.y;\n",
       "\n",
       "    this.send_message(name, {x: x, y: y, button: event.button,\n",
       "                             step: event.step,\n",
       "                             guiEvent: simpleKeys(event)});\n",
       "\n",
       "    /* This prevents the web browser from automatically changing to\n",
       "     * the text insertion cursor when the button is pressed.  We want\n",
       "     * to control all of the cursor setting manually through the\n",
       "     * 'cursor' event from matplotlib */\n",
       "    event.preventDefault();\n",
       "    return false;\n",
       "}\n",
       "\n",
       "mpl.figure.prototype._key_event_extra = function(event, name) {\n",
       "    // Handle any extra behaviour associated with a key event\n",
       "}\n",
       "\n",
       "mpl.figure.prototype.key_event = function(event, name) {\n",
       "\n",
       "    // Prevent repeat events\n",
       "    if (name == 'key_press')\n",
       "    {\n",
       "        if (event.which === this._key)\n",
       "            return;\n",
       "        else\n",
       "            this._key = event.which;\n",
       "    }\n",
       "    if (name == 'key_release')\n",
       "        this._key = null;\n",
       "\n",
       "    var value = '';\n",
       "    if (event.ctrlKey && event.which != 17)\n",
       "        value += \"ctrl+\";\n",
       "    if (event.altKey && event.which != 18)\n",
       "        value += \"alt+\";\n",
       "    if (event.shiftKey && event.which != 16)\n",
       "        value += \"shift+\";\n",
       "\n",
       "    value += 'k';\n",
       "    value += event.which.toString();\n",
       "\n",
       "    this._key_event_extra(event, name);\n",
       "\n",
       "    this.send_message(name, {key: value,\n",
       "                             guiEvent: simpleKeys(event)});\n",
       "    return false;\n",
       "}\n",
       "\n",
       "mpl.figure.prototype.toolbar_button_onclick = function(name) {\n",
       "    if (name == 'download') {\n",
       "        this.handle_save(this, null);\n",
       "    } else {\n",
       "        this.send_message(\"toolbar_button\", {name: name});\n",
       "    }\n",
       "};\n",
       "\n",
       "mpl.figure.prototype.toolbar_button_onmouseover = function(tooltip) {\n",
       "    this.message.textContent = tooltip;\n",
       "};\n",
       "mpl.toolbar_items = [[\"Home\", \"Reset original view\", \"fa fa-home icon-home\", \"home\"], [\"Back\", \"Back to  previous view\", \"fa fa-arrow-left icon-arrow-left\", \"back\"], [\"Forward\", \"Forward to next view\", \"fa fa-arrow-right icon-arrow-right\", \"forward\"], [\"\", \"\", \"\", \"\"], [\"Pan\", \"Pan axes with left mouse, zoom with right\", \"fa fa-arrows icon-move\", \"pan\"], [\"Zoom\", \"Zoom to rectangle\", \"fa fa-square-o icon-check-empty\", \"zoom\"], [\"\", \"\", \"\", \"\"], [\"Download\", \"Download plot\", \"fa fa-floppy-o icon-save\", \"download\"]];\n",
       "\n",
       "mpl.extensions = [\"eps\", \"jpeg\", \"pdf\", \"png\", \"ps\", \"raw\", \"svg\", \"tif\"];\n",
       "\n",
       "mpl.default_extension = \"png\";var comm_websocket_adapter = function(comm) {\n",
       "    // Create a \"websocket\"-like object which calls the given IPython comm\n",
       "    // object with the appropriate methods. Currently this is a non binary\n",
       "    // socket, so there is still some room for performance tuning.\n",
       "    var ws = {};\n",
       "\n",
       "    ws.close = function() {\n",
       "        comm.close()\n",
       "    };\n",
       "    ws.send = function(m) {\n",
       "        //console.log('sending', m);\n",
       "        comm.send(m);\n",
       "    };\n",
       "    // Register the callback with on_msg.\n",
       "    comm.on_msg(function(msg) {\n",
       "        //console.log('receiving', msg['content']['data'], msg);\n",
       "        // Pass the mpl event to the overriden (by mpl) onmessage function.\n",
       "        ws.onmessage(msg['content']['data'])\n",
       "    });\n",
       "    return ws;\n",
       "}\n",
       "\n",
       "mpl.mpl_figure_comm = function(comm, msg) {\n",
       "    // This is the function which gets called when the mpl process\n",
       "    // starts-up an IPython Comm through the \"matplotlib\" channel.\n",
       "\n",
       "    var id = msg.content.data.id;\n",
       "    // Get hold of the div created by the display call when the Comm\n",
       "    // socket was opened in Python.\n",
       "    var element = $(\"#\" + id);\n",
       "    var ws_proxy = comm_websocket_adapter(comm)\n",
       "\n",
       "    function ondownload(figure, format) {\n",
       "        window.open(figure.imageObj.src);\n",
       "    }\n",
       "\n",
       "    var fig = new mpl.figure(id, ws_proxy,\n",
       "                           ondownload,\n",
       "                           element.get(0));\n",
       "\n",
       "    // Call onopen now - mpl needs it, as it is assuming we've passed it a real\n",
       "    // web socket which is closed, not our websocket->open comm proxy.\n",
       "    ws_proxy.onopen();\n",
       "\n",
       "    fig.parent_element = element.get(0);\n",
       "    fig.cell_info = mpl.find_output_cell(\"<div id='\" + id + \"'></div>\");\n",
       "    if (!fig.cell_info) {\n",
       "        console.error(\"Failed to find cell for figure\", id, fig);\n",
       "        return;\n",
       "    }\n",
       "\n",
       "    var output_index = fig.cell_info[2]\n",
       "    var cell = fig.cell_info[0];\n",
       "\n",
       "};\n",
       "\n",
       "mpl.figure.prototype.handle_close = function(fig, msg) {\n",
       "    fig.root.unbind('remove')\n",
       "\n",
       "    // Update the output cell to use the data from the current canvas.\n",
       "    fig.push_to_output();\n",
       "    var dataURL = fig.canvas.toDataURL();\n",
       "    // Re-enable the keyboard manager in IPython - without this line, in FF,\n",
       "    // the notebook keyboard shortcuts fail.\n",
       "    IPython.keyboard_manager.enable()\n",
       "    $(fig.parent_element).html('<img src=\"' + dataURL + '\">');\n",
       "    fig.close_ws(fig, msg);\n",
       "}\n",
       "\n",
       "mpl.figure.prototype.close_ws = function(fig, msg){\n",
       "    fig.send_message('closing', msg);\n",
       "    // fig.ws.close()\n",
       "}\n",
       "\n",
       "mpl.figure.prototype.push_to_output = function(remove_interactive) {\n",
       "    // Turn the data on the canvas into data in the output cell.\n",
       "    var dataURL = this.canvas.toDataURL();\n",
       "    this.cell_info[1]['text/html'] = '<img src=\"' + dataURL + '\">';\n",
       "}\n",
       "\n",
       "mpl.figure.prototype.updated_canvas_event = function() {\n",
       "    // Tell IPython that the notebook contents must change.\n",
       "    IPython.notebook.set_dirty(true);\n",
       "    this.send_message(\"ack\", {});\n",
       "    var fig = this;\n",
       "    // Wait a second, then push the new image to the DOM so\n",
       "    // that it is saved nicely (might be nice to debounce this).\n",
       "    setTimeout(function () { fig.push_to_output() }, 1000);\n",
       "}\n",
       "\n",
       "mpl.figure.prototype._init_toolbar = function() {\n",
       "    var fig = this;\n",
       "\n",
       "    var nav_element = $('<div/>')\n",
       "    nav_element.attr('style', 'width: 100%');\n",
       "    this.root.append(nav_element);\n",
       "\n",
       "    // Define a callback function for later on.\n",
       "    function toolbar_event(event) {\n",
       "        return fig.toolbar_button_onclick(event['data']);\n",
       "    }\n",
       "    function toolbar_mouse_event(event) {\n",
       "        return fig.toolbar_button_onmouseover(event['data']);\n",
       "    }\n",
       "\n",
       "    for(var toolbar_ind in mpl.toolbar_items){\n",
       "        var name = mpl.toolbar_items[toolbar_ind][0];\n",
       "        var tooltip = mpl.toolbar_items[toolbar_ind][1];\n",
       "        var image = mpl.toolbar_items[toolbar_ind][2];\n",
       "        var method_name = mpl.toolbar_items[toolbar_ind][3];\n",
       "\n",
       "        if (!name) { continue; };\n",
       "\n",
       "        var button = $('<button class=\"btn btn-default\" href=\"#\" title=\"' + name + '\"><i class=\"fa ' + image + ' fa-lg\"></i></button>');\n",
       "        button.click(method_name, toolbar_event);\n",
       "        button.mouseover(tooltip, toolbar_mouse_event);\n",
       "        nav_element.append(button);\n",
       "    }\n",
       "\n",
       "    // Add the status bar.\n",
       "    var status_bar = $('<span class=\"mpl-message\" style=\"text-align:right; float: right;\"/>');\n",
       "    nav_element.append(status_bar);\n",
       "    this.message = status_bar[0];\n",
       "\n",
       "    // Add the close button to the window.\n",
       "    var buttongrp = $('<div class=\"btn-group inline pull-right\"></div>');\n",
       "    var button = $('<button class=\"btn btn-mini btn-primary\" href=\"#\" title=\"Stop Interaction\"><i class=\"fa fa-power-off icon-remove icon-large\"></i></button>');\n",
       "    button.click(function (evt) { fig.handle_close(fig, {}); } );\n",
       "    button.mouseover('Stop Interaction', toolbar_mouse_event);\n",
       "    buttongrp.append(button);\n",
       "    var titlebar = this.root.find($('.ui-dialog-titlebar'));\n",
       "    titlebar.prepend(buttongrp);\n",
       "}\n",
       "\n",
       "mpl.figure.prototype._root_extra_style = function(el){\n",
       "    var fig = this\n",
       "    el.on(\"remove\", function(){\n",
       "\tfig.close_ws(fig, {});\n",
       "    });\n",
       "}\n",
       "\n",
       "mpl.figure.prototype._canvas_extra_style = function(el){\n",
       "    // this is important to make the div 'focusable\n",
       "    el.attr('tabindex', 0)\n",
       "    // reach out to IPython and tell the keyboard manager to turn it's self\n",
       "    // off when our div gets focus\n",
       "\n",
       "    // location in version 3\n",
       "    if (IPython.notebook.keyboard_manager) {\n",
       "        IPython.notebook.keyboard_manager.register_events(el);\n",
       "    }\n",
       "    else {\n",
       "        // location in version 2\n",
       "        IPython.keyboard_manager.register_events(el);\n",
       "    }\n",
       "\n",
       "}\n",
       "\n",
       "mpl.figure.prototype._key_event_extra = function(event, name) {\n",
       "    var manager = IPython.notebook.keyboard_manager;\n",
       "    if (!manager)\n",
       "        manager = IPython.keyboard_manager;\n",
       "\n",
       "    // Check for shift+enter\n",
       "    if (event.shiftKey && event.which == 13) {\n",
       "        this.canvas_div.blur();\n",
       "        event.shiftKey = false;\n",
       "        // Send a \"J\" for go to next cell\n",
       "        event.which = 74;\n",
       "        event.keyCode = 74;\n",
       "        manager.command_mode();\n",
       "        manager.handle_keydown(event);\n",
       "    }\n",
       "}\n",
       "\n",
       "mpl.figure.prototype.handle_save = function(fig, msg) {\n",
       "    fig.ondownload(fig, null);\n",
       "}\n",
       "\n",
       "\n",
       "mpl.find_output_cell = function(html_output) {\n",
       "    // Return the cell and output element which can be found *uniquely* in the notebook.\n",
       "    // Note - this is a bit hacky, but it is done because the \"notebook_saving.Notebook\"\n",
       "    // IPython event is triggered only after the cells have been serialised, which for\n",
       "    // our purposes (turning an active figure into a static one), is too late.\n",
       "    var cells = IPython.notebook.get_cells();\n",
       "    var ncells = cells.length;\n",
       "    for (var i=0; i<ncells; i++) {\n",
       "        var cell = cells[i];\n",
       "        if (cell.cell_type === 'code'){\n",
       "            for (var j=0; j<cell.output_area.outputs.length; j++) {\n",
       "                var data = cell.output_area.outputs[j];\n",
       "                if (data.data) {\n",
       "                    // IPython >= 3 moved mimebundle to data attribute of output\n",
       "                    data = data.data;\n",
       "                }\n",
       "                if (data['text/html'] == html_output) {\n",
       "                    return [cell, data, j];\n",
       "                }\n",
       "            }\n",
       "        }\n",
       "    }\n",
       "}\n",
       "\n",
       "// Register the function which deals with the matplotlib target/channel.\n",
       "// The kernel may be null if the page has been refreshed.\n",
       "if (IPython.notebook.kernel != null) {\n",
       "    IPython.notebook.kernel.comm_manager.register_target('matplotlib', mpl.mpl_figure_comm);\n",
       "}\n"
      ],
      "text/plain": [
       "<IPython.core.display.Javascript object>"
      ]
     },
     "metadata": {},
     "output_type": "display_data"
    },
    {
     "data": {
      "text/html": [
       "<img src=\"data:image/png;base64,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\">"
      ],
      "text/plain": [
       "<IPython.core.display.HTML object>"
      ]
     },
     "metadata": {},
     "output_type": "display_data"
    }
   ],
   "source": [
    "viz.plot_shower3d(ellipsoide_rot, alltel)"
   ]
  },
  {
   "cell_type": "code",
   "execution_count": 151,
   "metadata": {
    "scrolled": true
   },
   "outputs": [
    {
     "data": {
      "application/javascript": [
       "/* Put everything inside the global mpl namespace */\n",
       "window.mpl = {};\n",
       "\n",
       "mpl.get_websocket_type = function() {\n",
       "    if (typeof(WebSocket) !== 'undefined') {\n",
       "        return WebSocket;\n",
       "    } else if (typeof(MozWebSocket) !== 'undefined') {\n",
       "        return MozWebSocket;\n",
       "    } else {\n",
       "        alert('Your browser does not have WebSocket support.' +\n",
       "              'Please try Chrome, Safari or Firefox ≥ 6. ' +\n",
       "              'Firefox 4 and 5 are also supported but you ' +\n",
       "              'have to enable WebSockets in about:config.');\n",
       "    };\n",
       "}\n",
       "\n",
       "mpl.figure = function(figure_id, websocket, ondownload, parent_element) {\n",
       "    this.id = figure_id;\n",
       "\n",
       "    this.ws = websocket;\n",
       "\n",
       "    this.supports_binary = (this.ws.binaryType != undefined);\n",
       "\n",
       "    if (!this.supports_binary) {\n",
       "        var warnings = document.getElementById(\"mpl-warnings\");\n",
       "        if (warnings) {\n",
       "            warnings.style.display = 'block';\n",
       "            warnings.textContent = (\n",
       "                \"This browser does not support binary websocket messages. \" +\n",
       "                    \"Performance may be slow.\");\n",
       "        }\n",
       "    }\n",
       "\n",
       "    this.imageObj = new Image();\n",
       "\n",
       "    this.context = undefined;\n",
       "    this.message = undefined;\n",
       "    this.canvas = undefined;\n",
       "    this.rubberband_canvas = undefined;\n",
       "    this.rubberband_context = undefined;\n",
       "    this.format_dropdown = undefined;\n",
       "\n",
       "    this.image_mode = 'full';\n",
       "\n",
       "    this.root = $('<div/>');\n",
       "    this._root_extra_style(this.root)\n",
       "    this.root.attr('style', 'display: inline-block');\n",
       "\n",
       "    $(parent_element).append(this.root);\n",
       "\n",
       "    this._init_header(this);\n",
       "    this._init_canvas(this);\n",
       "    this._init_toolbar(this);\n",
       "\n",
       "    var fig = this;\n",
       "\n",
       "    this.waiting = false;\n",
       "\n",
       "    this.ws.onopen =  function () {\n",
       "            fig.send_message(\"supports_binary\", {value: fig.supports_binary});\n",
       "            fig.send_message(\"send_image_mode\", {});\n",
       "            fig.send_message(\"refresh\", {});\n",
       "        }\n",
       "\n",
       "    this.imageObj.onload = function() {\n",
       "            if (fig.image_mode == 'full') {\n",
       "                // Full images could contain transparency (where diff images\n",
       "                // almost always do), so we need to clear the canvas so that\n",
       "                // there is no ghosting.\n",
       "                fig.context.clearRect(0, 0, fig.canvas.width, fig.canvas.height);\n",
       "            }\n",
       "            fig.context.drawImage(fig.imageObj, 0, 0);\n",
       "        };\n",
       "\n",
       "    this.imageObj.onunload = function() {\n",
       "        this.ws.close();\n",
       "    }\n",
       "\n",
       "    this.ws.onmessage = this._make_on_message_function(this);\n",
       "\n",
       "    this.ondownload = ondownload;\n",
       "}\n",
       "\n",
       "mpl.figure.prototype._init_header = function() {\n",
       "    var titlebar = $(\n",
       "        '<div class=\"ui-dialog-titlebar ui-widget-header ui-corner-all ' +\n",
       "        'ui-helper-clearfix\"/>');\n",
       "    var titletext = $(\n",
       "        '<div class=\"ui-dialog-title\" style=\"width: 100%; ' +\n",
       "        'text-align: center; padding: 3px;\"/>');\n",
       "    titlebar.append(titletext)\n",
       "    this.root.append(titlebar);\n",
       "    this.header = titletext[0];\n",
       "}\n",
       "\n",
       "\n",
       "\n",
       "mpl.figure.prototype._canvas_extra_style = function(canvas_div) {\n",
       "\n",
       "}\n",
       "\n",
       "\n",
       "mpl.figure.prototype._root_extra_style = function(canvas_div) {\n",
       "\n",
       "}\n",
       "\n",
       "mpl.figure.prototype._init_canvas = function() {\n",
       "    var fig = this;\n",
       "\n",
       "    var canvas_div = $('<div/>');\n",
       "\n",
       "    canvas_div.attr('style', 'position: relative; clear: both; outline: 0');\n",
       "\n",
       "    function canvas_keyboard_event(event) {\n",
       "        return fig.key_event(event, event['data']);\n",
       "    }\n",
       "\n",
       "    canvas_div.keydown('key_press', canvas_keyboard_event);\n",
       "    canvas_div.keyup('key_release', canvas_keyboard_event);\n",
       "    this.canvas_div = canvas_div\n",
       "    this._canvas_extra_style(canvas_div)\n",
       "    this.root.append(canvas_div);\n",
       "\n",
       "    var canvas = $('<canvas/>');\n",
       "    canvas.addClass('mpl-canvas');\n",
       "    canvas.attr('style', \"left: 0; top: 0; z-index: 0; outline: 0\")\n",
       "\n",
       "    this.canvas = canvas[0];\n",
       "    this.context = canvas[0].getContext(\"2d\");\n",
       "\n",
       "    var rubberband = $('<canvas/>');\n",
       "    rubberband.attr('style', \"position: absolute; left: 0; top: 0; z-index: 1;\")\n",
       "\n",
       "    var pass_mouse_events = true;\n",
       "\n",
       "    canvas_div.resizable({\n",
       "        start: function(event, ui) {\n",
       "            pass_mouse_events = false;\n",
       "        },\n",
       "        resize: function(event, ui) {\n",
       "            fig.request_resize(ui.size.width, ui.size.height);\n",
       "        },\n",
       "        stop: function(event, ui) {\n",
       "            pass_mouse_events = true;\n",
       "            fig.request_resize(ui.size.width, ui.size.height);\n",
       "        },\n",
       "    });\n",
       "\n",
       "    function mouse_event_fn(event) {\n",
       "        if (pass_mouse_events)\n",
       "            return fig.mouse_event(event, event['data']);\n",
       "    }\n",
       "\n",
       "    rubberband.mousedown('button_press', mouse_event_fn);\n",
       "    rubberband.mouseup('button_release', mouse_event_fn);\n",
       "    // Throttle sequential mouse events to 1 every 20ms.\n",
       "    rubberband.mousemove('motion_notify', mouse_event_fn);\n",
       "\n",
       "    rubberband.mouseenter('figure_enter', mouse_event_fn);\n",
       "    rubberband.mouseleave('figure_leave', mouse_event_fn);\n",
       "\n",
       "    canvas_div.on(\"wheel\", function (event) {\n",
       "        event = event.originalEvent;\n",
       "        event['data'] = 'scroll'\n",
       "        if (event.deltaY < 0) {\n",
       "            event.step = 1;\n",
       "        } else {\n",
       "            event.step = -1;\n",
       "        }\n",
       "        mouse_event_fn(event);\n",
       "    });\n",
       "\n",
       "    canvas_div.append(canvas);\n",
       "    canvas_div.append(rubberband);\n",
       "\n",
       "    this.rubberband = rubberband;\n",
       "    this.rubberband_canvas = rubberband[0];\n",
       "    this.rubberband_context = rubberband[0].getContext(\"2d\");\n",
       "    this.rubberband_context.strokeStyle = \"#000000\";\n",
       "\n",
       "    this._resize_canvas = function(width, height) {\n",
       "        // Keep the size of the canvas, canvas container, and rubber band\n",
       "        // canvas in synch.\n",
       "        canvas_div.css('width', width)\n",
       "        canvas_div.css('height', height)\n",
       "\n",
       "        canvas.attr('width', width);\n",
       "        canvas.attr('height', height);\n",
       "\n",
       "        rubberband.attr('width', width);\n",
       "        rubberband.attr('height', height);\n",
       "    }\n",
       "\n",
       "    // Set the figure to an initial 600x600px, this will subsequently be updated\n",
       "    // upon first draw.\n",
       "    this._resize_canvas(600, 600);\n",
       "\n",
       "    // Disable right mouse context menu.\n",
       "    $(this.rubberband_canvas).bind(\"contextmenu\",function(e){\n",
       "        return false;\n",
       "    });\n",
       "\n",
       "    function set_focus () {\n",
       "        canvas.focus();\n",
       "        canvas_div.focus();\n",
       "    }\n",
       "\n",
       "    window.setTimeout(set_focus, 100);\n",
       "}\n",
       "\n",
       "mpl.figure.prototype._init_toolbar = function() {\n",
       "    var fig = this;\n",
       "\n",
       "    var nav_element = $('<div/>')\n",
       "    nav_element.attr('style', 'width: 100%');\n",
       "    this.root.append(nav_element);\n",
       "\n",
       "    // Define a callback function for later on.\n",
       "    function toolbar_event(event) {\n",
       "        return fig.toolbar_button_onclick(event['data']);\n",
       "    }\n",
       "    function toolbar_mouse_event(event) {\n",
       "        return fig.toolbar_button_onmouseover(event['data']);\n",
       "    }\n",
       "\n",
       "    for(var toolbar_ind in mpl.toolbar_items) {\n",
       "        var name = mpl.toolbar_items[toolbar_ind][0];\n",
       "        var tooltip = mpl.toolbar_items[toolbar_ind][1];\n",
       "        var image = mpl.toolbar_items[toolbar_ind][2];\n",
       "        var method_name = mpl.toolbar_items[toolbar_ind][3];\n",
       "\n",
       "        if (!name) {\n",
       "            // put a spacer in here.\n",
       "            continue;\n",
       "        }\n",
       "        var button = $('<button/>');\n",
       "        button.addClass('ui-button ui-widget ui-state-default ui-corner-all ' +\n",
       "                        'ui-button-icon-only');\n",
       "        button.attr('role', 'button');\n",
       "        button.attr('aria-disabled', 'false');\n",
       "        button.click(method_name, toolbar_event);\n",
       "        button.mouseover(tooltip, toolbar_mouse_event);\n",
       "\n",
       "        var icon_img = $('<span/>');\n",
       "        icon_img.addClass('ui-button-icon-primary ui-icon');\n",
       "        icon_img.addClass(image);\n",
       "        icon_img.addClass('ui-corner-all');\n",
       "\n",
       "        var tooltip_span = $('<span/>');\n",
       "        tooltip_span.addClass('ui-button-text');\n",
       "        tooltip_span.html(tooltip);\n",
       "\n",
       "        button.append(icon_img);\n",
       "        button.append(tooltip_span);\n",
       "\n",
       "        nav_element.append(button);\n",
       "    }\n",
       "\n",
       "    var fmt_picker_span = $('<span/>');\n",
       "\n",
       "    var fmt_picker = $('<select/>');\n",
       "    fmt_picker.addClass('mpl-toolbar-option ui-widget ui-widget-content');\n",
       "    fmt_picker_span.append(fmt_picker);\n",
       "    nav_element.append(fmt_picker_span);\n",
       "    this.format_dropdown = fmt_picker[0];\n",
       "\n",
       "    for (var ind in mpl.extensions) {\n",
       "        var fmt = mpl.extensions[ind];\n",
       "        var option = $(\n",
       "            '<option/>', {selected: fmt === mpl.default_extension}).html(fmt);\n",
       "        fmt_picker.append(option)\n",
       "    }\n",
       "\n",
       "    // Add hover states to the ui-buttons\n",
       "    $( \".ui-button\" ).hover(\n",
       "        function() { $(this).addClass(\"ui-state-hover\");},\n",
       "        function() { $(this).removeClass(\"ui-state-hover\");}\n",
       "    );\n",
       "\n",
       "    var status_bar = $('<span class=\"mpl-message\"/>');\n",
       "    nav_element.append(status_bar);\n",
       "    this.message = status_bar[0];\n",
       "}\n",
       "\n",
       "mpl.figure.prototype.request_resize = function(x_pixels, y_pixels) {\n",
       "    // Request matplotlib to resize the figure. Matplotlib will then trigger a resize in the client,\n",
       "    // which will in turn request a refresh of the image.\n",
       "    this.send_message('resize', {'width': x_pixels, 'height': y_pixels});\n",
       "}\n",
       "\n",
       "mpl.figure.prototype.send_message = function(type, properties) {\n",
       "    properties['type'] = type;\n",
       "    properties['figure_id'] = this.id;\n",
       "    this.ws.send(JSON.stringify(properties));\n",
       "}\n",
       "\n",
       "mpl.figure.prototype.send_draw_message = function() {\n",
       "    if (!this.waiting) {\n",
       "        this.waiting = true;\n",
       "        this.ws.send(JSON.stringify({type: \"draw\", figure_id: this.id}));\n",
       "    }\n",
       "}\n",
       "\n",
       "\n",
       "mpl.figure.prototype.handle_save = function(fig, msg) {\n",
       "    var format_dropdown = fig.format_dropdown;\n",
       "    var format = format_dropdown.options[format_dropdown.selectedIndex].value;\n",
       "    fig.ondownload(fig, format);\n",
       "}\n",
       "\n",
       "\n",
       "mpl.figure.prototype.handle_resize = function(fig, msg) {\n",
       "    var size = msg['size'];\n",
       "    if (size[0] != fig.canvas.width || size[1] != fig.canvas.height) {\n",
       "        fig._resize_canvas(size[0], size[1]);\n",
       "        fig.send_message(\"refresh\", {});\n",
       "    };\n",
       "}\n",
       "\n",
       "mpl.figure.prototype.handle_rubberband = function(fig, msg) {\n",
       "    var x0 = msg['x0'];\n",
       "    var y0 = fig.canvas.height - msg['y0'];\n",
       "    var x1 = msg['x1'];\n",
       "    var y1 = fig.canvas.height - msg['y1'];\n",
       "    x0 = Math.floor(x0) + 0.5;\n",
       "    y0 = Math.floor(y0) + 0.5;\n",
       "    x1 = Math.floor(x1) + 0.5;\n",
       "    y1 = Math.floor(y1) + 0.5;\n",
       "    var min_x = Math.min(x0, x1);\n",
       "    var min_y = Math.min(y0, y1);\n",
       "    var width = Math.abs(x1 - x0);\n",
       "    var height = Math.abs(y1 - y0);\n",
       "\n",
       "    fig.rubberband_context.clearRect(\n",
       "        0, 0, fig.canvas.width, fig.canvas.height);\n",
       "\n",
       "    fig.rubberband_context.strokeRect(min_x, min_y, width, height);\n",
       "}\n",
       "\n",
       "mpl.figure.prototype.handle_figure_label = function(fig, msg) {\n",
       "    // Updates the figure title.\n",
       "    fig.header.textContent = msg['label'];\n",
       "}\n",
       "\n",
       "mpl.figure.prototype.handle_cursor = function(fig, msg) {\n",
       "    var cursor = msg['cursor'];\n",
       "    switch(cursor)\n",
       "    {\n",
       "    case 0:\n",
       "        cursor = 'pointer';\n",
       "        break;\n",
       "    case 1:\n",
       "        cursor = 'default';\n",
       "        break;\n",
       "    case 2:\n",
       "        cursor = 'crosshair';\n",
       "        break;\n",
       "    case 3:\n",
       "        cursor = 'move';\n",
       "        break;\n",
       "    }\n",
       "    fig.rubberband_canvas.style.cursor = cursor;\n",
       "}\n",
       "\n",
       "mpl.figure.prototype.handle_message = function(fig, msg) {\n",
       "    fig.message.textContent = msg['message'];\n",
       "}\n",
       "\n",
       "mpl.figure.prototype.handle_draw = function(fig, msg) {\n",
       "    // Request the server to send over a new figure.\n",
       "    fig.send_draw_message();\n",
       "}\n",
       "\n",
       "mpl.figure.prototype.handle_image_mode = function(fig, msg) {\n",
       "    fig.image_mode = msg['mode'];\n",
       "}\n",
       "\n",
       "mpl.figure.prototype.updated_canvas_event = function() {\n",
       "    // Called whenever the canvas gets updated.\n",
       "    this.send_message(\"ack\", {});\n",
       "}\n",
       "\n",
       "// A function to construct a web socket function for onmessage handling.\n",
       "// Called in the figure constructor.\n",
       "mpl.figure.prototype._make_on_message_function = function(fig) {\n",
       "    return function socket_on_message(evt) {\n",
       "        if (evt.data instanceof Blob) {\n",
       "            /* FIXME: We get \"Resource interpreted as Image but\n",
       "             * transferred with MIME type text/plain:\" errors on\n",
       "             * Chrome.  But how to set the MIME type?  It doesn't seem\n",
       "             * to be part of the websocket stream */\n",
       "            evt.data.type = \"image/png\";\n",
       "\n",
       "            /* Free the memory for the previous frames */\n",
       "            if (fig.imageObj.src) {\n",
       "                (window.URL || window.webkitURL).revokeObjectURL(\n",
       "                    fig.imageObj.src);\n",
       "            }\n",
       "\n",
       "            fig.imageObj.src = (window.URL || window.webkitURL).createObjectURL(\n",
       "                evt.data);\n",
       "            fig.updated_canvas_event();\n",
       "            fig.waiting = false;\n",
       "            return;\n",
       "        }\n",
       "        else if (typeof evt.data === 'string' && evt.data.slice(0, 21) == \"data:image/png;base64\") {\n",
       "            fig.imageObj.src = evt.data;\n",
       "            fig.updated_canvas_event();\n",
       "            fig.waiting = false;\n",
       "            return;\n",
       "        }\n",
       "\n",
       "        var msg = JSON.parse(evt.data);\n",
       "        var msg_type = msg['type'];\n",
       "\n",
       "        // Call the  \"handle_{type}\" callback, which takes\n",
       "        // the figure and JSON message as its only arguments.\n",
       "        try {\n",
       "            var callback = fig[\"handle_\" + msg_type];\n",
       "        } catch (e) {\n",
       "            console.log(\"No handler for the '\" + msg_type + \"' message type: \", msg);\n",
       "            return;\n",
       "        }\n",
       "\n",
       "        if (callback) {\n",
       "            try {\n",
       "                // console.log(\"Handling '\" + msg_type + \"' message: \", msg);\n",
       "                callback(fig, msg);\n",
       "            } catch (e) {\n",
       "                console.log(\"Exception inside the 'handler_\" + msg_type + \"' callback:\", e, e.stack, msg);\n",
       "            }\n",
       "        }\n",
       "    };\n",
       "}\n",
       "\n",
       "// from http://stackoverflow.com/questions/1114465/getting-mouse-location-in-canvas\n",
       "mpl.findpos = function(e) {\n",
       "    //this section is from http://www.quirksmode.org/js/events_properties.html\n",
       "    var targ;\n",
       "    if (!e)\n",
       "        e = window.event;\n",
       "    if (e.target)\n",
       "        targ = e.target;\n",
       "    else if (e.srcElement)\n",
       "        targ = e.srcElement;\n",
       "    if (targ.nodeType == 3) // defeat Safari bug\n",
       "        targ = targ.parentNode;\n",
       "\n",
       "    // jQuery normalizes the pageX and pageY\n",
       "    // pageX,Y are the mouse positions relative to the document\n",
       "    // offset() returns the position of the element relative to the document\n",
       "    var x = e.pageX - $(targ).offset().left;\n",
       "    var y = e.pageY - $(targ).offset().top;\n",
       "\n",
       "    return {\"x\": x, \"y\": y};\n",
       "};\n",
       "\n",
       "/*\n",
       " * return a copy of an object with only non-object keys\n",
       " * we need this to avoid circular references\n",
       " * http://stackoverflow.com/a/24161582/3208463\n",
       " */\n",
       "function simpleKeys (original) {\n",
       "  return Object.keys(original).reduce(function (obj, key) {\n",
       "    if (typeof original[key] !== 'object')\n",
       "        obj[key] = original[key]\n",
       "    return obj;\n",
       "  }, {});\n",
       "}\n",
       "\n",
       "mpl.figure.prototype.mouse_event = function(event, name) {\n",
       "    var canvas_pos = mpl.findpos(event)\n",
       "\n",
       "    if (name === 'button_press')\n",
       "    {\n",
       "        this.canvas.focus();\n",
       "        this.canvas_div.focus();\n",
       "    }\n",
       "\n",
       "    var x = canvas_pos.x;\n",
       "    var y = canvas_pos.y;\n",
       "\n",
       "    this.send_message(name, {x: x, y: y, button: event.button,\n",
       "                             step: event.step,\n",
       "                             guiEvent: simpleKeys(event)});\n",
       "\n",
       "    /* This prevents the web browser from automatically changing to\n",
       "     * the text insertion cursor when the button is pressed.  We want\n",
       "     * to control all of the cursor setting manually through the\n",
       "     * 'cursor' event from matplotlib */\n",
       "    event.preventDefault();\n",
       "    return false;\n",
       "}\n",
       "\n",
       "mpl.figure.prototype._key_event_extra = function(event, name) {\n",
       "    // Handle any extra behaviour associated with a key event\n",
       "}\n",
       "\n",
       "mpl.figure.prototype.key_event = function(event, name) {\n",
       "\n",
       "    // Prevent repeat events\n",
       "    if (name == 'key_press')\n",
       "    {\n",
       "        if (event.which === this._key)\n",
       "            return;\n",
       "        else\n",
       "            this._key = event.which;\n",
       "    }\n",
       "    if (name == 'key_release')\n",
       "        this._key = null;\n",
       "\n",
       "    var value = '';\n",
       "    if (event.ctrlKey && event.which != 17)\n",
       "        value += \"ctrl+\";\n",
       "    if (event.altKey && event.which != 18)\n",
       "        value += \"alt+\";\n",
       "    if (event.shiftKey && event.which != 16)\n",
       "        value += \"shift+\";\n",
       "\n",
       "    value += 'k';\n",
       "    value += event.which.toString();\n",
       "\n",
       "    this._key_event_extra(event, name);\n",
       "\n",
       "    this.send_message(name, {key: value,\n",
       "                             guiEvent: simpleKeys(event)});\n",
       "    return false;\n",
       "}\n",
       "\n",
       "mpl.figure.prototype.toolbar_button_onclick = function(name) {\n",
       "    if (name == 'download') {\n",
       "        this.handle_save(this, null);\n",
       "    } else {\n",
       "        this.send_message(\"toolbar_button\", {name: name});\n",
       "    }\n",
       "};\n",
       "\n",
       "mpl.figure.prototype.toolbar_button_onmouseover = function(tooltip) {\n",
       "    this.message.textContent = tooltip;\n",
       "};\n",
       "mpl.toolbar_items = [[\"Home\", \"Reset original view\", \"fa fa-home icon-home\", \"home\"], [\"Back\", \"Back to  previous view\", \"fa fa-arrow-left icon-arrow-left\", \"back\"], [\"Forward\", \"Forward to next view\", \"fa fa-arrow-right icon-arrow-right\", \"forward\"], [\"\", \"\", \"\", \"\"], [\"Pan\", \"Pan axes with left mouse, zoom with right\", \"fa fa-arrows icon-move\", \"pan\"], [\"Zoom\", \"Zoom to rectangle\", \"fa fa-square-o icon-check-empty\", \"zoom\"], [\"\", \"\", \"\", \"\"], [\"Download\", \"Download plot\", \"fa fa-floppy-o icon-save\", \"download\"]];\n",
       "\n",
       "mpl.extensions = [\"eps\", \"jpeg\", \"pdf\", \"png\", \"ps\", \"raw\", \"svg\", \"tif\"];\n",
       "\n",
       "mpl.default_extension = \"png\";var comm_websocket_adapter = function(comm) {\n",
       "    // Create a \"websocket\"-like object which calls the given IPython comm\n",
       "    // object with the appropriate methods. Currently this is a non binary\n",
       "    // socket, so there is still some room for performance tuning.\n",
       "    var ws = {};\n",
       "\n",
       "    ws.close = function() {\n",
       "        comm.close()\n",
       "    };\n",
       "    ws.send = function(m) {\n",
       "        //console.log('sending', m);\n",
       "        comm.send(m);\n",
       "    };\n",
       "    // Register the callback with on_msg.\n",
       "    comm.on_msg(function(msg) {\n",
       "        //console.log('receiving', msg['content']['data'], msg);\n",
       "        // Pass the mpl event to the overriden (by mpl) onmessage function.\n",
       "        ws.onmessage(msg['content']['data'])\n",
       "    });\n",
       "    return ws;\n",
       "}\n",
       "\n",
       "mpl.mpl_figure_comm = function(comm, msg) {\n",
       "    // This is the function which gets called when the mpl process\n",
       "    // starts-up an IPython Comm through the \"matplotlib\" channel.\n",
       "\n",
       "    var id = msg.content.data.id;\n",
       "    // Get hold of the div created by the display call when the Comm\n",
       "    // socket was opened in Python.\n",
       "    var element = $(\"#\" + id);\n",
       "    var ws_proxy = comm_websocket_adapter(comm)\n",
       "\n",
       "    function ondownload(figure, format) {\n",
       "        window.open(figure.imageObj.src);\n",
       "    }\n",
       "\n",
       "    var fig = new mpl.figure(id, ws_proxy,\n",
       "                           ondownload,\n",
       "                           element.get(0));\n",
       "\n",
       "    // Call onopen now - mpl needs it, as it is assuming we've passed it a real\n",
       "    // web socket which is closed, not our websocket->open comm proxy.\n",
       "    ws_proxy.onopen();\n",
       "\n",
       "    fig.parent_element = element.get(0);\n",
       "    fig.cell_info = mpl.find_output_cell(\"<div id='\" + id + \"'></div>\");\n",
       "    if (!fig.cell_info) {\n",
       "        console.error(\"Failed to find cell for figure\", id, fig);\n",
       "        return;\n",
       "    }\n",
       "\n",
       "    var output_index = fig.cell_info[2]\n",
       "    var cell = fig.cell_info[0];\n",
       "\n",
       "};\n",
       "\n",
       "mpl.figure.prototype.handle_close = function(fig, msg) {\n",
       "    fig.root.unbind('remove')\n",
       "\n",
       "    // Update the output cell to use the data from the current canvas.\n",
       "    fig.push_to_output();\n",
       "    var dataURL = fig.canvas.toDataURL();\n",
       "    // Re-enable the keyboard manager in IPython - without this line, in FF,\n",
       "    // the notebook keyboard shortcuts fail.\n",
       "    IPython.keyboard_manager.enable()\n",
       "    $(fig.parent_element).html('<img src=\"' + dataURL + '\">');\n",
       "    fig.close_ws(fig, msg);\n",
       "}\n",
       "\n",
       "mpl.figure.prototype.close_ws = function(fig, msg){\n",
       "    fig.send_message('closing', msg);\n",
       "    // fig.ws.close()\n",
       "}\n",
       "\n",
       "mpl.figure.prototype.push_to_output = function(remove_interactive) {\n",
       "    // Turn the data on the canvas into data in the output cell.\n",
       "    var dataURL = this.canvas.toDataURL();\n",
       "    this.cell_info[1]['text/html'] = '<img src=\"' + dataURL + '\">';\n",
       "}\n",
       "\n",
       "mpl.figure.prototype.updated_canvas_event = function() {\n",
       "    // Tell IPython that the notebook contents must change.\n",
       "    IPython.notebook.set_dirty(true);\n",
       "    this.send_message(\"ack\", {});\n",
       "    var fig = this;\n",
       "    // Wait a second, then push the new image to the DOM so\n",
       "    // that it is saved nicely (might be nice to debounce this).\n",
       "    setTimeout(function () { fig.push_to_output() }, 1000);\n",
       "}\n",
       "\n",
       "mpl.figure.prototype._init_toolbar = function() {\n",
       "    var fig = this;\n",
       "\n",
       "    var nav_element = $('<div/>')\n",
       "    nav_element.attr('style', 'width: 100%');\n",
       "    this.root.append(nav_element);\n",
       "\n",
       "    // Define a callback function for later on.\n",
       "    function toolbar_event(event) {\n",
       "        return fig.toolbar_button_onclick(event['data']);\n",
       "    }\n",
       "    function toolbar_mouse_event(event) {\n",
       "        return fig.toolbar_button_onmouseover(event['data']);\n",
       "    }\n",
       "\n",
       "    for(var toolbar_ind in mpl.toolbar_items){\n",
       "        var name = mpl.toolbar_items[toolbar_ind][0];\n",
       "        var tooltip = mpl.toolbar_items[toolbar_ind][1];\n",
       "        var image = mpl.toolbar_items[toolbar_ind][2];\n",
       "        var method_name = mpl.toolbar_items[toolbar_ind][3];\n",
       "\n",
       "        if (!name) { continue; };\n",
       "\n",
       "        var button = $('<button class=\"btn btn-default\" href=\"#\" title=\"' + name + '\"><i class=\"fa ' + image + ' fa-lg\"></i></button>');\n",
       "        button.click(method_name, toolbar_event);\n",
       "        button.mouseover(tooltip, toolbar_mouse_event);\n",
       "        nav_element.append(button);\n",
       "    }\n",
       "\n",
       "    // Add the status bar.\n",
       "    var status_bar = $('<span class=\"mpl-message\" style=\"text-align:right; float: right;\"/>');\n",
       "    nav_element.append(status_bar);\n",
       "    this.message = status_bar[0];\n",
       "\n",
       "    // Add the close button to the window.\n",
       "    var buttongrp = $('<div class=\"btn-group inline pull-right\"></div>');\n",
       "    var button = $('<button class=\"btn btn-mini btn-primary\" href=\"#\" title=\"Stop Interaction\"><i class=\"fa fa-power-off icon-remove icon-large\"></i></button>');\n",
       "    button.click(function (evt) { fig.handle_close(fig, {}); } );\n",
       "    button.mouseover('Stop Interaction', toolbar_mouse_event);\n",
       "    buttongrp.append(button);\n",
       "    var titlebar = this.root.find($('.ui-dialog-titlebar'));\n",
       "    titlebar.prepend(buttongrp);\n",
       "}\n",
       "\n",
       "mpl.figure.prototype._root_extra_style = function(el){\n",
       "    var fig = this\n",
       "    el.on(\"remove\", function(){\n",
       "\tfig.close_ws(fig, {});\n",
       "    });\n",
       "}\n",
       "\n",
       "mpl.figure.prototype._canvas_extra_style = function(el){\n",
       "    // this is important to make the div 'focusable\n",
       "    el.attr('tabindex', 0)\n",
       "    // reach out to IPython and tell the keyboard manager to turn it's self\n",
       "    // off when our div gets focus\n",
       "\n",
       "    // location in version 3\n",
       "    if (IPython.notebook.keyboard_manager) {\n",
       "        IPython.notebook.keyboard_manager.register_events(el);\n",
       "    }\n",
       "    else {\n",
       "        // location in version 2\n",
       "        IPython.keyboard_manager.register_events(el);\n",
       "    }\n",
       "\n",
       "}\n",
       "\n",
       "mpl.figure.prototype._key_event_extra = function(event, name) {\n",
       "    var manager = IPython.notebook.keyboard_manager;\n",
       "    if (!manager)\n",
       "        manager = IPython.keyboard_manager;\n",
       "\n",
       "    // Check for shift+enter\n",
       "    if (event.shiftKey && event.which == 13) {\n",
       "        this.canvas_div.blur();\n",
       "        event.shiftKey = false;\n",
       "        // Send a \"J\" for go to next cell\n",
       "        event.which = 74;\n",
       "        event.keyCode = 74;\n",
       "        manager.command_mode();\n",
       "        manager.handle_keydown(event);\n",
       "    }\n",
       "}\n",
       "\n",
       "mpl.figure.prototype.handle_save = function(fig, msg) {\n",
       "    fig.ondownload(fig, null);\n",
       "}\n",
       "\n",
       "\n",
       "mpl.find_output_cell = function(html_output) {\n",
       "    // Return the cell and output element which can be found *uniquely* in the notebook.\n",
       "    // Note - this is a bit hacky, but it is done because the \"notebook_saving.Notebook\"\n",
       "    // IPython event is triggered only after the cells have been serialised, which for\n",
       "    // our purposes (turning an active figure into a static one), is too late.\n",
       "    var cells = IPython.notebook.get_cells();\n",
       "    var ncells = cells.length;\n",
       "    for (var i=0; i<ncells; i++) {\n",
       "        var cell = cells[i];\n",
       "        if (cell.cell_type === 'code'){\n",
       "            for (var j=0; j<cell.output_area.outputs.length; j++) {\n",
       "                var data = cell.output_area.outputs[j];\n",
       "                if (data.data) {\n",
       "                    // IPython >= 3 moved mimebundle to data attribute of output\n",
       "                    data = data.data;\n",
       "                }\n",
       "                if (data['text/html'] == html_output) {\n",
       "                    return [cell, data, j];\n",
       "                }\n",
       "            }\n",
       "        }\n",
       "    }\n",
       "}\n",
       "\n",
       "// Register the function which deals with the matplotlib target/channel.\n",
       "// The kernel may be null if the page has been refreshed.\n",
       "if (IPython.notebook.kernel != null) {\n",
       "    IPython.notebook.kernel.comm_manager.register_target('matplotlib', mpl.mpl_figure_comm);\n",
       "}\n"
      ],
      "text/plain": [
       "<IPython.core.display.Javascript object>"
      ]
     },
     "metadata": {},
     "output_type": "display_data"
    },
    {
     "data": {
      "text/html": [
       "<img src=\"data:image/png;base64,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\">"
      ],
      "text/plain": [
       "<IPython.core.display.HTML object>"
      ]
     },
     "metadata": {},
     "output_type": "display_data"
    }
   ],
   "source": [
    "viz.plot_shower3d(Gaisser, alltel)"
   ]
  },
  {
   "cell_type": "code",
   "execution_count": 130,
   "metadata": {},
   "outputs": [],
   "source": []
  },
  {
   "cell_type": "code",
   "execution_count": 10,
   "metadata": {},
   "outputs": [],
   "source": [
    "%matplotlib inline\n",
    "import scipy.special as ss\n",
    "import scipy.integrate as si"
   ]
  },
  {
   "cell_type": "code",
   "execution_count": 11,
   "metadata": {},
   "outputs": [],
   "source": [
    "X1 = 10\n",
    "Xmax = 600\n",
    "lamb = 70.\n",
    "W = Xmax - X1\n",
    "eps = W / lamb\n",
    "Nmax = 2\n",
    "X = np.arange(X1, 2000)"
   ]
  },
  {
   "cell_type": "markdown",
   "metadata": {},
   "source": [
    "### Normed Gaisser Hillas"
   ]
  },
  {
   "cell_type": "code",
   "execution_count": 188,
   "metadata": {
    "collapsed": true
   },
   "outputs": [],
   "source": [
    "GH = obj.Normed_Gaisser_Hillas(X1, Xmax, X)"
   ]
  },
  {
   "cell_type": "code",
   "execution_count": 189,
   "metadata": {},
   "outputs": [
    {
     "data": {
      "text/plain": [
       "[<matplotlib.lines.Line2D at 0x11e690278>]"
      ]
     },
     "execution_count": 189,
     "metadata": {},
     "output_type": "execute_result"
    },
    {
     "data": {
      "image/png": "[encoded data removed]",
      "text/plain": [
       "<matplotlib.figure.Figure at 0x11e528b70>"
      ]
     },
     "metadata": {},
     "output_type": "display_data"
    }
   ],
   "source": [
    "plt.plot(X,GH)"
   ]
  },
  {
   "cell_type": "markdown",
   "metadata": {},
   "source": [
    "### Cumulative Gaisser Hillas"
   ]
  },
  {
   "cell_type": "code",
   "execution_count": 190,
   "metadata": {},
   "outputs": [],
   "source": [
    "GH = np.nan_to_num(GH)"
   ]
  },
  {
   "cell_type": "code",
   "execution_count": 191,
   "metadata": {},
   "outputs": [
    {
     "data": {
      "text/plain": [
       "[<matplotlib.lines.Line2D at 0x11e7f4978>]"
      ]
     },
     "execution_count": 191,
     "metadata": {},
     "output_type": "execute_result"
    },
    {
     "data": {
      "image/png": "[encoded data removed]",
      "text/plain": [
       "<matplotlib.figure.Figure at 0x11e719cc0>"
      ]
     },
     "metadata": {},
     "output_type": "display_data"
    }
   ],
   "source": [
    "I = GH.cumsum()\n",
    "plt.plot(X, I)"
   ]
  },
  {
   "cell_type": "markdown",
   "metadata": {},
   "source": [
    "### Normed Gaisser Hillas by Mattews09"
   ]
  },
  {
   "cell_type": "code",
   "execution_count": 192,
   "metadata": {
    "collapsed": true
   },
   "outputs": [],
   "source": [
    "def Ngh_s(x ,eps):\n",
    "    assert np.all(x>=-1) and eps>0\n",
    "    return np.nan_to_num(np.power(1+x, eps) * np.exp(-eps *x))"
   ]
  },
  {
   "cell_type": "markdown",
   "metadata": {},
   "source": [
    "### Gaisser-Hillas scaled"
   ]
  },
  {
   "cell_type": "code",
   "execution_count": 193,
   "metadata": {
    "collapsed": true
   },
   "outputs": [],
   "source": [
    "def Ngh(X, Nmax, Xmax, X1, lam):\n",
    "    assert np.all(X>=X1) and Xmax>=X1 and Nmax > 0 and lam >0\n",
    "    W = Xmax - X1\n",
    "    x = (X-Xmax)/W\n",
    "    eps = W / lam\n",
    "    return Nmax * Ngh_s(x, eps)"
   ]
  },
  {
   "cell_type": "code",
   "execution_count": 194,
   "metadata": {},
   "outputs": [
    {
     "data": {
      "text/plain": [
       "array([  8.10308393e-06,   1.90172511e-05,   4.10774902e-05, ...,\n",
       "         4.15066260e-69,   3.77452385e-69,   3.43246271e-69])"
      ]
     },
     "execution_count": 194,
     "metadata": {},
     "output_type": "execute_result"
    }
   ],
   "source": [
    "Ngh_s(-0.3, eps)\n",
    "Ngh(X, 10, 100, 0, 10)"
   ]
  },
  {
   "cell_type": "code",
   "execution_count": 195,
   "metadata": {},
   "outputs": [],
   "source": [
    "GH2 = Ngh(X, 1, Xmax, X1, lamb)"
   ]
  },
  {
   "cell_type": "markdown",
   "metadata": {},
   "source": [
    "### The two correspond:"
   ]
  },
  {
   "cell_type": "code",
   "execution_count": 196,
   "metadata": {},
   "outputs": [
    {
     "data": {
      "text/plain": [
       "<matplotlib.collections.PathCollection at 0x11e520780>"
      ]
     },
     "execution_count": 196,
     "metadata": {},
     "output_type": "execute_result"
    },
    {
     "data": {
      "image/png": "[encoded data removed]",
      "text/plain": [
       "<matplotlib.figure.Figure at 0x11e58bc88>"
      ]
     },
     "metadata": {},
     "output_type": "display_data"
    }
   ],
   "source": [
    "plt.plot(X, GH)\n",
    "plt.scatter(X, GH2)"
   ]
  },
  {
   "cell_type": "markdown",
   "metadata": {},
   "source": [
    "### Normed Cumulative by me"
   ]
  },
  {
   "cell_type": "code",
   "execution_count": 197,
   "metadata": {},
   "outputs": [
    {
     "data": {
      "text/plain": [
       "0.87188949935169047"
      ]
     },
     "execution_count": 197,
     "metadata": {},
     "output_type": "execute_result"
    }
   ],
   "source": [
    "# def Ingh_s(eps, x_min, x_max):\n",
    "#     return np.exp(eps) * eps**(-1-eps) * ss.gamma(1+eps) * (ss.gammaincc(1+eps, eps*(1+x_min)) - ss.gammaincc(1+eps, eps*(1+x_max)))\n",
    "\n",
    "def Ingh_s(eps, x_min, x_max):\n",
    "    assert np.all(x_min >= -1) and np.all(x_max >= -1)\n",
    "    return np.exp(eps) * eps**(-(eps+1)) * ss.gamma(1+eps) * (ss.gammaincc(1+eps, eps*(1+x_min)) - ss.gammaincc(1+eps, eps*(1+x_max)))\n",
    "Ingh_s(eps, -1, 2)"
   ]
  },
  {
   "cell_type": "code",
   "execution_count": 198,
   "metadata": {},
   "outputs": [
    {
     "data": {
      "text/plain": [
       "[<matplotlib.lines.Line2D at 0x11ec9bba8>]"
      ]
     },
     "execution_count": 198,
     "metadata": {},
     "output_type": "execute_result"
    },
    {
     "data": {
      "image/png": "[encoded data removed]",
      "text/plain": [
       "<matplotlib.figure.Figure at 0x11e926198>"
      ]
     },
     "metadata": {},
     "output_type": "display_data"
    }
   ],
   "source": [
    "Y = np.arange(2000)/Xmax - 1\n",
    "plt.plot(Y,ss.gammaincc(eps, Y))"
   ]
  },
  {
   "cell_type": "markdown",
   "metadata": {},
   "source": [
    "Note that the cumulative should be computed between 0 and X"
   ]
  },
  {
   "cell_type": "markdown",
   "metadata": {},
   "source": [
    "### It works?"
   ]
  },
  {
   "cell_type": "code",
   "execution_count": 199,
   "metadata": {},
   "outputs": [
    {
     "data": {
      "text/plain": [
       "[<matplotlib.lines.Line2D at 0x11edd64e0>]"
      ]
     },
     "execution_count": 199,
     "metadata": {},
     "output_type": "execute_result"
    },
    {
     "data": {
      "image/png": "[encoded data removed]",
      "text/plain": [
       "<matplotlib.figure.Figure at 0x11ecbbc88>"
      ]
     },
     "metadata": {},
     "output_type": "display_data"
    }
   ],
   "source": [
    "nghs = Ngh_s(Y, eps)\n",
    "plt.plot(Y, nghs)"
   ]
  },
  {
   "cell_type": "code",
   "execution_count": 200,
   "metadata": {},
   "outputs": [
    {
     "data": {
      "text/plain": [
       "array([  0.00000000e+00,   3.06565439e-24,   2.08588899e-21, ...,\n",
       "         8.71963979e-01,   8.71964105e-01,   8.71964229e-01])"
      ]
     },
     "execution_count": 200,
     "metadata": {},
     "output_type": "execute_result"
    }
   ],
   "source": [
    "IntNum_nghs = np.empty(len(Y))\n",
    "for idx, y in enumerate(Y):\n",
    "    IntNum_nghs[idx] = si.quad(Ngh_s, Y.min(), y, args = (eps,))[0]\n",
    "IntNum_nghs"
   ]
  },
  {
   "cell_type": "code",
   "execution_count": 201,
   "metadata": {},
   "outputs": [
    {
     "ename": "AssertionError",
     "evalue": "",
     "output_type": "error",
     "traceback": [
      "\u001b[0;31m---------------------------------------------------------------------------\u001b[0m",
      "\u001b[0;31mAssertionError\u001b[0m                            Traceback (most recent call last)",
      "\u001b[0;32m<ipython-input-201-16906da4e28b>\u001b[0m in \u001b[0;36m<module>\u001b[0;34m()\u001b[0m\n\u001b[1;32m      1\u001b[0m \u001b[0mCum_num_nghs\u001b[0m \u001b[0;34m=\u001b[0m \u001b[0mnghs\u001b[0m\u001b[0;34m.\u001b[0m\u001b[0mcumsum\u001b[0m\u001b[0;34m(\u001b[0m\u001b[0;34m)\u001b[0m\u001b[0;34m\u001b[0m\u001b[0m\n\u001b[1;32m      2\u001b[0m \u001b[0mIntTh_nghs\u001b[0m \u001b[0;34m=\u001b[0m \u001b[0mIngh_s\u001b[0m\u001b[0;34m(\u001b[0m\u001b[0meps\u001b[0m\u001b[0;34m,\u001b[0m \u001b[0mY\u001b[0m\u001b[0;34m.\u001b[0m\u001b[0mmin\u001b[0m\u001b[0;34m(\u001b[0m\u001b[0;34m)\u001b[0m\u001b[0;34m,\u001b[0m \u001b[0mY\u001b[0m\u001b[0;34m)\u001b[0m\u001b[0;34m\u001b[0m\u001b[0m\n\u001b[0;32m----> 3\u001b[0;31m \u001b[0mIngh_s\u001b[0m\u001b[0;34m(\u001b[0m\u001b[0meps\u001b[0m\u001b[0;34m,\u001b[0m \u001b[0;34m-\u001b[0m\u001b[0mXmax\u001b[0m\u001b[0;34m/\u001b[0m\u001b[0mW\u001b[0m\u001b[0;34m,\u001b[0m \u001b[0;34m-\u001b[0m\u001b[0mXmax\u001b[0m\u001b[0;34m/\u001b[0m\u001b[0mW\u001b[0m\u001b[0;34m+\u001b[0m\u001b[0;36m1\u001b[0m\u001b[0;34m)\u001b[0m\u001b[0;34m\u001b[0m\u001b[0m\n\u001b[0m\u001b[1;32m      4\u001b[0m \u001b[0mplt\u001b[0m\u001b[0;34m.\u001b[0m\u001b[0mscatter\u001b[0m\u001b[0;34m(\u001b[0m\u001b[0mY\u001b[0m\u001b[0;34m,\u001b[0m \u001b[0mCum_num_nghs\u001b[0m\u001b[0;34m)\u001b[0m\u001b[0;34m\u001b[0m\u001b[0m\n\u001b[1;32m      5\u001b[0m \u001b[0mCum_num_nghs\u001b[0m\u001b[0;34m\u001b[0m\u001b[0m\n",
      "\u001b[0;32m<ipython-input-197-331ef6308181>\u001b[0m in \u001b[0;36mIngh_s\u001b[0;34m(eps, x_min, x_max)\u001b[0m\n\u001b[1;32m      3\u001b[0m \u001b[0;34m\u001b[0m\u001b[0m\n\u001b[1;32m      4\u001b[0m \u001b[0;32mdef\u001b[0m \u001b[0mIngh_s\u001b[0m\u001b[0;34m(\u001b[0m\u001b[0meps\u001b[0m\u001b[0;34m,\u001b[0m \u001b[0mx_min\u001b[0m\u001b[0;34m,\u001b[0m \u001b[0mx_max\u001b[0m\u001b[0;34m)\u001b[0m\u001b[0;34m:\u001b[0m\u001b[0;34m\u001b[0m\u001b[0m\n\u001b[0;32m----> 5\u001b[0;31m     \u001b[0;32massert\u001b[0m \u001b[0mnp\u001b[0m\u001b[0;34m.\u001b[0m\u001b[0mall\u001b[0m\u001b[0;34m(\u001b[0m\u001b[0mx_min\u001b[0m \u001b[0;34m>=\u001b[0m \u001b[0;34m-\u001b[0m\u001b[0;36m1\u001b[0m\u001b[0;34m)\u001b[0m \u001b[0;32mand\u001b[0m \u001b[0mnp\u001b[0m\u001b[0;34m.\u001b[0m\u001b[0mall\u001b[0m\u001b[0;34m(\u001b[0m\u001b[0mx_max\u001b[0m \u001b[0;34m>=\u001b[0m \u001b[0;34m-\u001b[0m\u001b[0;36m1\u001b[0m\u001b[0;34m)\u001b[0m\u001b[0;34m\u001b[0m\u001b[0m\n\u001b[0m\u001b[1;32m      6\u001b[0m     \u001b[0;32mreturn\u001b[0m \u001b[0mnp\u001b[0m\u001b[0;34m.\u001b[0m\u001b[0mexp\u001b[0m\u001b[0;34m(\u001b[0m\u001b[0meps\u001b[0m\u001b[0;34m)\u001b[0m \u001b[0;34m*\u001b[0m \u001b[0meps\u001b[0m\u001b[0;34m**\u001b[0m\u001b[0;34m(\u001b[0m\u001b[0;34m-\u001b[0m\u001b[0;34m(\u001b[0m\u001b[0meps\u001b[0m\u001b[0;34m+\u001b[0m\u001b[0;36m1\u001b[0m\u001b[0;34m)\u001b[0m\u001b[0;34m)\u001b[0m \u001b[0;34m*\u001b[0m \u001b[0mss\u001b[0m\u001b[0;34m.\u001b[0m\u001b[0mgamma\u001b[0m\u001b[0;34m(\u001b[0m\u001b[0;36m1\u001b[0m\u001b[0;34m+\u001b[0m\u001b[0meps\u001b[0m\u001b[0;34m)\u001b[0m \u001b[0;34m*\u001b[0m \u001b[0;34m(\u001b[0m\u001b[0mss\u001b[0m\u001b[0;34m.\u001b[0m\u001b[0mgammaincc\u001b[0m\u001b[0;34m(\u001b[0m\u001b[0;36m1\u001b[0m\u001b[0;34m+\u001b[0m\u001b[0meps\u001b[0m\u001b[0;34m,\u001b[0m \u001b[0meps\u001b[0m\u001b[0;34m*\u001b[0m\u001b[0;34m(\u001b[0m\u001b[0;36m1\u001b[0m\u001b[0;34m+\u001b[0m\u001b[0mx_min\u001b[0m\u001b[0;34m)\u001b[0m\u001b[0;34m)\u001b[0m \u001b[0;34m-\u001b[0m \u001b[0mss\u001b[0m\u001b[0;34m.\u001b[0m\u001b[0mgammaincc\u001b[0m\u001b[0;34m(\u001b[0m\u001b[0;36m1\u001b[0m\u001b[0;34m+\u001b[0m\u001b[0meps\u001b[0m\u001b[0;34m,\u001b[0m \u001b[0meps\u001b[0m\u001b[0;34m*\u001b[0m\u001b[0;34m(\u001b[0m\u001b[0;36m1\u001b[0m\u001b[0;34m+\u001b[0m\u001b[0mx_max\u001b[0m\u001b[0;34m)\u001b[0m\u001b[0;34m)\u001b[0m\u001b[0;34m)\u001b[0m\u001b[0;34m\u001b[0m\u001b[0m\n\u001b[1;32m      7\u001b[0m \u001b[0mIngh_s\u001b[0m\u001b[0;34m(\u001b[0m\u001b[0meps\u001b[0m\u001b[0;34m,\u001b[0m \u001b[0;34m-\u001b[0m\u001b[0;36m1\u001b[0m\u001b[0;34m,\u001b[0m \u001b[0;36m2\u001b[0m\u001b[0;34m)\u001b[0m\u001b[0;34m\u001b[0m\u001b[0m\n",
      "\u001b[0;31mAssertionError\u001b[0m: "
     ]
    }
   ],
   "source": [
    "Cum_num_nghs = nghs.cumsum()\n",
    "IntTh_nghs = Ingh_s(eps, Y.min(), Y)\n",
    "Ingh_s(eps, -Xmax/W, -Xmax/W+1)\n",
    "plt.scatter(Y, Cum_num_nghs)\n",
    "Cum_num_nghs"
   ]
  },
  {
   "cell_type": "code",
   "execution_count": null,
   "metadata": {},
   "outputs": [],
   "source": [
    "plt.plot(Y, IntTh_nghs)\n",
    "plt.scatter(Y, IntNum_nghs)"
   ]
  },
  {
   "cell_type": "markdown",
   "metadata": {},
   "source": [
    "### Scaled Cumulative by me:"
   ]
  },
  {
   "cell_type": "code",
   "execution_count": null,
   "metadata": {},
   "outputs": [],
   "source": [
    "def Ingh(X, Nmax, Xmax, X1, lam):\n",
    "    assert np.all(X>=X1) and Xmax > X1\n",
    "    W = Xmax - X1\n",
    "    x = (X - Xmax) / W\n",
    "    eps = W / lam\n",
    "    # print(W, x, eps, Xmax/W, (X-Xmax)/W)\n",
    "    return W * Nmax * Ingh_s(eps, -1, (X-Xmax)/W)"
   ]
  },
  {
   "cell_type": "code",
   "execution_count": null,
   "metadata": {},
   "outputs": [],
   "source": [
    "Ingh(X, Nmax, Xmax, 10, lamb)"
   ]
  },
  {
   "cell_type": "code",
   "execution_count": 202,
   "metadata": {},
   "outputs": [
    {
     "data": {
      "text/plain": [
       "array([  0.00000000e+00,   4.23772838e-21,   2.88275451e-18, ...,\n",
       "         1.02892064e+03,   1.02892076e+03,   1.02892087e+03])"
      ]
     },
     "execution_count": 202,
     "metadata": {},
     "output_type": "execute_result"
    }
   ],
   "source": [
    "IntNum_ngh = np.empty(len(X))\n",
    "for idx, x in enumerate(X):\n",
    "    IntNum_ngh[idx] = si.quad(Ngh, X.min(), x, args = (Nmax, Xmax, X1, lamb))[0]\n",
    "IntNum_ngh"
   ]
  },
  {
   "cell_type": "code",
   "execution_count": null,
   "metadata": {},
   "outputs": [],
   "source": []
  },
  {
   "cell_type": "code",
   "execution_count": 205,
   "metadata": {},
   "outputs": [
    {
     "name": "stdout",
     "output_type": "stream",
     "text": [
      "Numerical integration: 1028.92087485\n",
      "Analytical integration: 1028.92087485\n",
      "Integration by Matthews09 1028.93234794\n"
     ]
    },
    {
     "data": {
      "text/plain": [
       "514.46605970573398"
      ]
     },
     "execution_count": 205,
     "metadata": {},
     "output_type": "execute_result"
    }
   ],
   "source": [
    "Ith = Ingh(X, Nmax, Xmax, X1, lamb)\n",
    "print(\"Numerical integration:\", IntNum_ngh.max())\n",
    "print(\"Analytical integration:\", Ith.max())\n",
    "print(\"Integration by Matthews09\", Nmax * W * eps**(-1-eps) * np.exp(eps) * ss.gamma(1+eps))\n",
    "Ingh_s(eps, -1., 3) * W"
   ]
  },
  {
   "cell_type": "code",
   "execution_count": 206,
   "metadata": {},
   "outputs": [
    {
     "data": {
      "text/plain": [
       "<matplotlib.collections.PathCollection at 0x11ef29588>"
      ]
     },
     "execution_count": 206,
     "metadata": {},
     "output_type": "execute_result"
    },
    {
     "data": {
      "image/png": "[encoded data removed]",
      "text/plain": [
       "<matplotlib.figure.Figure at 0x11ef294e0>"
      ]
     },
     "metadata": {},
     "output_type": "display_data"
    }
   ],
   "source": [
    "plt.plot(X, IntNum_ngh)\n",
    "plt.scatter(X, Ith)"
   ]
  },
  {
   "cell_type": "code",
   "execution_count": null,
   "metadata": {},
   "outputs": [],
   "source": []
  },
  {
   "cell_type": "markdown",
   "metadata": {},
   "source": [
    "## BIM !"
   ]
  },
  {
   "cell_type": "markdown",
   "metadata": {},
   "source": [
    "Let's try to invert this shit now:"
   ]
  },
  {
   "cell_type": "markdown",
   "metadata": {},
   "source": [
    "$ y = W * Ingh_s \\left(\\epsilon, \\frac{-X_{max}}{W}, \\frac{(X-X{max})}{W} \\right)$  \n",
    "$ y = W \\, Ingh_s(\\epsilon, -Xmax/W, (X-Xmax)/W) $"
   ]
  },
  {
   "cell_type": "markdown",
   "metadata": {},
   "source": [
    "$ Ingh_s (\\epsilon, x_{min}, x_{max}) = \\exp(\\epsilon) \\epsilon^{-(1+\\epsilon)} \\Gamma(1+\\epsilon) (\\Gamma(1+\\epsilon, \\epsilon (1+x_{min})) - \\Gamma(1+\\epsilon, \\epsilon (1+x_{max}))) $"
   ]
  },
  {
   "cell_type": "markdown",
   "metadata": {},
   "source": [
    "$$ Cum(\\epsilon, x) = W \\,\\exp(\\epsilon) \\Gamma(1+\\epsilon) \\, \\epsilon^{-(1+\\epsilon)} \\left( \\Gamma \\left(1+\\epsilon, \\epsilon (1 - \\frac{X_{max}}{W} )\\right) - \\Gamma \\left(1+\\epsilon, \\epsilon \\left(1 +  \\frac{(X-X_{max})}{W} \\right) \\right) \\right) $$"
   ]
  },
  {
   "cell_type": "markdown",
   "metadata": {},
   "source": [
    "$ \\Gamma(1+\\epsilon, \\epsilon \\left(1 + (X-Xmax)/W )\\right) = \\Gamma \\left(1+\\epsilon, \\epsilon (1 - \\frac{X_{max}}{W} )\\right) - \\frac {Cum(\\epsilon,x)} {W \\exp(\\epsilon) \\epsilon^{-(1 + \\epsilon)} \\Gamma(1+\\epsilon)}  $"
   ]
  },
  {
   "cell_type": "markdown",
   "metadata": {},
   "source": [
    "$$ \\epsilon (1 + (X-Xmax)/W ) )=  \\Gamma^{-1} \\left( 1+\\epsilon,   \\Gamma \\left(1+\\epsilon, \\epsilon (1 - \\frac{X_{max}}{W} )\\right) - \\frac {Y} {W \\exp(\\epsilon) \\epsilon^{-(1 + \\epsilon)} \\Gamma(1+\\epsilon)} \\right)   $$"
   ]
  },
  {
   "cell_type": "markdown",
   "metadata": {},
   "source": [
    "$$ X = Xmax + W \\left(\\frac{1}{\\epsilon}  \\Gamma^{-1}(...) - 1 \\right) $$"
   ]
  },
  {
   "cell_type": "markdown",
   "metadata": {},
   "source": [
    "Compute $\\displaystyle X_{max}/W $ once  \n",
    "Compute $ \\displaystyle \\Gamma \\left(1+\\epsilon, \\epsilon (1 - \\frac{X_{max}}{W} )\\right) $ once  \n",
    "$ Y = Cum(\\epsilon,x)$ is the unknown (random draw)"
   ]
  },
  {
   "cell_type": "code",
   "execution_count": 207,
   "metadata": {},
   "outputs": [],
   "source": [
    "def CumInv(Y, Nmax, Xmax, X1, lam):\n",
    "    W = Xmax - X1\n",
    "    eps = W / lam\n",
    "    # c1 = ss.gamma(1+eps) * ss.gammaincc(1+eps, eps*(1 - Xmax/W))\n",
    "    # c1 = ss.gamma(1+eps) * np.nan_to_num(ss.gammaincc(1+eps, eps*max(1 - Xmax/W, 0.)))\n",
    "    c1 = ss.gamma(1 + eps)\n",
    "    c2 = Nmax * W * np.exp(eps) * eps**(-1-eps)\n",
    "    print(W, eps, c1, c2, (c1 - Y/c2)/ss.gamma(1+eps) / eps)\n",
    "    return Xmax + W * (- 1 + ss.gammainccinv(1+eps, (c1 - Y/c2)/ss.gamma(1+eps)) / eps)"
   ]
  },
  {
   "cell_type": "code",
   "execution_count": 208,
   "metadata": {},
   "outputs": [
    {
     "name": "stdout",
     "output_type": "stream",
     "text": [
      "557 7.957142857142857 36789.5540209 0.0135952723277 4.120874901e-05\n"
     ]
    },
    {
     "data": {
      "text/plain": [
       "1637.8577234470595"
      ]
     },
     "execution_count": 208,
     "metadata": {},
     "output_type": "execute_result"
    }
   ],
   "source": [
    "CumInv(500, 1, Xmax, 43, lamb)"
   ]
  },
  {
   "cell_type": "code",
   "execution_count": 215,
   "metadata": {},
   "outputs": [
    {
     "name": "stdout",
     "output_type": "stream",
     "text": [
      "590 8.428571428571429 101990.612202 0.0100885005564 [  1.18644068e-01   1.18644068e-01   1.18644068e-01 ...,   1.35029472e-06\n",
      "   1.33654781e-06   1.32293831e-06]\n"
     ]
    }
   ],
   "source": [
    "XX = CumInv(Ith, Nmax, Xmax, X1, lamb)"
   ]
  },
  {
   "cell_type": "code",
   "execution_count": 216,
   "metadata": {},
   "outputs": [
    {
     "name": "stdout",
     "output_type": "stream",
     "text": [
      "0.266203214038 3221.21358286\n",
      "10.0\n",
      "10.0\n"
     ]
    }
   ],
   "source": [
    "a = ss.gammaincc(eps, 10)\n",
    "b = ss.gamma(eps) * ss.gammaincc(eps, 10)\n",
    "print(a, b)\n",
    "print(ss.gammainccinv(eps, a))\n",
    "print(ss.gammainccinv(eps, b /ss.gamma(eps)))"
   ]
  },
  {
   "cell_type": "code",
   "execution_count": 219,
   "metadata": {},
   "outputs": [
    {
     "data": {
      "image/png": "[encoded data removed]",
      "text/plain": [
       "<matplotlib.figure.Figure at 0x11f1b70b8>"
      ]
     },
     "metadata": {},
     "output_type": "display_data"
    },
    {
     "data": {
      "text/plain": [
       "<matplotlib.collections.PathCollection at 0x11f803518>"
      ]
     },
     "execution_count": 219,
     "metadata": {},
     "output_type": "execute_result"
    },
    {
     "data": {
      "image/png": "[encoded data removed]",
      "text/plain": [
       "<matplotlib.figure.Figure at 0x11f803470>"
      ]
     },
     "metadata": {},
     "output_type": "display_data"
    }
   ],
   "source": [
    "I\n",
    "plt.scatter(XX, I, color ='blue')\n",
    "plt.plot(X, I, color ='red')\n",
    "plt.show()\n",
    "plt.plot(X, XX)\n",
    "plt.scatter(X,X)"
   ]
  },
  {
   "cell_type": "code",
   "execution_count": 220,
   "metadata": {},
   "outputs": [
    {
     "name": "stdout",
     "output_type": "stream",
     "text": [
      "590 8.428571428571429 101990.612202 0.0050442502782 0.116559280908\n"
     ]
    },
    {
     "data": {
      "text/plain": [
       "300.0000000000004"
      ]
     },
     "execution_count": 220,
     "metadata": {},
     "output_type": "execute_result"
    }
   ],
   "source": [
    "x = 300\n",
    "X1 = 10\n",
    "Cum = Ingh(x, 1, Xmax, X1, lamb)\n",
    "CumInv(Cum, 1, Xmax, X1, lamb)"
   ]
  },
  {
   "cell_type": "markdown",
   "metadata": {},
   "source": [
    "# GROS BIM"
   ]
  },
  {
   "cell_type": "code",
   "execution_count": 229,
   "metadata": {
    "collapsed": true
   },
   "outputs": [],
   "source": [
    "Y = np.random.uniform(0,I.max(),10000)"
   ]
  },
  {
   "cell_type": "code",
   "execution_count": 230,
   "metadata": {},
   "outputs": [
    {
     "name": "stdout",
     "output_type": "stream",
     "text": [
      "590 8.428571428571429 101990.612202 0.0050442502782 [ 0.05245598  0.07336811  0.02986763 ...,  0.0203957   0.0418879\n",
      "  0.10766811]\n"
     ]
    }
   ],
   "source": [
    "CI = CumInv(Y, 1, Xmax, X1, lamb)"
   ]
  },
  {
   "cell_type": "code",
   "execution_count": 231,
   "metadata": {},
   "outputs": [
    {
     "data": {
      "text/plain": [
       "[<matplotlib.lines.Line2D at 0x11f30d6d8>]"
      ]
     },
     "execution_count": 231,
     "metadata": {},
     "output_type": "execute_result"
    },
    {
     "data": {
      "image/png": "[encoded data removed]",
      "text/plain": [
       "<matplotlib.figure.Figure at 0x11f30d898>"
      ]
     },
     "metadata": {},
     "output_type": "display_data"
    }
   ],
   "source": [
    "plt.scatter(CI, Y)\n",
    "plt.plot(X, I)"
   ]
  },
  {
   "cell_type": "code",
   "execution_count": 232,
   "metadata": {},
   "outputs": [
    {
     "data": {
      "text/plain": [
       "(array([   42.,   237.,   601.,  1086.,  1409.,  1525.,  1376.,  1207.,\n",
       "          907.,   607.,   415.,   240.,   159.,    87.,    51.,    24.,\n",
       "           12.,     5.,     7.,     3.]),\n",
       " array([  163.61543767,   243.32294915,   323.03046062,   402.7379721 ,\n",
       "          482.44548358,   562.15299505,   641.86050653,   721.56801801,\n",
       "          801.27552948,   880.98304096,   960.69055244,  1040.39806391,\n",
       "         1120.10557539,  1199.81308687,  1279.52059834,  1359.22810982,\n",
       "         1438.9356213 ,  1518.64313277,  1598.35064425,  1678.05815573,\n",
       "         1757.76566721]),\n",
       " <a list of 20 Patch objects>)"
      ]
     },
     "execution_count": 232,
     "metadata": {},
     "output_type": "execute_result"
    },
    {
     "data": {
      "image/png": "[encoded data removed]",
      "text/plain": [
       "<matplotlib.figure.Figure at 0x1202ace10>"
      ]
     },
     "metadata": {},
     "output_type": "display_data"
    }
   ],
   "source": [
    "plt.hist(CI, bins=20);"
   ]
  },
  {
   "cell_type": "code",
   "execution_count": null,
   "metadata": {
    "collapsed": true
   },
   "outputs": [],
   "source": []
  },
  {
   "cell_type": "markdown",
   "metadata": {
    "collapsed": true
   },
   "source": [
    "# Radial distribution"
   ]
  },
  {
   "cell_type": "markdown",
   "metadata": {},
   "source": [
    "$$ f(r) = \\frac{2 r R^2}{(r^2 + R^2)^2} $$"
   ]
  },
  {
   "cell_type": "markdown",
   "metadata": {},
   "source": [
    "$$ \\int f(r) dr = -\\frac{R^2}{r^2 + R^2}$$"
   ]
  },
  {
   "cell_type": "markdown",
   "metadata": {},
   "source": [
    "$$ Cumf = \\int_0^x f(r) dr = 1 - \\frac{1}{1 + (x/R)^2} $$"
   ]
  },
  {
   "cell_type": "markdown",
   "metadata": {},
   "source": [
    "$$ \\int_0^\\infty f(r) dr = 1 $$"
   ]
  },
  {
   "cell_type": "markdown",
   "metadata": {},
   "source": [
    "If $ y = Cumf(x) $ then  \n",
    "$$ x = R \\sqrt{\\frac{y}{1-y}}$$"
   ]
  },
  {
   "cell_type": "code",
   "execution_count": 259,
   "metadata": {
    "collapsed": true
   },
   "outputs": [],
   "source": [
    "def f(r, R):\n",
    "    return 2*r*R**2/(r**2+R**2)**2"
   ]
  },
  {
   "cell_type": "code",
   "execution_count": 270,
   "metadata": {},
   "outputs": [],
   "source": [
    "R = 30\n",
    "r = np.linspace(0, 10*R, 1000)\n",
    "fr = f(r,R)"
   ]
  },
  {
   "cell_type": "code",
   "execution_count": 271,
   "metadata": {},
   "outputs": [
    {
     "data": {
      "text/plain": [
       "[<matplotlib.lines.Line2D at 0x123a7b860>]"
      ]
     },
     "execution_count": 271,
     "metadata": {},
     "output_type": "execute_result"
    },
    {
     "data": {
      "image/png": "[encoded data removed]",
      "text/plain": [
       "<matplotlib.figure.Figure at 0x122fcaa20>"
      ]
     },
     "metadata": {},
     "output_type": "display_data"
    }
   ],
   "source": [
    "plt.plot(r,fr)"
   ]
  },
  {
   "cell_type": "code",
   "execution_count": 272,
   "metadata": {
    "collapsed": true
   },
   "outputs": [],
   "source": [
    "def f_integral(x_min, x_max, R):\n",
    "    return 1/(1+(x_min/R)**2) - 1/(1+(x_max/R)**2)"
   ]
  },
  {
   "cell_type": "code",
   "execution_count": 273,
   "metadata": {
    "collapsed": true
   },
   "outputs": [],
   "source": [
    "def Cum_f(x, R):\n",
    "    return f_integral(0, x, R)"
   ]
  },
  {
   "cell_type": "code",
   "execution_count": 274,
   "metadata": {},
   "outputs": [],
   "source": [
    "Cum_f_num = np.empty(len(r))\n",
    "for idx, v in enumerate(r):\n",
    "    Cum_f_num[idx] = si.quad(f, 0, v, args=(R,))[0]"
   ]
  },
  {
   "cell_type": "code",
   "execution_count": 280,
   "metadata": {},
   "outputs": [
    {
     "data": {
      "text/plain": [
       "<matplotlib.collections.PathCollection at 0x123df06a0>"
      ]
     },
     "execution_count": 280,
     "metadata": {},
     "output_type": "execute_result"
    },
    {
     "data": {
      "image/png": "[encoded data removed]",
      "text/plain": [
       "<matplotlib.figure.Figure at 0x123df0390>"
      ]
     },
     "metadata": {},
     "output_type": "display_data"
    }
   ],
   "source": [
    "Cf = Cum_f(r, R)\n",
    "plt.plot(r, Cf)\n",
    "plt.scatter(r, Cum_f_num)"
   ]
  },
  {
   "cell_type": "code",
   "execution_count": 276,
   "metadata": {
    "collapsed": true
   },
   "outputs": [],
   "source": [
    "def Cum_f_inv(y, R):\n",
    "    return R * np.sqrt(y/(1-y))"
   ]
  },
  {
   "cell_type": "code",
   "execution_count": 284,
   "metadata": {},
   "outputs": [],
   "source": [
    "rr = Cum_f_inv(Cf, R)"
   ]
  },
  {
   "cell_type": "code",
   "execution_count": 285,
   "metadata": {},
   "outputs": [
    {
     "data": {
      "text/plain": [
       "<matplotlib.collections.PathCollection at 0x12431ee80>"
      ]
     },
     "execution_count": 285,
     "metadata": {},
     "output_type": "execute_result"
    },
    {
     "data": {
      "image/png": "[encoded data removed]",
      "text/plain": [
       "<matplotlib.figure.Figure at 0x12431eba8>"
      ]
     },
     "metadata": {},
     "output_type": "display_data"
    }
   ],
   "source": [
    "plt.plot(r, rr)\n",
    "plt.scatter(r, r)"
   ]
  },
  {
   "cell_type": "code",
   "execution_count": 322,
   "metadata": {},
   "outputs": [
    {
     "data": {
      "text/plain": [
       "<module 'object' from '/Users/thomasvuillaume/Work/Dev/ImArray/ImArray/object.py'>"
      ]
     },
     "execution_count": 322,
     "metadata": {},
     "output_type": "execute_result"
    }
   ],
   "source": [
    "reload(obj)"
   ]
  },
  {
   "cell_type": "code",
   "execution_count": null,
   "metadata": {},
   "outputs": [],
   "source": []
  },
  {
   "cell_type": "code",
   "execution_count": 332,
   "metadata": {},
   "outputs": [
    {
     "data": {
      "image/png": "[encoded data removed]",
      "text/plain": [
       "<matplotlib.figure.Figure at 0x1252a5128>"
      ]
     },
     "metadata": {},
     "output_type": "display_data"
    },
    {
     "data": {
      "image/png": "[encoded data removed]",
      "text/plain": [
       "<matplotlib.figure.Figure at 0x125905da0>"
      ]
     },
     "metadata": {},
     "output_type": "display_data"
    }
   ],
   "source": [
    "s = obj.gaisser_hillas_shower(0, 0, 70, 0, [0,10,0], 10000)\n",
    "plt.hist(s[:,0], range=([-100,100]), bins =25);\n",
    "plt.hist(s[:,1], range=([-100,100]), bins =25);\n",
    "plt.show()\n",
    "plt.hist(s[:,2], bins =25);"
   ]
  },
  {
   "cell_type": "code",
   "execution_count": null,
   "metadata": {
    "collapsed": true
   },
   "outputs": [],
   "source": []
  },
  {
   "cell_type": "code",
   "execution_count": 3,
   "metadata": {},
   "outputs": [],
   "source": [
    "g_old = obj.Get_pos_Gaisser_Hillas(npoints, salt, saz, impact_point)"
   ]
  },
  {
   "cell_type": "code",
   "execution_count": 6,
   "metadata": {},
   "outputs": [
    {
     "data": {
      "image/png": "[encoded data removed]",
      "text/plain": [
       "<matplotlib.figure.Figure at 0x119d8c518>"
      ]
     },
     "metadata": {},
     "output_type": "display_data"
    }
   ],
   "source": [
    "plt.hist(g_old[:,2], bins=30);"
   ]
  },
  {
   "cell_type": "code",
   "execution_count": 8,
   "metadata": {},
   "outputs": [],
   "source": [
    "Y = np.random.uniform(0, 1, npoints)"
   ]
  },
  {
   "cell_type": "code",
   "execution_count": 13,
   "metadata": {},
   "outputs": [],
   "source": [
    "max_ngh = obj.gaisser_hillas_integral_0_inf(Nmax, Xmax, X1, lamb)\n",
    "NZ = obj.gaisser_hillas_integral_inverse(Y * max_ngh, Nmax, Xmax, X1, lamb)"
   ]
  },
  {
   "cell_type": "code",
   "execution_count": 16,
   "metadata": {},
   "outputs": [
    {
     "data": {
      "image/png": "[encoded data removed]",
      "text/plain": [
       "<matplotlib.figure.Figure at 0x11ae44860>"
      ]
     },
     "metadata": {},
     "output_type": "display_data"
    }
   ],
   "source": [
    "plt.hist(NZ, bins=30);"
   ]
  },
  {
   "cell_type": "code",
   "execution_count": null,
   "metadata": {
    "collapsed": true
   },
   "outputs": [],
   "source": []
  }
 ],
 "metadata": {
  "kernelspec": {
   "display_name": "Python 3",
   "language": "python",
   "name": "python3"
  },
  "language_info": {
   "codemirror_mode": {
    "name": "ipython",
    "version": 3
   },
   "file_extension": ".py",
   "mimetype": "text/x-python",
   "name": "python",
   "nbconvert_exporter": "python",
   "pygments_lexer": "ipython3",
   "version": "3.5.2"
  }
 },
 "nbformat": 4,
 "nbformat_minor": 1
}
