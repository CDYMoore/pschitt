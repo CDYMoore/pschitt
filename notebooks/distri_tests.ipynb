{
 "cells": [
  {
   "cell_type": "code",
   "execution_count": 5,
   "metadata": {
    "collapsed": true
   },
   "outputs": [],
   "source": [
    "import pschitt.sky_objects as sky\n",
    "import pschitt.vizualisation as viz\n",
    "import pschitt.geometry as geo"
   ]
  },
  {
   "cell_type": "code",
   "execution_count": 6,
   "metadata": {
    "collapsed": true
   },
   "outputs": [],
   "source": [
    "import numpy as np\n",
    "import matplotlib.pyplot as plt\n",
    "import math\n",
    "from scipy.stats import kde\n",
    "import seaborn as sns\n",
    "import pandas as pd\n",
    "from scipy import stats\n",
    "%matplotlib inline "
   ]
  },
  {
   "cell_type": "code",
   "execution_count": 14,
   "metadata": {
    "collapsed": true
   },
   "outputs": [],
   "source": [
    "from copy import copy"
   ]
  },
  {
   "cell_type": "code",
   "execution_count": 8,
   "metadata": {},
   "outputs": [],
   "source": [
    "from importlib import reload"
   ]
  },
  {
   "cell_type": "markdown",
   "metadata": {},
   "source": [
    "Some plotting functions"
   ]
  },
  {
   "cell_type": "code",
   "execution_count": 18,
   "metadata": {
    "collapsed": true
   },
   "outputs": [],
   "source": [
    "def shower_hists(shower, nbins=20, range = None):     \n",
    "    x = shower.array[:,0]\n",
    "    y = shower.array[:,1]\n",
    "    z = shower.array[:,2]\n",
    "    \n",
    "    if range:\n",
    "        xmin = range[0]\n",
    "        xmax = range[1]\n",
    "        ymin = range[2]\n",
    "        ymax = range[3]\n",
    "    else:\n",
    "        xmin = x.min()\n",
    "        xmax = x.max()\n",
    "        ymin = y.min()\n",
    "        ymax = y.max()\n",
    "\n",
    "    f, axarr = plt.subplots(3, 3)\n",
    "    axarr[1, 1].hist2d(x, y, bins=20)\n",
    "    axarr[0, 0].set_title('X,Y')\n",
    "    axarr[0, 1].hist(x)\n",
    "    axarr[0, 1].set_title('X')\n",
    "    axarr[1, 0].hist(y)\n",
    "    axarr[1, 0].set_title('Y')\n",
    "    axarr[1, 1].hist(z)\n",
    "    axarr[1, 1].set_title('Z')\n",
    "    # Fine-tune figure; hide x ticks for top plots and y ticks for right plots\n",
    "    plt.setp([a.get_xticklabels() for a in axarr[0, :]], visible=False)\n",
    "    plt.setp([a.get_yticklabels() for a in axarr[:, 1]], visible=False)\n",
    "\n",
    "def gaussian(X,Y,nbins=20, range = None):\n",
    "    if range:\n",
    "        xmin = range[0]\n",
    "        xmax = range[1]\n",
    "        ymin = range[2]\n",
    "        ymax = range[3]\n",
    "    else:\n",
    "        xmin = X.min()\n",
    "        xmax = X.max()\n",
    "        ymin = Y.min()\n",
    "        ymax = Y.max()\n",
    "    \n",
    "    \n",
    "    k = kde.gaussian_kde(np.array([X,Y]))\n",
    "    xi, yi = np.mgrid[xmin:xmax:nbins*1j, ymin:ymax:nbins*1j]\n",
    "    zi = k(np.vstack([xi.flatten(), yi.flatten()]))\n",
    "    plt.pcolormesh(xi, yi, zi.reshape(xi.shape))\n",
    "    plt.colorbar()\n",
    "    plt.show()"
   ]
  },
  {
   "cell_type": "code",
   "execution_count": 13,
   "metadata": {
    "collapsed": true
   },
   "outputs": [],
   "source": [
    "shower = sky.shower()\n",
    "\n",
    "shower.impact_point = np.array([80,60,0])\n",
    "\n",
    "#shower direction\n",
    "shower.alt = math.radians(80)\n",
    "shower.az = math.radians(90)\n",
    "\n",
    "#pointing direction\n",
    "talt = math.radians(81)\n",
    "taz = math.radians(89)\n",
    "\n",
    "#shower parameters\n",
    "shower_top = 12000\n",
    "shower_length = 8000\n",
    "shower_width = 100\n",
    "\n",
    "shower.number_of_particles = int(1e4)"
   ]
  },
  {
   "cell_type": "code",
   "execution_count": 16,
   "metadata": {
    "collapsed": true
   },
   "outputs": [],
   "source": [
    "# shower.gaussian_ellipsoide(shower_top, shower_length, shower_width)"
   ]
  },
  {
   "cell_type": "code",
   "execution_count": 17,
   "metadata": {},
   "outputs": [],
   "source": [
    "ell = copy(shower)\n",
    "ell.gaussian_ellipsoide(shower_top, shower_length, shower_width)"
   ]
  },
  {
   "cell_type": "code",
   "execution_count": 19,
   "metadata": {},
   "outputs": [
    {
     "data": {
      "image/png": "[encoded data removed]",
      "text/plain": [
       "<matplotlib.figure.Figure at 0x1229ddb38>"
      ]
     },
     "metadata": {},
     "output_type": "display_data"
    }
   ],
   "source": [
    "shower_hists(ell)"
   ]
  },
  {
   "cell_type": "code",
   "execution_count": null,
   "metadata": {},
   "outputs": [],
   "source": []
  },
  {
   "cell_type": "code",
   "execution_count": null,
   "metadata": {
    "collapsed": true
   },
   "outputs": [],
   "source": []
  },
  {
   "cell_type": "code",
   "execution_count": null,
   "metadata": {
    "collapsed": true
   },
   "outputs": [],
   "source": []
  },
  {
   "cell_type": "markdown",
   "metadata": {},
   "source": [
    "### Normed Gaisser Hillas"
   ]
  },
  {
   "cell_type": "code",
   "execution_count": 188,
   "metadata": {
    "collapsed": true
   },
   "outputs": [],
   "source": [
    "GH = obj.Normed_Gaisser_Hillas(X1, Xmax, X)"
   ]
  },
  {
   "cell_type": "code",
   "execution_count": 189,
   "metadata": {},
   "outputs": [
    {
     "data": {
      "text/plain": [
       "[<matplotlib.lines.Line2D at 0x11e690278>]"
      ]
     },
     "execution_count": 189,
     "metadata": {},
     "output_type": "execute_result"
    },
    {
     "data": {
      "image/png": "[encoded data removed]",
      "text/plain": [
       "<matplotlib.figure.Figure at 0x11e528b70>"
      ]
     },
     "metadata": {},
     "output_type": "display_data"
    }
   ],
   "source": [
    "plt.plot(X,GH)"
   ]
  },
  {
   "cell_type": "markdown",
   "metadata": {},
   "source": [
    "### Cumulative Gaisser Hillas"
   ]
  },
  {
   "cell_type": "code",
   "execution_count": 190,
   "metadata": {
    "collapsed": true
   },
   "outputs": [],
   "source": [
    "GH = np.nan_to_num(GH)"
   ]
  },
  {
   "cell_type": "code",
   "execution_count": 191,
   "metadata": {},
   "outputs": [
    {
     "data": {
      "text/plain": [
       "[<matplotlib.lines.Line2D at 0x11e7f4978>]"
      ]
     },
     "execution_count": 191,
     "metadata": {},
     "output_type": "execute_result"
    },
    {
     "data": {
      "image/png": "[encoded data removed]",
      "text/plain": [
       "<matplotlib.figure.Figure at 0x11e719cc0>"
      ]
     },
     "metadata": {},
     "output_type": "display_data"
    }
   ],
   "source": [
    "I = GH.cumsum()\n",
    "plt.plot(X, I)"
   ]
  },
  {
   "cell_type": "markdown",
   "metadata": {},
   "source": [
    "### Normed Gaisser Hillas by Mattews09"
   ]
  },
  {
   "cell_type": "code",
   "execution_count": 192,
   "metadata": {
    "collapsed": true
   },
   "outputs": [],
   "source": [
    "def Ngh_s(x ,eps):\n",
    "    assert np.all(x>=-1) and eps>0\n",
    "    return np.nan_to_num(np.power(1+x, eps) * np.exp(-eps *x))"
   ]
  },
  {
   "cell_type": "markdown",
   "metadata": {},
   "source": [
    "### Gaisser-Hillas scaled"
   ]
  },
  {
   "cell_type": "code",
   "execution_count": 193,
   "metadata": {
    "collapsed": true
   },
   "outputs": [],
   "source": [
    "def Ngh(X, Nmax, Xmax, X1, lam):\n",
    "    assert np.all(X>=X1) and Xmax>=X1 and Nmax > 0 and lam >0\n",
    "    W = Xmax - X1\n",
    "    x = (X-Xmax)/W\n",
    "    eps = W / lam\n",
    "    return Nmax * Ngh_s(x, eps)"
   ]
  },
  {
   "cell_type": "code",
   "execution_count": 194,
   "metadata": {},
   "outputs": [
    {
     "data": {
      "text/plain": [
       "array([  8.10308393e-06,   1.90172511e-05,   4.10774902e-05, ...,\n",
       "         4.15066260e-69,   3.77452385e-69,   3.43246271e-69])"
      ]
     },
     "execution_count": 194,
     "metadata": {},
     "output_type": "execute_result"
    }
   ],
   "source": [
    "Ngh_s(-0.3, eps)\n",
    "Ngh(X, 10, 100, 0, 10)"
   ]
  },
  {
   "cell_type": "code",
   "execution_count": 195,
   "metadata": {
    "collapsed": true
   },
   "outputs": [],
   "source": [
    "GH2 = Ngh(X, 1, Xmax, X1, lamb)"
   ]
  },
  {
   "cell_type": "markdown",
   "metadata": {},
   "source": [
    "### The two correspond:"
   ]
  },
  {
   "cell_type": "code",
   "execution_count": 196,
   "metadata": {},
   "outputs": [
    {
     "data": {
      "text/plain": [
       "<matplotlib.collections.PathCollection at 0x11e520780>"
      ]
     },
     "execution_count": 196,
     "metadata": {},
     "output_type": "execute_result"
    },
    {
     "data": {
      "image/png": "[encoded data removed]",
      "text/plain": [
       "<matplotlib.figure.Figure at 0x11e58bc88>"
      ]
     },
     "metadata": {},
     "output_type": "display_data"
    }
   ],
   "source": [
    "plt.plot(X, GH)\n",
    "plt.scatter(X, GH2)"
   ]
  },
  {
   "cell_type": "markdown",
   "metadata": {},
   "source": [
    "### Normed Cumulative by me"
   ]
  },
  {
   "cell_type": "code",
   "execution_count": 197,
   "metadata": {},
   "outputs": [
    {
     "data": {
      "text/plain": [
       "0.87188949935169047"
      ]
     },
     "execution_count": 197,
     "metadata": {},
     "output_type": "execute_result"
    }
   ],
   "source": [
    "# def Ingh_s(eps, x_min, x_max):\n",
    "#     return np.exp(eps) * eps**(-1-eps) * ss.gamma(1+eps) * (ss.gammaincc(1+eps, eps*(1+x_min)) - ss.gammaincc(1+eps, eps*(1+x_max)))\n",
    "\n",
    "def Ingh_s(eps, x_min, x_max):\n",
    "    assert np.all(x_min >= -1) and np.all(x_max >= -1)\n",
    "    return np.exp(eps) * eps**(-(eps+1)) * ss.gamma(1+eps) * (ss.gammaincc(1+eps, eps*(1+x_min)) - ss.gammaincc(1+eps, eps*(1+x_max)))\n",
    "Ingh_s(eps, -1, 2)"
   ]
  },
  {
   "cell_type": "code",
   "execution_count": 198,
   "metadata": {},
   "outputs": [
    {
     "data": {
      "text/plain": [
       "[<matplotlib.lines.Line2D at 0x11ec9bba8>]"
      ]
     },
     "execution_count": 198,
     "metadata": {},
     "output_type": "execute_result"
    },
    {
     "data": {
      "image/png": "[encoded data removed]",
      "text/plain": [
       "<matplotlib.figure.Figure at 0x11e926198>"
      ]
     },
     "metadata": {},
     "output_type": "display_data"
    }
   ],
   "source": [
    "Y = np.arange(2000)/Xmax - 1\n",
    "plt.plot(Y,ss.gammaincc(eps, Y))"
   ]
  },
  {
   "cell_type": "markdown",
   "metadata": {},
   "source": [
    "Note that the cumulative should be computed between 0 and X"
   ]
  },
  {
   "cell_type": "markdown",
   "metadata": {},
   "source": [
    "### It works?"
   ]
  },
  {
   "cell_type": "code",
   "execution_count": 199,
   "metadata": {},
   "outputs": [
    {
     "data": {
      "text/plain": [
       "[<matplotlib.lines.Line2D at 0x11edd64e0>]"
      ]
     },
     "execution_count": 199,
     "metadata": {},
     "output_type": "execute_result"
    },
    {
     "data": {
      "image/png": "[encoded data removed]",
      "text/plain": [
       "<matplotlib.figure.Figure at 0x11ecbbc88>"
      ]
     },
     "metadata": {},
     "output_type": "display_data"
    }
   ],
   "source": [
    "nghs = Ngh_s(Y, eps)\n",
    "plt.plot(Y, nghs)"
   ]
  },
  {
   "cell_type": "code",
   "execution_count": 200,
   "metadata": {},
   "outputs": [
    {
     "data": {
      "text/plain": [
       "array([  0.00000000e+00,   3.06565439e-24,   2.08588899e-21, ...,\n",
       "         8.71963979e-01,   8.71964105e-01,   8.71964229e-01])"
      ]
     },
     "execution_count": 200,
     "metadata": {},
     "output_type": "execute_result"
    }
   ],
   "source": [
    "IntNum_nghs = np.empty(len(Y))\n",
    "for idx, y in enumerate(Y):\n",
    "    IntNum_nghs[idx] = si.quad(Ngh_s, Y.min(), y, args = (eps,))[0]\n",
    "IntNum_nghs"
   ]
  },
  {
   "cell_type": "code",
   "execution_count": 201,
   "metadata": {},
   "outputs": [
    {
     "ename": "AssertionError",
     "evalue": "",
     "output_type": "error",
     "traceback": [
      "\u001b[0;31m---------------------------------------------------------------------------\u001b[0m",
      "\u001b[0;31mAssertionError\u001b[0m                            Traceback (most recent call last)",
      "\u001b[0;32m<ipython-input-201-16906da4e28b>\u001b[0m in \u001b[0;36m<module>\u001b[0;34m()\u001b[0m\n\u001b[1;32m      1\u001b[0m \u001b[0mCum_num_nghs\u001b[0m \u001b[0;34m=\u001b[0m \u001b[0mnghs\u001b[0m\u001b[0;34m.\u001b[0m\u001b[0mcumsum\u001b[0m\u001b[0;34m(\u001b[0m\u001b[0;34m)\u001b[0m\u001b[0;34m\u001b[0m\u001b[0m\n\u001b[1;32m      2\u001b[0m \u001b[0mIntTh_nghs\u001b[0m \u001b[0;34m=\u001b[0m \u001b[0mIngh_s\u001b[0m\u001b[0;34m(\u001b[0m\u001b[0meps\u001b[0m\u001b[0;34m,\u001b[0m \u001b[0mY\u001b[0m\u001b[0;34m.\u001b[0m\u001b[0mmin\u001b[0m\u001b[0;34m(\u001b[0m\u001b[0;34m)\u001b[0m\u001b[0;34m,\u001b[0m \u001b[0mY\u001b[0m\u001b[0;34m)\u001b[0m\u001b[0;34m\u001b[0m\u001b[0m\n\u001b[0;32m----> 3\u001b[0;31m \u001b[0mIngh_s\u001b[0m\u001b[0;34m(\u001b[0m\u001b[0meps\u001b[0m\u001b[0;34m,\u001b[0m \u001b[0;34m-\u001b[0m\u001b[0mXmax\u001b[0m\u001b[0;34m/\u001b[0m\u001b[0mW\u001b[0m\u001b[0;34m,\u001b[0m \u001b[0;34m-\u001b[0m\u001b[0mXmax\u001b[0m\u001b[0;34m/\u001b[0m\u001b[0mW\u001b[0m\u001b[0;34m+\u001b[0m\u001b[0;36m1\u001b[0m\u001b[0;34m)\u001b[0m\u001b[0;34m\u001b[0m\u001b[0m\n\u001b[0m\u001b[1;32m      4\u001b[0m \u001b[0mplt\u001b[0m\u001b[0;34m.\u001b[0m\u001b[0mscatter\u001b[0m\u001b[0;34m(\u001b[0m\u001b[0mY\u001b[0m\u001b[0;34m,\u001b[0m \u001b[0mCum_num_nghs\u001b[0m\u001b[0;34m)\u001b[0m\u001b[0;34m\u001b[0m\u001b[0m\n\u001b[1;32m      5\u001b[0m \u001b[0mCum_num_nghs\u001b[0m\u001b[0;34m\u001b[0m\u001b[0m\n",
      "\u001b[0;32m<ipython-input-197-331ef6308181>\u001b[0m in \u001b[0;36mIngh_s\u001b[0;34m(eps, x_min, x_max)\u001b[0m\n\u001b[1;32m      3\u001b[0m \u001b[0;34m\u001b[0m\u001b[0m\n\u001b[1;32m      4\u001b[0m \u001b[0;32mdef\u001b[0m \u001b[0mIngh_s\u001b[0m\u001b[0;34m(\u001b[0m\u001b[0meps\u001b[0m\u001b[0;34m,\u001b[0m \u001b[0mx_min\u001b[0m\u001b[0;34m,\u001b[0m \u001b[0mx_max\u001b[0m\u001b[0;34m)\u001b[0m\u001b[0;34m:\u001b[0m\u001b[0;34m\u001b[0m\u001b[0m\n\u001b[0;32m----> 5\u001b[0;31m     \u001b[0;32massert\u001b[0m \u001b[0mnp\u001b[0m\u001b[0;34m.\u001b[0m\u001b[0mall\u001b[0m\u001b[0;34m(\u001b[0m\u001b[0mx_min\u001b[0m \u001b[0;34m>=\u001b[0m \u001b[0;34m-\u001b[0m\u001b[0;36m1\u001b[0m\u001b[0;34m)\u001b[0m \u001b[0;32mand\u001b[0m \u001b[0mnp\u001b[0m\u001b[0;34m.\u001b[0m\u001b[0mall\u001b[0m\u001b[0;34m(\u001b[0m\u001b[0mx_max\u001b[0m \u001b[0;34m>=\u001b[0m \u001b[0;34m-\u001b[0m\u001b[0;36m1\u001b[0m\u001b[0;34m)\u001b[0m\u001b[0;34m\u001b[0m\u001b[0m\n\u001b[0m\u001b[1;32m      6\u001b[0m     \u001b[0;32mreturn\u001b[0m \u001b[0mnp\u001b[0m\u001b[0;34m.\u001b[0m\u001b[0mexp\u001b[0m\u001b[0;34m(\u001b[0m\u001b[0meps\u001b[0m\u001b[0;34m)\u001b[0m \u001b[0;34m*\u001b[0m \u001b[0meps\u001b[0m\u001b[0;34m**\u001b[0m\u001b[0;34m(\u001b[0m\u001b[0;34m-\u001b[0m\u001b[0;34m(\u001b[0m\u001b[0meps\u001b[0m\u001b[0;34m+\u001b[0m\u001b[0;36m1\u001b[0m\u001b[0;34m)\u001b[0m\u001b[0;34m)\u001b[0m \u001b[0;34m*\u001b[0m \u001b[0mss\u001b[0m\u001b[0;34m.\u001b[0m\u001b[0mgamma\u001b[0m\u001b[0;34m(\u001b[0m\u001b[0;36m1\u001b[0m\u001b[0;34m+\u001b[0m\u001b[0meps\u001b[0m\u001b[0;34m)\u001b[0m \u001b[0;34m*\u001b[0m \u001b[0;34m(\u001b[0m\u001b[0mss\u001b[0m\u001b[0;34m.\u001b[0m\u001b[0mgammaincc\u001b[0m\u001b[0;34m(\u001b[0m\u001b[0;36m1\u001b[0m\u001b[0;34m+\u001b[0m\u001b[0meps\u001b[0m\u001b[0;34m,\u001b[0m \u001b[0meps\u001b[0m\u001b[0;34m*\u001b[0m\u001b[0;34m(\u001b[0m\u001b[0;36m1\u001b[0m\u001b[0;34m+\u001b[0m\u001b[0mx_min\u001b[0m\u001b[0;34m)\u001b[0m\u001b[0;34m)\u001b[0m \u001b[0;34m-\u001b[0m \u001b[0mss\u001b[0m\u001b[0;34m.\u001b[0m\u001b[0mgammaincc\u001b[0m\u001b[0;34m(\u001b[0m\u001b[0;36m1\u001b[0m\u001b[0;34m+\u001b[0m\u001b[0meps\u001b[0m\u001b[0;34m,\u001b[0m \u001b[0meps\u001b[0m\u001b[0;34m*\u001b[0m\u001b[0;34m(\u001b[0m\u001b[0;36m1\u001b[0m\u001b[0;34m+\u001b[0m\u001b[0mx_max\u001b[0m\u001b[0;34m)\u001b[0m\u001b[0;34m)\u001b[0m\u001b[0;34m)\u001b[0m\u001b[0;34m\u001b[0m\u001b[0m\n\u001b[1;32m      7\u001b[0m \u001b[0mIngh_s\u001b[0m\u001b[0;34m(\u001b[0m\u001b[0meps\u001b[0m\u001b[0;34m,\u001b[0m \u001b[0;34m-\u001b[0m\u001b[0;36m1\u001b[0m\u001b[0;34m,\u001b[0m \u001b[0;36m2\u001b[0m\u001b[0;34m)\u001b[0m\u001b[0;34m\u001b[0m\u001b[0m\n",
      "\u001b[0;31mAssertionError\u001b[0m: "
     ]
    }
   ],
   "source": [
    "Cum_num_nghs = nghs.cumsum()\n",
    "IntTh_nghs = Ingh_s(eps, Y.min(), Y)\n",
    "Ingh_s(eps, -Xmax/W, -Xmax/W+1)\n",
    "plt.scatter(Y, Cum_num_nghs)\n",
    "Cum_num_nghs"
   ]
  },
  {
   "cell_type": "code",
   "execution_count": null,
   "metadata": {
    "collapsed": true
   },
   "outputs": [],
   "source": [
    "plt.plot(Y, IntTh_nghs)\n",
    "plt.scatter(Y, IntNum_nghs)"
   ]
  },
  {
   "cell_type": "markdown",
   "metadata": {},
   "source": [
    "### Scaled Cumulative by me:"
   ]
  },
  {
   "cell_type": "code",
   "execution_count": null,
   "metadata": {
    "collapsed": true
   },
   "outputs": [],
   "source": [
    "def Ingh(X, Nmax, Xmax, X1, lam):\n",
    "    assert np.all(X>=X1) and Xmax > X1\n",
    "    W = Xmax - X1\n",
    "    x = (X - Xmax) / W\n",
    "    eps = W / lam\n",
    "    # print(W, x, eps, Xmax/W, (X-Xmax)/W)\n",
    "    return W * Nmax * Ingh_s(eps, -1, (X-Xmax)/W)"
   ]
  },
  {
   "cell_type": "code",
   "execution_count": null,
   "metadata": {
    "collapsed": true
   },
   "outputs": [],
   "source": [
    "Ingh(X, Nmax, Xmax, 10, lamb)"
   ]
  },
  {
   "cell_type": "code",
   "execution_count": 202,
   "metadata": {},
   "outputs": [
    {
     "data": {
      "text/plain": [
       "array([  0.00000000e+00,   4.23772838e-21,   2.88275451e-18, ...,\n",
       "         1.02892064e+03,   1.02892076e+03,   1.02892087e+03])"
      ]
     },
     "execution_count": 202,
     "metadata": {},
     "output_type": "execute_result"
    }
   ],
   "source": [
    "IntNum_ngh = np.empty(len(X))\n",
    "for idx, x in enumerate(X):\n",
    "    IntNum_ngh[idx] = si.quad(Ngh, X.min(), x, args = (Nmax, Xmax, X1, lamb))[0]\n",
    "IntNum_ngh"
   ]
  },
  {
   "cell_type": "code",
   "execution_count": null,
   "metadata": {
    "collapsed": true
   },
   "outputs": [],
   "source": []
  },
  {
   "cell_type": "code",
   "execution_count": 205,
   "metadata": {},
   "outputs": [
    {
     "name": "stdout",
     "output_type": "stream",
     "text": [
      "Numerical integration: 1028.92087485\n",
      "Analytical integration: 1028.92087485\n",
      "Integration by Matthews09 1028.93234794\n"
     ]
    },
    {
     "data": {
      "text/plain": [
       "514.46605970573398"
      ]
     },
     "execution_count": 205,
     "metadata": {},
     "output_type": "execute_result"
    }
   ],
   "source": [
    "Ith = Ingh(X, Nmax, Xmax, X1, lamb)\n",
    "print(\"Numerical integration:\", IntNum_ngh.max())\n",
    "print(\"Analytical integration:\", Ith.max())\n",
    "print(\"Integration by Matthews09\", Nmax * W * eps**(-1-eps) * np.exp(eps) * ss.gamma(1+eps))\n",
    "Ingh_s(eps, -1., 3) * W"
   ]
  },
  {
   "cell_type": "code",
   "execution_count": 206,
   "metadata": {},
   "outputs": [
    {
     "data": {
      "text/plain": [
       "<matplotlib.collections.PathCollection at 0x11ef29588>"
      ]
     },
     "execution_count": 206,
     "metadata": {},
     "output_type": "execute_result"
    },
    {
     "data": {
      "image/png": "[encoded data removed]",
      "text/plain": [
       "<matplotlib.figure.Figure at 0x11ef294e0>"
      ]
     },
     "metadata": {},
     "output_type": "display_data"
    }
   ],
   "source": [
    "plt.plot(X, IntNum_ngh)\n",
    "plt.scatter(X, Ith)"
   ]
  },
  {
   "cell_type": "code",
   "execution_count": null,
   "metadata": {
    "collapsed": true
   },
   "outputs": [],
   "source": []
  },
  {
   "cell_type": "markdown",
   "metadata": {},
   "source": [
    "## BIM !"
   ]
  },
  {
   "cell_type": "markdown",
   "metadata": {},
   "source": [
    "Let's try to invert this shit now:"
   ]
  },
  {
   "cell_type": "markdown",
   "metadata": {},
   "source": [
    "$ y = W * Ingh_s \\left(\\epsilon, \\frac{-X_{max}}{W}, \\frac{(X-X{max})}{W} \\right)$  \n",
    "$ y = W \\, Ingh_s(\\epsilon, -Xmax/W, (X-Xmax)/W) $"
   ]
  },
  {
   "cell_type": "markdown",
   "metadata": {},
   "source": [
    "$ Ingh_s (\\epsilon, x_{min}, x_{max}) = \\exp(\\epsilon) \\epsilon^{-(1+\\epsilon)} \\Gamma(1+\\epsilon) (\\Gamma(1+\\epsilon, \\epsilon (1+x_{min})) - \\Gamma(1+\\epsilon, \\epsilon (1+x_{max}))) $"
   ]
  },
  {
   "cell_type": "markdown",
   "metadata": {},
   "source": [
    "$$ Cum(\\epsilon, x) = W \\,\\exp(\\epsilon) \\Gamma(1+\\epsilon) \\, \\epsilon^{-(1+\\epsilon)} \\left( \\Gamma \\left(1+\\epsilon, \\epsilon (1 - \\frac{X_{max}}{W} )\\right) - \\Gamma \\left(1+\\epsilon, \\epsilon \\left(1 +  \\frac{(X-X_{max})}{W} \\right) \\right) \\right) $$"
   ]
  },
  {
   "cell_type": "markdown",
   "metadata": {},
   "source": [
    "$ \\Gamma(1+\\epsilon, \\epsilon \\left(1 + (X-Xmax)/W )\\right) = \\Gamma \\left(1+\\epsilon, \\epsilon (1 - \\frac{X_{max}}{W} )\\right) - \\frac {Cum(\\epsilon,x)} {W \\exp(\\epsilon) \\epsilon^{-(1 + \\epsilon)} \\Gamma(1+\\epsilon)}  $"
   ]
  },
  {
   "cell_type": "markdown",
   "metadata": {},
   "source": [
    "$$ \\epsilon (1 + (X-Xmax)/W ) )=  \\Gamma^{-1} \\left( 1+\\epsilon,   \\Gamma \\left(1+\\epsilon, \\epsilon (1 - \\frac{X_{max}}{W} )\\right) - \\frac {Y} {W \\exp(\\epsilon) \\epsilon^{-(1 + \\epsilon)} \\Gamma(1+\\epsilon)} \\right)   $$"
   ]
  },
  {
   "cell_type": "markdown",
   "metadata": {},
   "source": [
    "$$ X = Xmax + W \\left(\\frac{1}{\\epsilon}  \\Gamma^{-1}(...) - 1 \\right) $$"
   ]
  },
  {
   "cell_type": "markdown",
   "metadata": {},
   "source": [
    "Compute $\\displaystyle X_{max}/W $ once  \n",
    "Compute $ \\displaystyle \\Gamma \\left(1+\\epsilon, \\epsilon (1 - \\frac{X_{max}}{W} )\\right) $ once  \n",
    "$ Y = Cum(\\epsilon,x)$ is the unknown (random draw)"
   ]
  },
  {
   "cell_type": "code",
   "execution_count": 207,
   "metadata": {
    "collapsed": true
   },
   "outputs": [],
   "source": [
    "def CumInv(Y, Nmax, Xmax, X1, lam):\n",
    "    W = Xmax - X1\n",
    "    eps = W / lam\n",
    "    # c1 = ss.gamma(1+eps) * ss.gammaincc(1+eps, eps*(1 - Xmax/W))\n",
    "    # c1 = ss.gamma(1+eps) * np.nan_to_num(ss.gammaincc(1+eps, eps*max(1 - Xmax/W, 0.)))\n",
    "    c1 = ss.gamma(1 + eps)\n",
    "    c2 = Nmax * W * np.exp(eps) * eps**(-1-eps)\n",
    "    print(W, eps, c1, c2, (c1 - Y/c2)/ss.gamma(1+eps) / eps)\n",
    "    return Xmax + W * (- 1 + ss.gammainccinv(1+eps, (c1 - Y/c2)/ss.gamma(1+eps)) / eps)"
   ]
  },
  {
   "cell_type": "code",
   "execution_count": 208,
   "metadata": {},
   "outputs": [
    {
     "name": "stdout",
     "output_type": "stream",
     "text": [
      "557 7.957142857142857 36789.5540209 0.0135952723277 4.120874901e-05\n"
     ]
    },
    {
     "data": {
      "text/plain": [
       "1637.8577234470595"
      ]
     },
     "execution_count": 208,
     "metadata": {},
     "output_type": "execute_result"
    }
   ],
   "source": [
    "CumInv(500, 1, Xmax, 43, lamb)"
   ]
  },
  {
   "cell_type": "code",
   "execution_count": 215,
   "metadata": {},
   "outputs": [
    {
     "name": "stdout",
     "output_type": "stream",
     "text": [
      "590 8.428571428571429 101990.612202 0.0100885005564 [  1.18644068e-01   1.18644068e-01   1.18644068e-01 ...,   1.35029472e-06\n",
      "   1.33654781e-06   1.32293831e-06]\n"
     ]
    }
   ],
   "source": [
    "XX = CumInv(Ith, Nmax, Xmax, X1, lamb)"
   ]
  },
  {
   "cell_type": "code",
   "execution_count": 216,
   "metadata": {},
   "outputs": [
    {
     "name": "stdout",
     "output_type": "stream",
     "text": [
      "0.266203214038 3221.21358286\n",
      "10.0\n",
      "10.0\n"
     ]
    }
   ],
   "source": [
    "a = ss.gammaincc(eps, 10)\n",
    "b = ss.gamma(eps) * ss.gammaincc(eps, 10)\n",
    "print(a, b)\n",
    "print(ss.gammainccinv(eps, a))\n",
    "print(ss.gammainccinv(eps, b /ss.gamma(eps)))"
   ]
  },
  {
   "cell_type": "code",
   "execution_count": 219,
   "metadata": {},
   "outputs": [
    {
     "data": {
      "image/png": "[encoded data removed]",
      "text/plain": [
       "<matplotlib.figure.Figure at 0x11f1b70b8>"
      ]
     },
     "metadata": {},
     "output_type": "display_data"
    },
    {
     "data": {
      "text/plain": [
       "<matplotlib.collections.PathCollection at 0x11f803518>"
      ]
     },
     "execution_count": 219,
     "metadata": {},
     "output_type": "execute_result"
    },
    {
     "data": {
      "image/png": "[encoded data removed]",
      "text/plain": [
       "<matplotlib.figure.Figure at 0x11f803470>"
      ]
     },
     "metadata": {},
     "output_type": "display_data"
    }
   ],
   "source": [
    "I\n",
    "plt.scatter(XX, I, color ='blue')\n",
    "plt.plot(X, I, color ='red')\n",
    "plt.show()\n",
    "plt.plot(X, XX)\n",
    "plt.scatter(X,X)"
   ]
  },
  {
   "cell_type": "code",
   "execution_count": 220,
   "metadata": {},
   "outputs": [
    {
     "name": "stdout",
     "output_type": "stream",
     "text": [
      "590 8.428571428571429 101990.612202 0.0050442502782 0.116559280908\n"
     ]
    },
    {
     "data": {
      "text/plain": [
       "300.0000000000004"
      ]
     },
     "execution_count": 220,
     "metadata": {},
     "output_type": "execute_result"
    }
   ],
   "source": [
    "x = 300\n",
    "X1 = 10\n",
    "Cum = Ingh(x, 1, Xmax, X1, lamb)\n",
    "CumInv(Cum, 1, Xmax, X1, lamb)"
   ]
  },
  {
   "cell_type": "markdown",
   "metadata": {},
   "source": [
    "# GROS BIM"
   ]
  },
  {
   "cell_type": "code",
   "execution_count": 229,
   "metadata": {
    "collapsed": true
   },
   "outputs": [],
   "source": [
    "Y = np.random.uniform(0,I.max(),10000)"
   ]
  },
  {
   "cell_type": "code",
   "execution_count": 230,
   "metadata": {},
   "outputs": [
    {
     "name": "stdout",
     "output_type": "stream",
     "text": [
      "590 8.428571428571429 101990.612202 0.0050442502782 [ 0.05245598  0.07336811  0.02986763 ...,  0.0203957   0.0418879\n",
      "  0.10766811]\n"
     ]
    }
   ],
   "source": [
    "CI = CumInv(Y, 1, Xmax, X1, lamb)"
   ]
  },
  {
   "cell_type": "code",
   "execution_count": 231,
   "metadata": {},
   "outputs": [
    {
     "data": {
      "text/plain": [
       "[<matplotlib.lines.Line2D at 0x11f30d6d8>]"
      ]
     },
     "execution_count": 231,
     "metadata": {},
     "output_type": "execute_result"
    },
    {
     "data": {
      "image/png": "[encoded data removed]",
      "text/plain": [
       "<matplotlib.figure.Figure at 0x11f30d898>"
      ]
     },
     "metadata": {},
     "output_type": "display_data"
    }
   ],
   "source": [
    "plt.scatter(CI, Y)\n",
    "plt.plot(X, I)"
   ]
  },
  {
   "cell_type": "code",
   "execution_count": 232,
   "metadata": {},
   "outputs": [
    {
     "data": {
      "text/plain": [
       "(array([   42.,   237.,   601.,  1086.,  1409.,  1525.,  1376.,  1207.,\n",
       "          907.,   607.,   415.,   240.,   159.,    87.,    51.,    24.,\n",
       "           12.,     5.,     7.,     3.]),\n",
       " array([  163.61543767,   243.32294915,   323.03046062,   402.7379721 ,\n",
       "          482.44548358,   562.15299505,   641.86050653,   721.56801801,\n",
       "          801.27552948,   880.98304096,   960.69055244,  1040.39806391,\n",
       "         1120.10557539,  1199.81308687,  1279.52059834,  1359.22810982,\n",
       "         1438.9356213 ,  1518.64313277,  1598.35064425,  1678.05815573,\n",
       "         1757.76566721]),\n",
       " <a list of 20 Patch objects>)"
      ]
     },
     "execution_count": 232,
     "metadata": {},
     "output_type": "execute_result"
    },
    {
     "data": {
      "image/png": "[encoded data removed]",
      "text/plain": [
       "<matplotlib.figure.Figure at 0x1202ace10>"
      ]
     },
     "metadata": {},
     "output_type": "display_data"
    }
   ],
   "source": [
    "plt.hist(CI, bins=20);"
   ]
  },
  {
   "cell_type": "code",
   "execution_count": null,
   "metadata": {
    "collapsed": true
   },
   "outputs": [],
   "source": []
  },
  {
   "cell_type": "markdown",
   "metadata": {
    "collapsed": true
   },
   "source": [
    "# Radial distribution"
   ]
  },
  {
   "cell_type": "markdown",
   "metadata": {},
   "source": [
    "$$ f(r) = \\frac{2 r R^2}{(r^2 + R^2)^2} $$"
   ]
  },
  {
   "cell_type": "markdown",
   "metadata": {},
   "source": [
    "$$ \\int f(r) dr = -\\frac{R^2}{r^2 + R^2}$$"
   ]
  },
  {
   "cell_type": "markdown",
   "metadata": {},
   "source": [
    "$$ Cumf = \\int_0^x f(r) dr = 1 - \\frac{1}{1 + (x/R)^2} $$"
   ]
  },
  {
   "cell_type": "markdown",
   "metadata": {},
   "source": [
    "$$ \\int_0^\\infty f(r) dr = 1 $$"
   ]
  },
  {
   "cell_type": "markdown",
   "metadata": {},
   "source": [
    "If $ y = Cumf(x) $ then  \n",
    "$$ x = R \\sqrt{\\frac{y}{1-y}}$$"
   ]
  },
  {
   "cell_type": "code",
   "execution_count": 259,
   "metadata": {
    "collapsed": true
   },
   "outputs": [],
   "source": [
    "def f(r, R):\n",
    "    return 2*r*R**2/(r**2+R**2)**2"
   ]
  },
  {
   "cell_type": "code",
   "execution_count": 270,
   "metadata": {
    "collapsed": true
   },
   "outputs": [],
   "source": [
    "R = 30\n",
    "r = np.linspace(0, 10*R, 1000)\n",
    "fr = f(r,R)"
   ]
  },
  {
   "cell_type": "code",
   "execution_count": 271,
   "metadata": {},
   "outputs": [
    {
     "data": {
      "text/plain": [
       "[<matplotlib.lines.Line2D at 0x123a7b860>]"
      ]
     },
     "execution_count": 271,
     "metadata": {},
     "output_type": "execute_result"
    },
    {
     "data": {
      "image/png": "[encoded data removed]",
      "text/plain": [
       "<matplotlib.figure.Figure at 0x122fcaa20>"
      ]
     },
     "metadata": {},
     "output_type": "display_data"
    }
   ],
   "source": [
    "plt.plot(r,fr)"
   ]
  },
  {
   "cell_type": "code",
   "execution_count": 272,
   "metadata": {
    "collapsed": true
   },
   "outputs": [],
   "source": [
    "def f_integral(x_min, x_max, R):\n",
    "    return 1/(1+(x_min/R)**2) - 1/(1+(x_max/R)**2)"
   ]
  },
  {
   "cell_type": "code",
   "execution_count": 273,
   "metadata": {
    "collapsed": true
   },
   "outputs": [],
   "source": [
    "def Cum_f(x, R):\n",
    "    return f_integral(0, x, R)"
   ]
  },
  {
   "cell_type": "code",
   "execution_count": 274,
   "metadata": {
    "collapsed": true
   },
   "outputs": [],
   "source": [
    "Cum_f_num = np.empty(len(r))\n",
    "for idx, v in enumerate(r):\n",
    "    Cum_f_num[idx] = si.quad(f, 0, v, args=(R,))[0]"
   ]
  },
  {
   "cell_type": "code",
   "execution_count": 280,
   "metadata": {},
   "outputs": [
    {
     "data": {
      "text/plain": [
       "<matplotlib.collections.PathCollection at 0x123df06a0>"
      ]
     },
     "execution_count": 280,
     "metadata": {},
     "output_type": "execute_result"
    },
    {
     "data": {
      "image/png": "[encoded data removed]",
      "text/plain": [
       "<matplotlib.figure.Figure at 0x123df0390>"
      ]
     },
     "metadata": {},
     "output_type": "display_data"
    }
   ],
   "source": [
    "Cf = Cum_f(r, R)\n",
    "plt.plot(r, Cf)\n",
    "plt.scatter(r, Cum_f_num)"
   ]
  },
  {
   "cell_type": "code",
   "execution_count": 276,
   "metadata": {
    "collapsed": true
   },
   "outputs": [],
   "source": [
    "def Cum_f_inv(y, R):\n",
    "    return R * np.sqrt(y/(1-y))"
   ]
  },
  {
   "cell_type": "code",
   "execution_count": 284,
   "metadata": {
    "collapsed": true
   },
   "outputs": [],
   "source": [
    "rr = Cum_f_inv(Cf, R)"
   ]
  },
  {
   "cell_type": "code",
   "execution_count": 285,
   "metadata": {},
   "outputs": [
    {
     "data": {
      "text/plain": [
       "<matplotlib.collections.PathCollection at 0x12431ee80>"
      ]
     },
     "execution_count": 285,
     "metadata": {},
     "output_type": "execute_result"
    },
    {
     "data": {
      "image/png": "[encoded data removed]",
      "text/plain": [
       "<matplotlib.figure.Figure at 0x12431eba8>"
      ]
     },
     "metadata": {},
     "output_type": "display_data"
    }
   ],
   "source": [
    "plt.plot(r, rr)\n",
    "plt.scatter(r, r)"
   ]
  },
  {
   "cell_type": "code",
   "execution_count": 322,
   "metadata": {},
   "outputs": [
    {
     "data": {
      "text/plain": [
       "<module 'object' from '/Users/thomasvuillaume/Work/Dev/ImArray/ImArray/object.py'>"
      ]
     },
     "execution_count": 322,
     "metadata": {},
     "output_type": "execute_result"
    }
   ],
   "source": [
    "reload(obj)"
   ]
  },
  {
   "cell_type": "code",
   "execution_count": null,
   "metadata": {
    "collapsed": true
   },
   "outputs": [],
   "source": []
  },
  {
   "cell_type": "code",
   "execution_count": 332,
   "metadata": {},
   "outputs": [
    {
     "data": {
      "image/png": "[encoded data removed]",
      "text/plain": [
       "<matplotlib.figure.Figure at 0x1252a5128>"
      ]
     },
     "metadata": {},
     "output_type": "display_data"
    },
    {
     "data": {
      "image/png": "[encoded data removed]",
      "text/plain": [
       "<matplotlib.figure.Figure at 0x125905da0>"
      ]
     },
     "metadata": {},
     "output_type": "display_data"
    }
   ],
   "source": [
    "s = obj.gaisser_hillas_shower(0, 0, 70, 0, [0,10,0], 10000)\n",
    "plt.hist(s[:,0], range=([-100,100]), bins =25);\n",
    "plt.hist(s[:,1], range=([-100,100]), bins =25);\n",
    "plt.show()\n",
    "plt.hist(s[:,2], bins =25);"
   ]
  },
  {
   "cell_type": "code",
   "execution_count": null,
   "metadata": {
    "collapsed": true
   },
   "outputs": [],
   "source": []
  },
  {
   "cell_type": "code",
   "execution_count": 3,
   "metadata": {
    "collapsed": true
   },
   "outputs": [],
   "source": [
    "g_old = obj.Get_pos_Gaisser_Hillas(npoints, salt, saz, impact_point)"
   ]
  },
  {
   "cell_type": "code",
   "execution_count": 6,
   "metadata": {},
   "outputs": [
    {
     "data": {
      "image/png": "[encoded data removed]",
      "text/plain": [
       "<matplotlib.figure.Figure at 0x119d8c518>"
      ]
     },
     "metadata": {},
     "output_type": "display_data"
    }
   ],
   "source": [
    "plt.hist(g_old[:,2], bins=30);"
   ]
  },
  {
   "cell_type": "code",
   "execution_count": 8,
   "metadata": {
    "collapsed": true
   },
   "outputs": [],
   "source": [
    "Y = np.random.uniform(0, 1, npoints)"
   ]
  },
  {
   "cell_type": "code",
   "execution_count": 13,
   "metadata": {
    "collapsed": true
   },
   "outputs": [],
   "source": [
    "max_ngh = obj.gaisser_hillas_integral_0_inf(Nmax, Xmax, X1, lamb)\n",
    "NZ = obj.gaisser_hillas_integral_inverse(Y * max_ngh, Nmax, Xmax, X1, lamb)"
   ]
  },
  {
   "cell_type": "code",
   "execution_count": 16,
   "metadata": {},
   "outputs": [
    {
     "data": {
      "image/png": "[encoded data removed]",
      "text/plain": [
       "<matplotlib.figure.Figure at 0x11ae44860>"
      ]
     },
     "metadata": {},
     "output_type": "display_data"
    }
   ],
   "source": [
    "plt.hist(NZ, bins=30);"
   ]
  },
  {
   "cell_type": "code",
   "execution_count": null,
   "metadata": {
    "collapsed": true
   },
   "outputs": [],
   "source": []
  }
 ],
 "metadata": {
  "kernelspec": {
   "display_name": "Python 3",
   "language": "python",
   "name": "python3"
  },
  "language_info": {
   "codemirror_mode": {
    "name": "ipython",
    "version": 3
   },
   "file_extension": ".py",
   "mimetype": "text/x-python",
   "name": "python",
   "nbconvert_exporter": "python",
   "pygments_lexer": "ipython3",
   "version": "3.5.2"
  }
 },
 "nbformat": 4,
 "nbformat_minor": 1
}
