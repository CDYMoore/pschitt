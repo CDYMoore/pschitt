{
 "cells": [
  {
   "cell_type": "markdown",
   "metadata": {},
   "source": [
    "## Example for ImArray\n",
    "ImArray is a software to image an object in the sky by an array of ground Telescopes\n",
    "Copyright (C) 2016  Thomas Vuillaume\n",
    "\n",
    "This program is free software: you can redistribute it and/or modify\n",
    "it under the terms of the GNU General Public License as published by\n",
    "the Free Software Foundation, either version 3 of the License, or\n",
    "(at your option) any later version.\n",
    "\n",
    "This program is distributed in the hope that it will be useful,\n",
    "but WITHOUT ANY WARRANTY; without even the implied warranty of\n",
    "MERCHANTABILITY or FITNESS FOR A PARTICULAR PURPOSE.  See the\n",
    "GNU General Public License for more details.\n",
    "\n",
    "You should have received a copy of the GNU General Public License\n",
    "along with this program.  If not, see <http://www.gnu.org/licenses/>\n",
    "\n",
    "The author may be contacted @\n",
    "thomas.vuillaume@lapp.in2p3.fr"
   ]
  },
  {
   "cell_type": "raw",
   "metadata": {},
   "source": []
  },
  {
   "cell_type": "markdown",
   "metadata": {},
   "source": [
    "Let's start with some imports"
   ]
  },
  {
   "cell_type": "code",
   "execution_count": 1,
   "metadata": {
    "collapsed": true
   },
   "outputs": [],
   "source": [
    "import geometry as geo\n",
    "import numpy as np\n",
    "import matplotlib.pyplot as plt\n",
    "import time\n",
    "import math\n",
    "import object as obj\n",
    "import CameraImage as ci\n",
    "import Hillas as hillas\n",
    "import os\n",
    "import vizualisation as viz"
   ]
  },
  {
   "cell_type": "markdown",
   "metadata": {},
   "source": [
    "We can define some shower parameters:"
   ]
  },
  {
   "cell_type": "code",
   "execution_count": 2,
   "metadata": {
    "collapsed": false
   },
   "outputs": [],
   "source": [
    "impact_point = np.array([0, 10, 0])\n",
    "\n",
    "# shower direction\n",
    "salt = math.radians(74)\n",
    "saz = math.radians(0)\n",
    "\n",
    "# pointing direction\n",
    "talt = math.radians(74)\n",
    "taz = math.radians(0)\n",
    "\n",
    "# shower parameters\n",
    "shower_top = 15000\n",
    "shower_length = 12000\n",
    "shower_width = 200\n",
    "\n",
    "#number of points in the shower\n",
    "npoints = 50000"
   ]
  },
  {
   "cell_type": "markdown",
   "metadata": {},
   "source": [
    "Here, our shower is a geometrical object (an ellpisoid in this case) randomly filled with points:"
   ]
  },
  {
   "cell_type": "code",
   "execution_count": 3,
   "metadata": {
    "collapsed": false
   },
   "outputs": [],
   "source": [
    "shower = obj.random_ellipsoide(shower_top, shower_length, shower_width, salt, saz, impact_point, npoints)"
   ]
  },
  {
   "cell_type": "markdown",
   "metadata": {},
   "source": [
    "Let's now define a telescopes array configuration:"
   ]
  },
  {
   "cell_type": "code",
   "execution_count": 20,
   "metadata": {
    "collapsed": true
   },
   "outputs": [],
   "source": [
    "tel_normal = geo.altaz_to_normal(talt, taz)\n",
    "\n",
    "tel1 = geo.Telescope([500, 100, -100], tel_normal, 0)\n",
    "tel2 = geo.Telescope([-10, 300, 100], tel_normal, 0)\n",
    "tel3 = geo.Telescope([-500, 400, 10], tel_normal, 0)\n",
    "tel4 = geo.Telescope([-350, -500, 0], tel_normal, 0)\n",
    "tel5 = geo.Telescope([600, -100, 150], tel_normal, 0)\n",
    "tel6 = geo.Telescope([300, -300, 50], tel_normal, 0)\n",
    "tel7 = geo.Telescope([80, 0, 0], tel_normal, 0)\n",
    "tel8 = geo.Telescope([-80, 0, 0], tel_normal, 0)\n",
    "tel9 = geo.Telescope([0, -80, 0], tel_normal, 0)\n",
    "tel10 = geo.Telescope([0, 80, 0], tel_normal, 0)\n",
    "\n",
    "alltel = [tel1, tel2, tel3, tel4, tel5, tel6, tel7, tel8, tel9, tel10]"
   ]
  },
  {
   "cell_type": "markdown",
   "metadata": {},
   "source": [
    "The telecopes positions can also be load from a data file with:"
   ]
  },
  {
   "cell_type": "code",
   "execution_count": 21,
   "metadata": {
    "collapsed": false
   },
   "outputs": [],
   "source": [
    "#alltel = geo.load_telescopes(\"data/tel_pos.dat\")"
   ]
  },
  {
   "cell_type": "markdown",
   "metadata": {},
   "source": [
    "We can check that no pair of telescopes are set at the same location:"
   ]
  },
  {
   "cell_type": "code",
   "execution_count": 22,
   "metadata": {
    "collapsed": false
   },
   "outputs": [
    {
     "data": {
      "text/plain": [
       "True"
      ]
     },
     "execution_count": 22,
     "metadata": {},
     "output_type": "execute_result"
    }
   ],
   "source": [
    "geo.telescopes_unicity(alltel)"
   ]
  },
  {
   "cell_type": "markdown",
   "metadata": {},
   "source": [
    "Let's vizualise what we have done so far:"
   ]
  },
  {
   "cell_type": "code",
   "execution_count": 23,
   "metadata": {
    "collapsed": true
   },
   "outputs": [],
   "source": [
    "viz.plot_shower3d(shower,alltel)"
   ]
  },
  {
   "cell_type": "code",
   "execution_count": 24,
   "metadata": {
    "collapsed": false
   },
   "outputs": [],
   "source": [
    "triggered_telescopes = []\n",
    "trigger_intensity = 0.\n",
    "\n",
    "noise = 0\n",
    "HP = []"
   ]
  },
  {
   "cell_type": "code",
   "execution_count": 25,
   "metadata": {
    "collapsed": false
   },
   "outputs": [],
   "source": [
    "for tel in alltel:\n",
    "    shower_image = geo.image_shower_pfo(shower, tel)\n",
    "    shower_cam = geo.site_to_camera_cartesian(shower_image, tel)\n",
    "    pixels_signal = ci.camera_image(tel, shower_cam[:, [0, 1]], noise)\n",
    "\n",
    "    if len(pixels_signal.nonzero()[0]) > 1 and pixels_signal.sum() > trigger_intensity:\n",
    "        hp = hillas.hillas_parameters(tel.pixel_tab[:, 0], tel.pixel_tab[:, 1], pixels_signal)\n",
    "        HP.append(hp)\n",
    "        triggered_telescopes.append(tel)\n"
   ]
  },
  {
   "cell_type": "code",
   "execution_count": 29,
   "metadata": {
    "collapsed": false
   },
   "outputs": [],
   "source": [
    "pa = None\n",
    "p = None"
   ]
  },
  {
   "cell_type": "markdown",
   "metadata": {},
   "source": [
    "One can now compute the impact parameter with two Hillas reconstruction:"
   ]
  },
  {
   "cell_type": "code",
   "execution_count": 30,
   "metadata": {
    "collapsed": true
   },
   "outputs": [],
   "source": [
    "pa = hillas.impact_parameter_average(triggered_telescopes, HP, talt, taz)\n",
    "p = hillas.impact_parameter_ponderated(triggered_telescopes, HP, talt, taz)"
   ]
  },
  {
   "cell_type": "markdown",
   "metadata": {},
   "source": [
    "And compare the results:"
   ]
  },
  {
   "cell_type": "code",
   "execution_count": 31,
   "metadata": {
    "collapsed": false
   },
   "outputs": [
    {
     "name": "stdout",
     "output_type": "stream",
     "text": [
      "Real impact parameter :  [ 0 10  0]\n",
      "Reconstruction with simple average = [4.0699870494689199, 45.993253615444083, 0.0] \tError = 36.22m\n",
      "Reconstruction with ponderation and cut = [-5.5482795886712806, 4.9422180930660113, 0.0] \tError = 7.51m\n"
     ]
    }
   ],
   "source": [
    "print(\"Real impact parameter : \", impact_point)\n",
    "print(\"Reconstruction with simple average = %s \\tError = %.2fm\" % (pa, math.sqrt(((impact_point-pa)**2).sum())))\n",
    "print(\"Reconstruction with ponderation and cut = %s \\tError = %.2fm\" % (p, math.sqrt(((impact_point-p)**2).sum())))"
   ]
  },
  {
   "cell_type": "code",
   "execution_count": null,
   "metadata": {
    "collapsed": false
   },
   "outputs": [],
   "source": []
  },
  {
   "cell_type": "code",
   "execution_count": null,
   "metadata": {
    "collapsed": false
   },
   "outputs": [],
   "source": []
  },
  {
   "cell_type": "code",
   "execution_count": 129,
   "metadata": {
    "collapsed": false
   },
   "outputs": [],
   "source": [
    "shower_image = geo.image_shower_pfo_2(shower, alltel[0])\n",
    "plt.scatter(shower_image[:,0], shower_image[:,1])\n",
    "plt.show()"
   ]
  },
  {
   "cell_type": "code",
   "execution_count": 130,
   "metadata": {
    "collapsed": false
   },
   "outputs": [],
   "source": [
    "shower_cam = geo.site_to_camera_cartesian_2(shower_image, alltel[0])\n",
    "plt.scatter(shower_cam[:,0], shower_cam[:,1])\n",
    "plt.show()"
   ]
  },
  {
   "cell_type": "code",
   "execution_count": 131,
   "metadata": {
    "collapsed": false
   },
   "outputs": [],
   "source": [
    "pixels_signal = ci.camera_image(alltel[0], shower_cam[:, [0, 1]], noise)\n",
    "#for point in shower_image:\n",
    "#    print(geo.is_point_in_camera_plane(point, tel))\n",
    "    \n",
    "plt.scatter(tel.pixel_tab[:,0],tel.pixel_tab[:,1],c= pixels_signal)\n",
    "plt.axis('equal')\n",
    "plt.show()"
   ]
  }
 ],
 "metadata": {
  "kernelspec": {
   "display_name": "Python 3",
   "language": "python",
   "name": "python3"
  },
  "language_info": {
   "codemirror_mode": {
    "name": "ipython",
    "version": 3
   },
   "file_extension": ".py",
   "mimetype": "text/x-python",
   "name": "python",
   "nbconvert_exporter": "python",
   "pygments_lexer": "ipython3",
   "version": "3.5.2"
  }
 },
 "nbformat": 4,
 "nbformat_minor": 0
}
